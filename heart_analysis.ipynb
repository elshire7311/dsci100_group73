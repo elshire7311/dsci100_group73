{
 "cells": [
  {
   "cell_type": "code",
   "execution_count": 1,
   "id": "abf5c078-3fe1-4f5b-8f65-5ffe0de8a41b",
   "metadata": {},
   "outputs": [],
   "source": [
    "#Project on Heart Disease"
   ]
  },
  {
   "cell_type": "code",
   "execution_count": 9,
   "id": "3e471006-c545-458f-bf29-b1b17e8c707e",
   "metadata": {},
   "outputs": [
    {
     "ename": "ERROR",
     "evalue": "Error in parse(text = x, srcfile = src): <text>:6:7: unexpected symbol\n5: Introduction:\n6: Heart disease\n         ^\n",
     "output_type": "error",
     "traceback": [
      "Error in parse(text = x, srcfile = src): <text>:6:7: unexpected symbol\n5: Introduction:\n6: Heart disease\n         ^\nTraceback:\n"
     ]
    }
   ],
   "source": [
    "#Prav Cells Below (helps out with reducing errors)\n",
    "\n",
    "#Introduction\n",
    "\n",
    "Introduction:\n",
    "Heart disease is a broad term that refers to different heart conditions. Something in common is their effect on blood flow and dilation of veins to the heart. Other factors such as age, sex, and exercise are factors that are closely linked with heart disease. In our directory there are four data bases being, Cleveland, Hungarian, Long Beach (California), and from switzerland. We decided to do choose Long Beach due to similar culture such as food and lifestyle between Vancouver and Long beach. \n",
    "\n",
    "\n",
    "The relationship between these factors and their effect on predicting heart disease can be further examined through our research question: \n",
    "This project aims to provide a classification model which will predict whether a person has heart disease based on the factors of \n",
    "\n",
    " 1. Cleveland Clinic Foundation (cleveland.data)\n",
    "     2. Hungarian Institute of Cardiology, Budapest (hungarian.data)\n",
    "     3. V.A. Medical Center, Long Beach, CA (long-beach-va.data)\n",
    "     4. University Hospital, Zurich, Switzerland (switzerland.data)\n",
    "\n",
    "\n",
    "\n",
    "\n",
    "Cleveland Clinic Foundation (cleveland.data)\n",
    "     2. Hungarian Institute of Cardiology, Budapest (hungarian.data)\n",
    "     3. V.A. Medical Center, Long Beach, CA (long-beach-va.data)\n",
    "     4. University Hospital, Zurich, Switzerland (switzerland.data)\n",
    "\n",
    "\n",
    "This project aims to build a classification model to predict whether a patient presenting to the hospital would have a risk of heart disease by taking into account results from multiple medical tests. \n",
    "The dataset (https://archive.ics.uci.edu/ml/datasets/Heart+Disease) provides us with multiple attributes such as age, sex, \n",
    "\n",
    "The term “heart disease” refers to several types of heart conditions. The most common type of heart disease in the United States is coronary artery disease (CAD), which affects the blood flow to the heart. Decreased blood flow can cause a heart attack.\n"
   ]
  },
  {
   "cell_type": "code",
   "execution_count": 2,
   "id": "8e08961d-6c29-4017-a55d-55bafb8e2c5a",
   "metadata": {},
   "outputs": [
    {
     "name": "stderr",
     "output_type": "stream",
     "text": [
      "── \u001b[1mAttaching packages\u001b[22m ─────────────────────────────────────── tidyverse 1.3.1 ──\n",
      "\n",
      "\u001b[32m✔\u001b[39m \u001b[34mggplot2\u001b[39m 3.3.6     \u001b[32m✔\u001b[39m \u001b[34mpurrr  \u001b[39m 0.3.4\n",
      "\u001b[32m✔\u001b[39m \u001b[34mtibble \u001b[39m 3.1.7     \u001b[32m✔\u001b[39m \u001b[34mdplyr  \u001b[39m 1.0.9\n",
      "\u001b[32m✔\u001b[39m \u001b[34mtidyr  \u001b[39m 1.2.0     \u001b[32m✔\u001b[39m \u001b[34mstringr\u001b[39m 1.4.0\n",
      "\u001b[32m✔\u001b[39m \u001b[34mreadr  \u001b[39m 2.1.2     \u001b[32m✔\u001b[39m \u001b[34mforcats\u001b[39m 0.5.1\n",
      "\n",
      "── \u001b[1mConflicts\u001b[22m ────────────────────────────────────────── tidyverse_conflicts() ──\n",
      "\u001b[31m✖\u001b[39m \u001b[34mdplyr\u001b[39m::\u001b[32mfilter()\u001b[39m masks \u001b[34mstats\u001b[39m::filter()\n",
      "\u001b[31m✖\u001b[39m \u001b[34mdplyr\u001b[39m::\u001b[32mlag()\u001b[39m    masks \u001b[34mstats\u001b[39m::lag()\n",
      "\n",
      "── \u001b[1mAttaching packages\u001b[22m ────────────────────────────────────── tidymodels 1.0.0 ──\n",
      "\n",
      "\u001b[32m✔\u001b[39m \u001b[34mbroom       \u001b[39m 1.0.0     \u001b[32m✔\u001b[39m \u001b[34mrsample     \u001b[39m 1.0.0\n",
      "\u001b[32m✔\u001b[39m \u001b[34mdials       \u001b[39m 1.0.0     \u001b[32m✔\u001b[39m \u001b[34mtune        \u001b[39m 1.0.0\n",
      "\u001b[32m✔\u001b[39m \u001b[34minfer       \u001b[39m 1.0.2     \u001b[32m✔\u001b[39m \u001b[34mworkflows   \u001b[39m 1.0.0\n",
      "\u001b[32m✔\u001b[39m \u001b[34mmodeldata   \u001b[39m 1.0.0     \u001b[32m✔\u001b[39m \u001b[34mworkflowsets\u001b[39m 1.0.0\n",
      "\u001b[32m✔\u001b[39m \u001b[34mparsnip     \u001b[39m 1.0.0     \u001b[32m✔\u001b[39m \u001b[34myardstick   \u001b[39m 1.0.0\n",
      "\u001b[32m✔\u001b[39m \u001b[34mrecipes     \u001b[39m 1.0.1     \n",
      "\n",
      "── \u001b[1mConflicts\u001b[22m ───────────────────────────────────────── tidymodels_conflicts() ──\n",
      "\u001b[31m✖\u001b[39m \u001b[34mscales\u001b[39m::\u001b[32mdiscard()\u001b[39m masks \u001b[34mpurrr\u001b[39m::discard()\n",
      "\u001b[31m✖\u001b[39m \u001b[34mdplyr\u001b[39m::\u001b[32mfilter()\u001b[39m   masks \u001b[34mstats\u001b[39m::filter()\n",
      "\u001b[31m✖\u001b[39m \u001b[34mrecipes\u001b[39m::\u001b[32mfixed()\u001b[39m  masks \u001b[34mstringr\u001b[39m::fixed()\n",
      "\u001b[31m✖\u001b[39m \u001b[34mdplyr\u001b[39m::\u001b[32mlag()\u001b[39m      masks \u001b[34mstats\u001b[39m::lag()\n",
      "\u001b[31m✖\u001b[39m \u001b[34myardstick\u001b[39m::\u001b[32mspec()\u001b[39m masks \u001b[34mreadr\u001b[39m::spec()\n",
      "\u001b[31m✖\u001b[39m \u001b[34mrecipes\u001b[39m::\u001b[32mstep()\u001b[39m   masks \u001b[34mstats\u001b[39m::step()\n",
      "\u001b[34m•\u001b[39m Use suppressPackageStartupMessages() to eliminate package startup messages\n",
      "\n"
     ]
    }
   ],
   "source": [
    "#Adding in librarys\n",
    "library(tidyverse)\n",
    "library(tidymodels)\n"
   ]
  },
  {
   "cell_type": "code",
   "execution_count": 3,
   "id": "2a0e4bfb-feb3-487a-b2ba-aaba2a5d4ed8",
   "metadata": {},
   "outputs": [
    {
     "name": "stderr",
     "output_type": "stream",
     "text": [
      "\u001b[1mRows: \u001b[22m\u001b[34m200\u001b[39m \u001b[1mColumns: \u001b[22m\u001b[34m14\u001b[39m\n",
      "\u001b[36m──\u001b[39m \u001b[1mColumn specification\u001b[22m \u001b[36m────────────────────────────────────────────────────────\u001b[39m\n",
      "\u001b[1mDelimiter:\u001b[22m \",\"\n",
      "\u001b[31mchr\u001b[39m (9): X4, X5, X6, X8, X9, X10, X11, X12, X13\n",
      "\u001b[32mdbl\u001b[39m (5): X1, X2, X3, X7, X14\n",
      "\n",
      "\u001b[36mℹ\u001b[39m Use `spec()` to retrieve the full column specification for this data.\n",
      "\u001b[36mℹ\u001b[39m Specify the column types or set `show_col_types = FALSE` to quiet this message.\n"
     ]
    },
    {
     "data": {
      "text/html": [
       "<table class=\"dataframe\">\n",
       "<caption>A tibble: 5 × 14</caption>\n",
       "<thead>\n",
       "\t<tr><th scope=col>X1</th><th scope=col>X2</th><th scope=col>X3</th><th scope=col>X4</th><th scope=col>X5</th><th scope=col>X6</th><th scope=col>X7</th><th scope=col>X8</th><th scope=col>X9</th><th scope=col>X10</th><th scope=col>X11</th><th scope=col>X12</th><th scope=col>X13</th><th scope=col>X14</th></tr>\n",
       "\t<tr><th scope=col>&lt;dbl&gt;</th><th scope=col>&lt;dbl&gt;</th><th scope=col>&lt;dbl&gt;</th><th scope=col>&lt;chr&gt;</th><th scope=col>&lt;chr&gt;</th><th scope=col>&lt;chr&gt;</th><th scope=col>&lt;dbl&gt;</th><th scope=col>&lt;chr&gt;</th><th scope=col>&lt;chr&gt;</th><th scope=col>&lt;chr&gt;</th><th scope=col>&lt;chr&gt;</th><th scope=col>&lt;chr&gt;</th><th scope=col>&lt;chr&gt;</th><th scope=col>&lt;dbl&gt;</th></tr>\n",
       "</thead>\n",
       "<tbody>\n",
       "\t<tr><td>63</td><td>1</td><td>4</td><td>140</td><td>260</td><td>0</td><td>1</td><td>112</td><td>1</td><td>3  </td><td>2</td><td>?</td><td>?</td><td>2</td></tr>\n",
       "\t<tr><td>44</td><td>1</td><td>4</td><td>130</td><td>209</td><td>0</td><td>1</td><td>127</td><td>0</td><td>0  </td><td>?</td><td>?</td><td>?</td><td>0</td></tr>\n",
       "\t<tr><td>60</td><td>1</td><td>4</td><td>132</td><td>218</td><td>0</td><td>1</td><td>140</td><td>1</td><td>1.5</td><td>3</td><td>?</td><td>?</td><td>2</td></tr>\n",
       "\t<tr><td>55</td><td>1</td><td>4</td><td>142</td><td>228</td><td>0</td><td>1</td><td>149</td><td>1</td><td>2.5</td><td>1</td><td>?</td><td>?</td><td>1</td></tr>\n",
       "\t<tr><td>66</td><td>1</td><td>3</td><td>110</td><td>213</td><td>1</td><td>2</td><td>99 </td><td>1</td><td>1.3</td><td>2</td><td>?</td><td>?</td><td>0</td></tr>\n",
       "</tbody>\n",
       "</table>\n"
      ],
      "text/latex": [
       "A tibble: 5 × 14\n",
       "\\begin{tabular}{llllllllllllll}\n",
       " X1 & X2 & X3 & X4 & X5 & X6 & X7 & X8 & X9 & X10 & X11 & X12 & X13 & X14\\\\\n",
       " <dbl> & <dbl> & <dbl> & <chr> & <chr> & <chr> & <dbl> & <chr> & <chr> & <chr> & <chr> & <chr> & <chr> & <dbl>\\\\\n",
       "\\hline\n",
       "\t 63 & 1 & 4 & 140 & 260 & 0 & 1 & 112 & 1 & 3   & 2 & ? & ? & 2\\\\\n",
       "\t 44 & 1 & 4 & 130 & 209 & 0 & 1 & 127 & 0 & 0   & ? & ? & ? & 0\\\\\n",
       "\t 60 & 1 & 4 & 132 & 218 & 0 & 1 & 140 & 1 & 1.5 & 3 & ? & ? & 2\\\\\n",
       "\t 55 & 1 & 4 & 142 & 228 & 0 & 1 & 149 & 1 & 2.5 & 1 & ? & ? & 1\\\\\n",
       "\t 66 & 1 & 3 & 110 & 213 & 1 & 2 & 99  & 1 & 1.3 & 2 & ? & ? & 0\\\\\n",
       "\\end{tabular}\n"
      ],
      "text/markdown": [
       "\n",
       "A tibble: 5 × 14\n",
       "\n",
       "| X1 &lt;dbl&gt; | X2 &lt;dbl&gt; | X3 &lt;dbl&gt; | X4 &lt;chr&gt; | X5 &lt;chr&gt; | X6 &lt;chr&gt; | X7 &lt;dbl&gt; | X8 &lt;chr&gt; | X9 &lt;chr&gt; | X10 &lt;chr&gt; | X11 &lt;chr&gt; | X12 &lt;chr&gt; | X13 &lt;chr&gt; | X14 &lt;dbl&gt; |\n",
       "|---|---|---|---|---|---|---|---|---|---|---|---|---|---|\n",
       "| 63 | 1 | 4 | 140 | 260 | 0 | 1 | 112 | 1 | 3   | 2 | ? | ? | 2 |\n",
       "| 44 | 1 | 4 | 130 | 209 | 0 | 1 | 127 | 0 | 0   | ? | ? | ? | 0 |\n",
       "| 60 | 1 | 4 | 132 | 218 | 0 | 1 | 140 | 1 | 1.5 | 3 | ? | ? | 2 |\n",
       "| 55 | 1 | 4 | 142 | 228 | 0 | 1 | 149 | 1 | 2.5 | 1 | ? | ? | 1 |\n",
       "| 66 | 1 | 3 | 110 | 213 | 1 | 2 | 99  | 1 | 1.3 | 2 | ? | ? | 0 |\n",
       "\n"
      ],
      "text/plain": [
       "  X1 X2 X3 X4  X5  X6 X7 X8  X9 X10 X11 X12 X13 X14\n",
       "1 63 1  4  140 260 0  1  112 1  3   2   ?   ?   2  \n",
       "2 44 1  4  130 209 0  1  127 0  0   ?   ?   ?   0  \n",
       "3 60 1  4  132 218 0  1  140 1  1.5 3   ?   ?   2  \n",
       "4 55 1  4  142 228 0  1  149 1  2.5 1   ?   ?   1  \n",
       "5 66 1  3  110 213 1  2  99  1  1.3 2   ?   ?   0  "
      ]
     },
     "metadata": {},
     "output_type": "display_data"
    }
   ],
   "source": [
    "#reading in data from database\n",
    "\n",
    "original <- \"https://archive.ics.uci.edu/ml/machine-learning-databases/heart-disease/long-beach-va.data\"\n",
    "url <- \"https://archive.ics.uci.edu/ml/machine-learning-databases/heart-disease/processed.va.data\"\n",
    "longbeach_data <- read_csv(url, col_names = FALSE)\n",
    "\n",
    "#I just want to breifly see the data. \n",
    "longbeach_data |>\n",
    "head(n=5)"
   ]
  },
  {
   "cell_type": "code",
   "execution_count": 4,
   "id": "0ad14741-4d9e-4c08-b55c-1661fad43674",
   "metadata": {},
   "outputs": [
    {
     "data": {
      "text/html": [
       "<table class=\"dataframe\">\n",
       "<caption>A tibble: 5 × 14</caption>\n",
       "<thead>\n",
       "\t<tr><th scope=col>age</th><th scope=col>sex</th><th scope=col>cp</th><th scope=col>trestbps</th><th scope=col>chol</th><th scope=col>fbs</th><th scope=col>restecg</th><th scope=col>thalach</th><th scope=col>exang</th><th scope=col>oldpeak</th><th scope=col>slope</th><th scope=col>ca</th><th scope=col>thal</th><th scope=col>num</th></tr>\n",
       "\t<tr><th scope=col>&lt;dbl&gt;</th><th scope=col>&lt;dbl&gt;</th><th scope=col>&lt;dbl&gt;</th><th scope=col>&lt;chr&gt;</th><th scope=col>&lt;chr&gt;</th><th scope=col>&lt;chr&gt;</th><th scope=col>&lt;dbl&gt;</th><th scope=col>&lt;chr&gt;</th><th scope=col>&lt;chr&gt;</th><th scope=col>&lt;chr&gt;</th><th scope=col>&lt;chr&gt;</th><th scope=col>&lt;chr&gt;</th><th scope=col>&lt;chr&gt;</th><th scope=col>&lt;dbl&gt;</th></tr>\n",
       "</thead>\n",
       "<tbody>\n",
       "\t<tr><td>63</td><td>1</td><td>4</td><td>140</td><td>260</td><td>0</td><td>1</td><td>112</td><td>1</td><td>3  </td><td>2</td><td>?</td><td>?</td><td>2</td></tr>\n",
       "\t<tr><td>44</td><td>1</td><td>4</td><td>130</td><td>209</td><td>0</td><td>1</td><td>127</td><td>0</td><td>0  </td><td>?</td><td>?</td><td>?</td><td>0</td></tr>\n",
       "\t<tr><td>60</td><td>1</td><td>4</td><td>132</td><td>218</td><td>0</td><td>1</td><td>140</td><td>1</td><td>1.5</td><td>3</td><td>?</td><td>?</td><td>2</td></tr>\n",
       "\t<tr><td>55</td><td>1</td><td>4</td><td>142</td><td>228</td><td>0</td><td>1</td><td>149</td><td>1</td><td>2.5</td><td>1</td><td>?</td><td>?</td><td>1</td></tr>\n",
       "\t<tr><td>66</td><td>1</td><td>3</td><td>110</td><td>213</td><td>1</td><td>2</td><td>99 </td><td>1</td><td>1.3</td><td>2</td><td>?</td><td>?</td><td>0</td></tr>\n",
       "</tbody>\n",
       "</table>\n"
      ],
      "text/latex": [
       "A tibble: 5 × 14\n",
       "\\begin{tabular}{llllllllllllll}\n",
       " age & sex & cp & trestbps & chol & fbs & restecg & thalach & exang & oldpeak & slope & ca & thal & num\\\\\n",
       " <dbl> & <dbl> & <dbl> & <chr> & <chr> & <chr> & <dbl> & <chr> & <chr> & <chr> & <chr> & <chr> & <chr> & <dbl>\\\\\n",
       "\\hline\n",
       "\t 63 & 1 & 4 & 140 & 260 & 0 & 1 & 112 & 1 & 3   & 2 & ? & ? & 2\\\\\n",
       "\t 44 & 1 & 4 & 130 & 209 & 0 & 1 & 127 & 0 & 0   & ? & ? & ? & 0\\\\\n",
       "\t 60 & 1 & 4 & 132 & 218 & 0 & 1 & 140 & 1 & 1.5 & 3 & ? & ? & 2\\\\\n",
       "\t 55 & 1 & 4 & 142 & 228 & 0 & 1 & 149 & 1 & 2.5 & 1 & ? & ? & 1\\\\\n",
       "\t 66 & 1 & 3 & 110 & 213 & 1 & 2 & 99  & 1 & 1.3 & 2 & ? & ? & 0\\\\\n",
       "\\end{tabular}\n"
      ],
      "text/markdown": [
       "\n",
       "A tibble: 5 × 14\n",
       "\n",
       "| age &lt;dbl&gt; | sex &lt;dbl&gt; | cp &lt;dbl&gt; | trestbps &lt;chr&gt; | chol &lt;chr&gt; | fbs &lt;chr&gt; | restecg &lt;dbl&gt; | thalach &lt;chr&gt; | exang &lt;chr&gt; | oldpeak &lt;chr&gt; | slope &lt;chr&gt; | ca &lt;chr&gt; | thal &lt;chr&gt; | num &lt;dbl&gt; |\n",
       "|---|---|---|---|---|---|---|---|---|---|---|---|---|---|\n",
       "| 63 | 1 | 4 | 140 | 260 | 0 | 1 | 112 | 1 | 3   | 2 | ? | ? | 2 |\n",
       "| 44 | 1 | 4 | 130 | 209 | 0 | 1 | 127 | 0 | 0   | ? | ? | ? | 0 |\n",
       "| 60 | 1 | 4 | 132 | 218 | 0 | 1 | 140 | 1 | 1.5 | 3 | ? | ? | 2 |\n",
       "| 55 | 1 | 4 | 142 | 228 | 0 | 1 | 149 | 1 | 2.5 | 1 | ? | ? | 1 |\n",
       "| 66 | 1 | 3 | 110 | 213 | 1 | 2 | 99  | 1 | 1.3 | 2 | ? | ? | 0 |\n",
       "\n"
      ],
      "text/plain": [
       "  age sex cp trestbps chol fbs restecg thalach exang oldpeak slope ca thal num\n",
       "1 63  1   4  140      260  0   1       112     1     3       2     ?  ?    2  \n",
       "2 44  1   4  130      209  0   1       127     0     0       ?     ?  ?    0  \n",
       "3 60  1   4  132      218  0   1       140     1     1.5     3     ?  ?    2  \n",
       "4 55  1   4  142      228  0   1       149     1     2.5     1     ?  ?    1  \n",
       "5 66  1   3  110      213  1   2       99      1     1.3     2     ?  ?    0  "
      ]
     },
     "metadata": {},
     "output_type": "display_data"
    }
   ],
   "source": [
    "#renaming data frame\n",
    "\n",
    "longbeach_data2 <- rename(longbeach_data,\n",
    "    age = X1, \n",
    "    sex = X2, \n",
    "    cp = X3,\n",
    "    trestbps = X4, \n",
    "    chol = X5, \n",
    "    fbs = X6,\n",
    "    restecg = X7,\n",
    "    thalach = X8, \n",
    "    exang = X9, \n",
    "    oldpeak = X10,                        \n",
    "    slope = X11, \n",
    "    ca = X12,\n",
    "    thal = X13, \n",
    "    num = X14)\n",
    "\n",
    "longbeach_data2 |>\n",
    "head(n=5)"
   ]
  },
  {
   "cell_type": "code",
   "execution_count": 5,
   "id": "f5311022-ab79-4693-9dce-2c8378a167b0",
   "metadata": {},
   "outputs": [
    {
     "data": {
      "text/html": [
       "<table class=\"dataframe\">\n",
       "<caption>A tibble: 4 × 15</caption>\n",
       "<thead>\n",
       "\t<tr><th scope=col>age</th><th scope=col>sex</th><th scope=col>cp</th><th scope=col>trestbps</th><th scope=col>chol</th><th scope=col>fbs</th><th scope=col>restecg</th><th scope=col>thalach</th><th scope=col>exang</th><th scope=col>oldpeak</th><th scope=col>slope</th><th scope=col>ca</th><th scope=col>thal</th><th scope=col>num</th><th scope=col>sex_factor</th></tr>\n",
       "\t<tr><th scope=col>&lt;dbl&gt;</th><th scope=col>&lt;dbl&gt;</th><th scope=col>&lt;dbl&gt;</th><th scope=col>&lt;chr&gt;</th><th scope=col>&lt;chr&gt;</th><th scope=col>&lt;chr&gt;</th><th scope=col>&lt;dbl&gt;</th><th scope=col>&lt;chr&gt;</th><th scope=col>&lt;chr&gt;</th><th scope=col>&lt;chr&gt;</th><th scope=col>&lt;chr&gt;</th><th scope=col>&lt;chr&gt;</th><th scope=col>&lt;chr&gt;</th><th scope=col>&lt;dbl&gt;</th><th scope=col>&lt;fct&gt;</th></tr>\n",
       "</thead>\n",
       "<tbody>\n",
       "\t<tr><td>63</td><td>1</td><td>4</td><td>140</td><td>260</td><td>0</td><td>1</td><td>112</td><td>1</td><td>3  </td><td>2</td><td>?</td><td>?</td><td>2</td><td>1</td></tr>\n",
       "\t<tr><td>44</td><td>1</td><td>4</td><td>130</td><td>209</td><td>0</td><td>1</td><td>127</td><td>0</td><td>0  </td><td>?</td><td>?</td><td>?</td><td>0</td><td>1</td></tr>\n",
       "\t<tr><td>60</td><td>1</td><td>4</td><td>132</td><td>218</td><td>0</td><td>1</td><td>140</td><td>1</td><td>1.5</td><td>3</td><td>?</td><td>?</td><td>2</td><td>1</td></tr>\n",
       "\t<tr><td>55</td><td>1</td><td>4</td><td>142</td><td>228</td><td>0</td><td>1</td><td>149</td><td>1</td><td>2.5</td><td>1</td><td>?</td><td>?</td><td>1</td><td>1</td></tr>\n",
       "</tbody>\n",
       "</table>\n"
      ],
      "text/latex": [
       "A tibble: 4 × 15\n",
       "\\begin{tabular}{lllllllllllllll}\n",
       " age & sex & cp & trestbps & chol & fbs & restecg & thalach & exang & oldpeak & slope & ca & thal & num & sex\\_factor\\\\\n",
       " <dbl> & <dbl> & <dbl> & <chr> & <chr> & <chr> & <dbl> & <chr> & <chr> & <chr> & <chr> & <chr> & <chr> & <dbl> & <fct>\\\\\n",
       "\\hline\n",
       "\t 63 & 1 & 4 & 140 & 260 & 0 & 1 & 112 & 1 & 3   & 2 & ? & ? & 2 & 1\\\\\n",
       "\t 44 & 1 & 4 & 130 & 209 & 0 & 1 & 127 & 0 & 0   & ? & ? & ? & 0 & 1\\\\\n",
       "\t 60 & 1 & 4 & 132 & 218 & 0 & 1 & 140 & 1 & 1.5 & 3 & ? & ? & 2 & 1\\\\\n",
       "\t 55 & 1 & 4 & 142 & 228 & 0 & 1 & 149 & 1 & 2.5 & 1 & ? & ? & 1 & 1\\\\\n",
       "\\end{tabular}\n"
      ],
      "text/markdown": [
       "\n",
       "A tibble: 4 × 15\n",
       "\n",
       "| age &lt;dbl&gt; | sex &lt;dbl&gt; | cp &lt;dbl&gt; | trestbps &lt;chr&gt; | chol &lt;chr&gt; | fbs &lt;chr&gt; | restecg &lt;dbl&gt; | thalach &lt;chr&gt; | exang &lt;chr&gt; | oldpeak &lt;chr&gt; | slope &lt;chr&gt; | ca &lt;chr&gt; | thal &lt;chr&gt; | num &lt;dbl&gt; | sex_factor &lt;fct&gt; |\n",
       "|---|---|---|---|---|---|---|---|---|---|---|---|---|---|---|\n",
       "| 63 | 1 | 4 | 140 | 260 | 0 | 1 | 112 | 1 | 3   | 2 | ? | ? | 2 | 1 |\n",
       "| 44 | 1 | 4 | 130 | 209 | 0 | 1 | 127 | 0 | 0   | ? | ? | ? | 0 | 1 |\n",
       "| 60 | 1 | 4 | 132 | 218 | 0 | 1 | 140 | 1 | 1.5 | 3 | ? | ? | 2 | 1 |\n",
       "| 55 | 1 | 4 | 142 | 228 | 0 | 1 | 149 | 1 | 2.5 | 1 | ? | ? | 1 | 1 |\n",
       "\n"
      ],
      "text/plain": [
       "  age sex cp trestbps chol fbs restecg thalach exang oldpeak slope ca thal num\n",
       "1 63  1   4  140      260  0   1       112     1     3       2     ?  ?    2  \n",
       "2 44  1   4  130      209  0   1       127     0     0       ?     ?  ?    0  \n",
       "3 60  1   4  132      218  0   1       140     1     1.5     3     ?  ?    2  \n",
       "4 55  1   4  142      228  0   1       149     1     2.5     1     ?  ?    1  \n",
       "  sex_factor\n",
       "1 1         \n",
       "2 1         \n",
       "3 1         \n",
       "4 1         "
      ]
     },
     "metadata": {},
     "output_type": "display_data"
    }
   ],
   "source": [
    "#need to convert sex to a factor\n",
    "\n",
    "long_beach3 <- mutate(longbeach_data2, sex_factor = as.factor(sex))\n",
    "long_beach3 |>\n",
    "head(n = 4)\n"
   ]
  },
  {
   "cell_type": "code",
   "execution_count": 6,
   "id": "0d158d88-6c66-459a-a172-117101ae6b06",
   "metadata": {},
   "outputs": [
    {
     "data": {
      "text/html": [
       "<table class=\"dataframe\">\n",
       "<caption>A tibble: 5 × 6</caption>\n",
       "<thead>\n",
       "\t<tr><th scope=col>age</th><th scope=col>sex_factor</th><th scope=col>cp</th><th scope=col>chol</th><th scope=col>fbs</th><th scope=col>num</th></tr>\n",
       "\t<tr><th scope=col>&lt;dbl&gt;</th><th scope=col>&lt;fct&gt;</th><th scope=col>&lt;dbl&gt;</th><th scope=col>&lt;chr&gt;</th><th scope=col>&lt;chr&gt;</th><th scope=col>&lt;dbl&gt;</th></tr>\n",
       "</thead>\n",
       "<tbody>\n",
       "\t<tr><td>63</td><td>1</td><td>4</td><td>260</td><td>0</td><td>2</td></tr>\n",
       "\t<tr><td>44</td><td>1</td><td>4</td><td>209</td><td>0</td><td>0</td></tr>\n",
       "\t<tr><td>60</td><td>1</td><td>4</td><td>218</td><td>0</td><td>2</td></tr>\n",
       "\t<tr><td>55</td><td>1</td><td>4</td><td>228</td><td>0</td><td>1</td></tr>\n",
       "\t<tr><td>66</td><td>1</td><td>3</td><td>213</td><td>1</td><td>0</td></tr>\n",
       "</tbody>\n",
       "</table>\n"
      ],
      "text/latex": [
       "A tibble: 5 × 6\n",
       "\\begin{tabular}{llllll}\n",
       " age & sex\\_factor & cp & chol & fbs & num\\\\\n",
       " <dbl> & <fct> & <dbl> & <chr> & <chr> & <dbl>\\\\\n",
       "\\hline\n",
       "\t 63 & 1 & 4 & 260 & 0 & 2\\\\\n",
       "\t 44 & 1 & 4 & 209 & 0 & 0\\\\\n",
       "\t 60 & 1 & 4 & 218 & 0 & 2\\\\\n",
       "\t 55 & 1 & 4 & 228 & 0 & 1\\\\\n",
       "\t 66 & 1 & 3 & 213 & 1 & 0\\\\\n",
       "\\end{tabular}\n"
      ],
      "text/markdown": [
       "\n",
       "A tibble: 5 × 6\n",
       "\n",
       "| age &lt;dbl&gt; | sex_factor &lt;fct&gt; | cp &lt;dbl&gt; | chol &lt;chr&gt; | fbs &lt;chr&gt; | num &lt;dbl&gt; |\n",
       "|---|---|---|---|---|---|\n",
       "| 63 | 1 | 4 | 260 | 0 | 2 |\n",
       "| 44 | 1 | 4 | 209 | 0 | 0 |\n",
       "| 60 | 1 | 4 | 218 | 0 | 2 |\n",
       "| 55 | 1 | 4 | 228 | 0 | 1 |\n",
       "| 66 | 1 | 3 | 213 | 1 | 0 |\n",
       "\n"
      ],
      "text/plain": [
       "  age sex_factor cp chol fbs num\n",
       "1 63  1          4  260  0   2  \n",
       "2 44  1          4  209  0   0  \n",
       "3 60  1          4  218  0   2  \n",
       "4 55  1          4  228  0   1  \n",
       "5 66  1          3  213  1   0  "
      ]
     },
     "metadata": {},
     "output_type": "display_data"
    }
   ],
   "source": [
    "#taking our most important columns\n",
    "lonbeach_select <- long_beach3 |>\n",
    "    select(age, sex_factor, cp, chol, fbs, num) \n",
    "lonbeach_select |>\n",
    "head(n = 5)"
   ]
  },
  {
   "cell_type": "code",
   "execution_count": 7,
   "id": "030da2d7-9c05-4448-a58c-56b4b35a443a",
   "metadata": {},
   "outputs": [
    {
     "data": {
      "image/png": "[encoded data removed]",
      "text/plain": [
       "plot without title"
      ]
     },
     "metadata": {
      "image/png": {
       "height": 420,
       "width": 420
      }
     },
     "output_type": "display_data"
    }
   ],
   "source": [
    "test_graph <- lonbeach_select |>\n",
    "    ggplot(aes(x = age, y = sex_factor)) +\n",
    "    geom_point() +\n",
    "    theme(text = element_text(size = 12))\n",
    "\n",
    "test_graph"
   ]
  },
  {
   "cell_type": "code",
   "execution_count": null,
   "id": "21c3f359-8656-49cb-9a42-81de0f815a5e",
   "metadata": {},
   "outputs": [],
   "source": [
    "#Kevin Cell"
   ]
  },
  {
   "cell_type": "code",
   "execution_count": null,
   "id": "024bdae0-a8f4-4d97-93ca-f5503ce7c791",
   "metadata": {},
   "outputs": [],
   "source": [
    "#Avery Cell"
   ]
  },
  {
   "cell_type": "code",
   "execution_count": null,
   "id": "3f5998b6-a42c-447c-8bda-ebc205007810",
   "metadata": {},
   "outputs": [],
   "source": [
    "#Crystal"
   ]
  }
 ],
 "metadata": {
  "kernelspec": {
   "display_name": "R",
   "language": "R",
   "name": "ir"
  },
  "language_info": {
   "codemirror_mode": "r",
   "file_extension": ".r",
   "mimetype": "text/x-r-source",
   "name": "R",
   "pygments_lexer": "r",
   "version": "4.1.3"
  }
 },
 "nbformat": 4,
 "nbformat_minor": 5
}
