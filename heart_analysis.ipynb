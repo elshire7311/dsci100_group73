{
 "cells": [
  {
   "cell_type": "markdown",
   "id": "802b28c4-8f75-4cce-af21-4e67fca7f7e1",
   "metadata": {},
   "source": [
    "# Project on Heart Disease (Group 73)"
   ]
  },
  {
   "cell_type": "markdown",
   "id": "82fbe41b-9fe6-4954-9200-39551d0e349f",
   "metadata": {},
   "source": [
    "## Introduction"
   ]
  },
  {
   "cell_type": "markdown",
   "id": "30ec6f2f-87a2-4984-bc2f-b15b622e1a21",
   "metadata": {},
   "source": [
    "Heart disease is a broad term that refers to different heart conditions. Something in common is their effect on blood flow and dilation of veins to the heart. Other factors such as age, sex, and exercise are factors that are closely linked with heart disease. In our directory there are four data bases: Cleveland, Hungarian, Long Beach (California), and Switzerland. We decided to choose Long Beach due to similar culture (such as food and lifestyle) between Vancouver and Long beach. \n"
   ]
  },
  {
   "cell_type": "markdown",
   "id": "ab47ae57-1a24-4376-ba1c-04b11d919c79",
   "metadata": {},
   "source": [
    "#test 1 with avery\n",
    "\n",
    "#Prav Cells Be\n",
    "low (helps out with reducing errors)\n",
    "\n",
    "The relationship between these factors and their effect on predicting heart disease can be further examined through our research question: \n",
    "This project aims to provide a classification model which will predict whether a person has heart disease based on the factors of \n",
    "\n",
    " 1. Cleveland Clinic Foundation (cleveland.data)\n",
    "     2. Hungarian Institute of Cardiology, Budapest (hungarian.data)\n",
    "     3. V.A. Medical Center, Long Beach, CA (long-beach-va.data)\n",
    "     4. University Hospital, Zurich, Switzerland (switzerland.data)\n",
    "\n",
    "\n",
    "Cleveland Clinic Foundation (cleveland.data)\n",
    "     2. Hungarian Institute of Cardiology, Budapest (hungarian.data)\n",
    "     3. V.A. Medical Center, Long Beach, CA (long-beach-va.data)\n",
    "     4. University Hospital, Zurich, Switzerland (switzerland.data)\n",
    "\n",
    "\n",
    "This project aims to build a classification model to predict whether a patient presenting to the hospital would have a risk of heart disease by taking into account results from multiple medical tests. \n",
    "The dataset (https://archive.ics.uci.edu/ml/datasets/Heart+Disease) provides us with multiple attributes such as age and sex as well as a categorical attribute of whether a patient is in a risk of having a heart attack\n",
    "\n",
    "The term “heart disease” refers to several types of heart conditions. The most common type of heart disease in the United States is coronary artery disease (CAD), which affects the blood flow to the heart. Decreased blood flow can cause a heart attack.\n"
   ]
  },
  {
   "cell_type": "markdown",
   "id": "662c6db2-1316-457d-99df-21655cd1ceb9",
   "metadata": {},
   "source": [
    "## Data Preparation"
   ]
  },
  {
   "cell_type": "code",
   "execution_count": 1,
   "id": "8e08961d-6c29-4017-a55d-55bafb8e2c5a",
   "metadata": {},
   "outputs": [
    {
     "name": "stderr",
     "output_type": "stream",
     "text": [
      "── \u001b[1mAttaching packages\u001b[22m ─────────────────────────────────────── tidyverse 1.3.1 ──\n",
      "\n",
      "\u001b[32m✔\u001b[39m \u001b[34mggplot2\u001b[39m 3.3.6     \u001b[32m✔\u001b[39m \u001b[34mpurrr  \u001b[39m 0.3.4\n",
      "\u001b[32m✔\u001b[39m \u001b[34mtibble \u001b[39m 3.1.7     \u001b[32m✔\u001b[39m \u001b[34mdplyr  \u001b[39m 1.0.9\n",
      "\u001b[32m✔\u001b[39m \u001b[34mtidyr  \u001b[39m 1.2.0     \u001b[32m✔\u001b[39m \u001b[34mstringr\u001b[39m 1.4.0\n",
      "\u001b[32m✔\u001b[39m \u001b[34mreadr  \u001b[39m 2.1.2     \u001b[32m✔\u001b[39m \u001b[34mforcats\u001b[39m 0.5.1\n",
      "\n",
      "── \u001b[1mConflicts\u001b[22m ────────────────────────────────────────── tidyverse_conflicts() ──\n",
      "\u001b[31m✖\u001b[39m \u001b[34mdplyr\u001b[39m::\u001b[32mfilter()\u001b[39m masks \u001b[34mstats\u001b[39m::filter()\n",
      "\u001b[31m✖\u001b[39m \u001b[34mdplyr\u001b[39m::\u001b[32mlag()\u001b[39m    masks \u001b[34mstats\u001b[39m::lag()\n",
      "\n",
      "── \u001b[1mAttaching packages\u001b[22m ────────────────────────────────────── tidymodels 1.0.0 ──\n",
      "\n",
      "\u001b[32m✔\u001b[39m \u001b[34mbroom       \u001b[39m 1.0.0     \u001b[32m✔\u001b[39m \u001b[34mrsample     \u001b[39m 1.0.0\n",
      "\u001b[32m✔\u001b[39m \u001b[34mdials       \u001b[39m 1.0.0     \u001b[32m✔\u001b[39m \u001b[34mtune        \u001b[39m 1.0.0\n",
      "\u001b[32m✔\u001b[39m \u001b[34minfer       \u001b[39m 1.0.2     \u001b[32m✔\u001b[39m \u001b[34mworkflows   \u001b[39m 1.0.0\n",
      "\u001b[32m✔\u001b[39m \u001b[34mmodeldata   \u001b[39m 1.0.0     \u001b[32m✔\u001b[39m \u001b[34mworkflowsets\u001b[39m 1.0.0\n",
      "\u001b[32m✔\u001b[39m \u001b[34mparsnip     \u001b[39m 1.0.0     \u001b[32m✔\u001b[39m \u001b[34myardstick   \u001b[39m 1.0.0\n",
      "\u001b[32m✔\u001b[39m \u001b[34mrecipes     \u001b[39m 1.0.1     \n",
      "\n",
      "── \u001b[1mConflicts\u001b[22m ───────────────────────────────────────── tidymodels_conflicts() ──\n",
      "\u001b[31m✖\u001b[39m \u001b[34mscales\u001b[39m::\u001b[32mdiscard()\u001b[39m masks \u001b[34mpurrr\u001b[39m::discard()\n",
      "\u001b[31m✖\u001b[39m \u001b[34mdplyr\u001b[39m::\u001b[32mfilter()\u001b[39m   masks \u001b[34mstats\u001b[39m::filter()\n",
      "\u001b[31m✖\u001b[39m \u001b[34mrecipes\u001b[39m::\u001b[32mfixed()\u001b[39m  masks \u001b[34mstringr\u001b[39m::fixed()\n",
      "\u001b[31m✖\u001b[39m \u001b[34mdplyr\u001b[39m::\u001b[32mlag()\u001b[39m      masks \u001b[34mstats\u001b[39m::lag()\n",
      "\u001b[31m✖\u001b[39m \u001b[34myardstick\u001b[39m::\u001b[32mspec()\u001b[39m masks \u001b[34mreadr\u001b[39m::spec()\n",
      "\u001b[31m✖\u001b[39m \u001b[34mrecipes\u001b[39m::\u001b[32mstep()\u001b[39m   masks \u001b[34mstats\u001b[39m::step()\n",
      "\u001b[34m•\u001b[39m Search for functions across packages at \u001b[32mhttps://www.tidymodels.org/find/\u001b[39m\n",
      "\n"
     ]
    }
   ],
   "source": [
    "#Adding in librarys\n",
    "library(tidyverse)\n",
    "library(tidymodels)\n"
   ]
  },
  {
   "cell_type": "code",
   "execution_count": 2,
   "id": "2a0e4bfb-feb3-487a-b2ba-aaba2a5d4ed8",
   "metadata": {},
   "outputs": [
    {
     "name": "stderr",
     "output_type": "stream",
     "text": [
      "\u001b[1mRows: \u001b[22m\u001b[34m200\u001b[39m \u001b[1mColumns: \u001b[22m\u001b[34m14\u001b[39m\n",
      "\u001b[36m──\u001b[39m \u001b[1mColumn specification\u001b[22m \u001b[36m────────────────────────────────────────────────────────\u001b[39m\n",
      "\u001b[1mDelimiter:\u001b[22m \",\"\n",
      "\u001b[31mchr\u001b[39m (9): X4, X5, X6, X8, X9, X10, X11, X12, X13\n",
      "\u001b[32mdbl\u001b[39m (5): X1, X2, X3, X7, X14\n",
      "\n",
      "\u001b[36mℹ\u001b[39m Use `spec()` to retrieve the full column specification for this data.\n",
      "\u001b[36mℹ\u001b[39m Specify the column types or set `show_col_types = FALSE` to quiet this message.\n"
     ]
    }
   ],
   "source": [
    "#loading dataset from database\n",
    "\n",
    "original <- \"https://archive.ics.uci.edu/ml/machine-learning-databases/heart-disease/long-beach-va.data\"\n",
    "url <- \"https://archive.ics.uci.edu/ml/machine-learning-databases/heart-disease/processed.va.data\"\n",
    "longbeach_data <- read_csv(url, col_names = FALSE)"
   ]
  },
  {
   "cell_type": "code",
   "execution_count": 3,
   "id": "0ad14741-4d9e-4c08-b55c-1661fad43674",
   "metadata": {},
   "outputs": [],
   "source": [
    "#renaming data frame's column names accordingly\n",
    "longbeach_set <- rename(longbeach_data,\n",
    "    age = X1, \n",
    "    sex = X2, \n",
    "    cp = X3,\n",
    "    trestbps = X4, \n",
    "    chol = X5, \n",
    "    fbs = X6,\n",
    "    restecg = X7,\n",
    "    thalach = X8, \n",
    "    exang = X9, \n",
    "    oldpeak = X10,                        \n",
    "    slope = X11, \n",
    "    ca = X12,\n",
    "    thal = X13, \n",
    "    num = X14)"
   ]
  },
  {
   "cell_type": "code",
   "execution_count": 4,
   "id": "0d158d88-6c66-459a-a172-117101ae6b06",
   "metadata": {},
   "outputs": [],
   "source": [
    "#taking our most important columns\n",
    "#then changing num to factor\n",
    "longbeach_select <- longbeach_set |>\n",
    "    select(age, chol, thalach, trestbps, oldpeak, num) |>\n",
    "    mutate(num = as.factor(num))"
   ]
  },
  {
   "cell_type": "markdown",
   "id": "2380177f-5a54-4cdc-bfcf-27a4692112e8",
   "metadata": {},
   "source": [
    "To clean up the data, we first renamed all the columns accordingly to all the given attributes of the dataset. Then we took out all the unused attributes and changed variable num to factor because it is a categorical statical variable."
   ]
  },
  {
   "cell_type": "code",
   "execution_count": 49,
   "id": "a0b1f66f-a379-4551-bfa7-111cd85223e8",
   "metadata": {},
   "outputs": [],
   "source": [
    "# split data into training set and testing set\n",
    "longbeach_split <- initial_split(longbeach_select_final, prop=0.75, strata=num)\n",
    "longbeach_train <- training(longbeach_split)\n",
    "longbeach_test <- testing(longbeach_split)"
   ]
  },
  {
   "cell_type": "markdown",
   "id": "f0e0c632-8676-4942-bc24-38eada5114a0",
   "metadata": {},
   "source": [
    "We then split the cleaned data into training set and testing set, where 75% of the data are used to training while the remaining 25% will be used for testing. The proportion are chosen so that there is sufficient data to train the model with sufficient data to test the model and obtain the accuracy of the model. "
   ]
  },
  {
   "cell_type": "markdown",
   "id": "24c115f4-7785-4fbc-8501-3748007bdb32",
   "metadata": {},
   "source": [
    "## Method"
   ]
  },
  {
   "cell_type": "markdown",
   "id": "98407124-15aa-43c8-b206-1f085462bed7",
   "metadata": {},
   "source": [
    "We will build the classification model using k-nearest neighbors. We will build it using the training data type longbeach_train and test it for accuracy using the testing data type longbeach_test. The number of k we use will be tuned to have the highest accuracy through cross-validation. The predictor variables we use will only be variables that have double as their data type and not factor data type. This is because factor data types can not be used for k-nearest neighbors as distance can not be calculated for factors. \n",
    "\n",
    "We can visualize the tuning using cross-validation by plotting a graph with number of k vs accuracy.\n"
   ]
  },
  {
   "cell_type": "code",
   "execution_count": null,
   "id": "474eb49e-21eb-422f-956a-c88fec185d77",
   "metadata": {},
   "outputs": [],
   "source": []
  },
  {
   "cell_type": "markdown",
   "id": "072548c3-2dc0-486d-908e-8c35bc020296",
   "metadata": {},
   "source": [
    "## Expected Outcomes and Significance"
   ]
  },
  {
   "cell_type": "markdown",
   "id": "ea2f6e64-0f41-4f40-b013-167b1ed310aa",
   "metadata": {},
   "source": [
    "From this research project, we expect to find a correlation between risk factors (specifically, a person's age, cholesterol, resting heart rate, resting blood pressure, and ST depression) and the overall likelyhood that they have heart disease. With this research, we hope to create a model that can predict (to a high level of accuracy) whether a person has heart disease. We will use data taken from the UCI Machine Learning Repository's Heart Disease Dataset to train our model to predict whether someone has heart disease based on the 5 risk factors listed earlier. If our model is successful, it will be a great aid to the medical community by creating fast and easy diagnosis of heart disease in patients, and will allow doctors to quickly assist those in need. A doctor could simply input the measurements taken for each of the 5 risk factors and the model will determine whether the patient is developing heart disease or not. \n",
    "\n",
    "After our model is complete, future questions may be raised on this topic such as:\n",
    "- Are there other diseases that can be accurately predicted based on a chosen set of measurable risk factors?\n",
    "- Will it ever be ethical to nearly remove a doctor from the situation and trust a model instead?\n",
    "- Is it possible to create a model that is 100% accurate?\n",
    "- How might a model, such as ours, affect the speed at which heart disease is detected and treated, and could this lead to more lives saved in the future?"
   ]
  },
  {
   "cell_type": "code",
   "execution_count": 48,
   "id": "d346284f-f16a-49b2-8204-5eed1e28d9ca",
   "metadata": {},
   "outputs": [
    {
     "name": "stdout",
     "output_type": "stream",
     "text": [
      "\u001b[90m# A tibble: 137 × 6\u001b[39m\n",
      "     age  chol thalach trestbps oldpeak num  \n",
      "   \u001b[3m\u001b[90m<dbl>\u001b[39m\u001b[23m \u001b[3m\u001b[90m<dbl>\u001b[39m\u001b[23m   \u001b[3m\u001b[90m<dbl>\u001b[39m\u001b[23m    \u001b[3m\u001b[90m<dbl>\u001b[39m\u001b[23m   \u001b[3m\u001b[90m<dbl>\u001b[39m\u001b[23m \u001b[3m\u001b[90m<fct>\u001b[39m\u001b[23m\n",
      "\u001b[90m 1\u001b[39m    63   260     112      140     3   2    \n",
      "\u001b[90m 2\u001b[39m    44   209     127      130     0   0    \n",
      "\u001b[90m 3\u001b[39m    60   218     140      132     1.5 2    \n",
      "\u001b[90m 4\u001b[39m    55   228     149      142     2.5 1    \n",
      "\u001b[90m 5\u001b[39m    66   213      99      110     1.3 0    \n",
      "\u001b[90m 6\u001b[39m    66     0     120      120    -\u001b[31m0\u001b[39m\u001b[31m.\u001b[39m\u001b[31m5\u001b[39m 0    \n",
      "\u001b[90m 7\u001b[39m    65   236     105      150     0   3    \n",
      "\u001b[90m 8\u001b[39m    60     0     140      180     1.5 0    \n",
      "\u001b[90m 9\u001b[39m    60     0     141      120     2   3    \n",
      "\u001b[90m10\u001b[39m    60   267     157      160     0.5 1    \n",
      "\u001b[90m# … with 127 more rows\u001b[39m\n"
     ]
    }
   ],
   "source": [
    "longbeach_select1 <- longbeach_select |>\n",
    "filter(age != \"?\") |>\n",
    "filter(chol != \"?\") |>\n",
    "filter(thalach != \"?\") |>\n",
    "filter(trestbps != \"?\") |>\n",
    "filter(oldpeak != \"?\") |>\n",
    "filter(num != \"?\")\n",
    "#longbeach_select1\n",
    "\n",
    "longbeach_select_final <- longbeach_select1 |>\n",
    "mutate(chol = as.double(chol)) |>\n",
    "mutate(thalach = as.double(thalach)) |>\n",
    "mutate(trestbps = as.double(trestbps)) |>\n",
    "mutate(oldpeak = as.double(oldpeak))\n",
    "\n",
    "longbeach_select_final |>\n",
    "print(n=10)"
   ]
  },
  {
   "cell_type": "code",
   "execution_count": 53,
   "id": "f0ebe52c-b356-4b4c-ba4c-d4dd3daec40b",
   "metadata": {},
   "outputs": [
    {
     "data": {
      "text/plain": [
       "Recipe\n",
       "\n",
       "Inputs:\n",
       "\n",
       "      role #variables\n",
       "   outcome          1\n",
       " predictor          5\n",
       "\n",
       "Operations:\n",
       "\n",
       "Scaling for all_predictors()\n",
       "Centering for all_predictors()"
      ]
     },
     "metadata": {},
     "output_type": "display_data"
    }
   ],
   "source": [
    "#YAY we got our final data\n",
    "#now we need to split into training and testing\n",
    "\n",
    "#longbeach_train\n",
    "#longbeach_test\n",
    "\n",
    "long_beach_recipe <- recipe(num ~ age + chol + thalach + trestbps + oldpeak, data = longbeach_select_final) |>\n",
    "   step_scale(all_predictors()) |>\n",
    "   step_center(all_predictors())\n",
    "\n",
    "long_beach_recipe"
   ]
  },
  {
   "cell_type": "code",
   "execution_count": 101,
   "id": "accd4216-3e75-4db6-bd95-557665849b8b",
   "metadata": {},
   "outputs": [],
   "source": [
    "# Now we need to make KNN spec and workflow\n",
    "\n",
    "knn_spec <- nearest_neighbor(weight_func = \"rectangular\", neighbors = 21) |>\n",
    "      set_engine(\"kknn\") |>\n",
    "      set_mode(\"classification\")\n",
    "#knn_spec\n",
    "long_beach_fit <- workflow() |>\n",
    "      add_recipe(long_beach_recipe) |>\n",
    "      add_model(knn_spec) |>\n",
    "      fit(data = longbeach_train)\n",
    "#long_beach_fit"
   ]
  },
  {
   "cell_type": "code",
   "execution_count": 102,
   "id": "bf487ca8-f8ba-4749-a5b5-f0a15e9f65ba",
   "metadata": {},
   "outputs": [
    {
     "name": "stdout",
     "output_type": "stream",
     "text": [
      "\u001b[90m# A tibble: 36 × 7\u001b[39m\n",
      "   .pred_class   age  chol thalach trestbps oldpeak num  \n",
      "   \u001b[3m\u001b[90m<fct>\u001b[39m\u001b[23m       \u001b[3m\u001b[90m<dbl>\u001b[39m\u001b[23m \u001b[3m\u001b[90m<dbl>\u001b[39m\u001b[23m   \u001b[3m\u001b[90m<dbl>\u001b[39m\u001b[23m    \u001b[3m\u001b[90m<dbl>\u001b[39m\u001b[23m   \u001b[3m\u001b[90m<dbl>\u001b[39m\u001b[23m \u001b[3m\u001b[90m<fct>\u001b[39m\u001b[23m\n",
      "\u001b[90m 1\u001b[39m 3              63   260     112      140     3   2    \n",
      "\u001b[90m 2\u001b[39m 2              55   228     149      142     2.5 1    \n",
      "\u001b[90m 3\u001b[39m 1              66   213      99      110     1.3 0    \n",
      "\u001b[90m 4\u001b[39m 2              65   236     105      150     0   3    \n",
      "\u001b[90m 5\u001b[39m 2              59     0     117      140     1   1    \n",
      "\u001b[90m 6\u001b[39m 1              62     0     120      110     0.5 1    \n",
      "\u001b[90m 7\u001b[39m 2              63     0     120      126     1.5 0    \n",
      "\u001b[90m 8\u001b[39m 2              64     0     122      144     1   3    \n",
      "\u001b[90m 9\u001b[39m 0              63     0      84      136     0   2    \n",
      "\u001b[90m10\u001b[39m 2              55     0     125      120     2.5 1    \n",
      "\u001b[90m# … with 26 more rows\u001b[39m\n"
     ]
    }
   ],
   "source": [
    "long_beach_predictions <- predict(long_beach_fit , longbeach_test) |>\n",
    "      bind_cols(longbeach_test)\n",
    "long_beach_predictions |>\n",
    "print(n=10)"
   ]
  },
  {
   "cell_type": "code",
   "execution_count": 103,
   "id": "2601b2b0-fc4b-4df2-91d7-f9fdeeaba0e8",
   "metadata": {},
   "outputs": [
    {
     "data": {
      "text/html": [
       "<table class=\"dataframe\">\n",
       "<caption>A tibble: 2 × 3</caption>\n",
       "<thead>\n",
       "\t<tr><th scope=col>.metric</th><th scope=col>.estimator</th><th scope=col>.estimate</th></tr>\n",
       "\t<tr><th scope=col>&lt;chr&gt;</th><th scope=col>&lt;chr&gt;</th><th scope=col>&lt;dbl&gt;</th></tr>\n",
       "</thead>\n",
       "<tbody>\n",
       "\t<tr><td>accuracy</td><td>multiclass</td><td>0.3611111</td></tr>\n",
       "\t<tr><td>kap     </td><td>multiclass</td><td>0.1375000</td></tr>\n",
       "</tbody>\n",
       "</table>\n"
      ],
      "text/latex": [
       "A tibble: 2 × 3\n",
       "\\begin{tabular}{lll}\n",
       " .metric & .estimator & .estimate\\\\\n",
       " <chr> & <chr> & <dbl>\\\\\n",
       "\\hline\n",
       "\t accuracy & multiclass & 0.3611111\\\\\n",
       "\t kap      & multiclass & 0.1375000\\\\\n",
       "\\end{tabular}\n"
      ],
      "text/markdown": [
       "\n",
       "A tibble: 2 × 3\n",
       "\n",
       "| .metric &lt;chr&gt; | .estimator &lt;chr&gt; | .estimate &lt;dbl&gt; |\n",
       "|---|---|---|\n",
       "| accuracy | multiclass | 0.3611111 |\n",
       "| kap      | multiclass | 0.1375000 |\n",
       "\n"
      ],
      "text/plain": [
       "  .metric  .estimator .estimate\n",
       "1 accuracy multiclass 0.3611111\n",
       "2 kap      multiclass 0.1375000"
      ]
     },
     "metadata": {},
     "output_type": "display_data"
    }
   ],
   "source": [
    "#Now we need to find accuracy\n",
    "\n",
    "long_beach__prediction_accuracy <- long_beach_predictions |> #df\n",
    "        metrics(truth = num, estimate = .pred_class)   #real vs estimations\n",
    "\n",
    "long_beach__prediction_accuracy\n",
    "\n"
   ]
  },
  {
   "cell_type": "code",
   "execution_count": null,
   "id": "cb57779b-d06d-49d9-8712-18aa354fb51f",
   "metadata": {},
   "outputs": [],
   "source": []
  },
  {
   "cell_type": "code",
   "execution_count": null,
   "id": "ea92b544-ec95-4010-a22f-668832c1cb21",
   "metadata": {},
   "outputs": [],
   "source": []
  },
  {
   "cell_type": "code",
   "execution_count": null,
   "id": "ec495a65-0067-4d90-a5e7-5afea428d1d6",
   "metadata": {},
   "outputs": [],
   "source": []
  }
 ],
 "metadata": {
  "kernelspec": {
   "display_name": "R",
   "language": "R",
   "name": "ir"
  },
  "language_info": {
   "codemirror_mode": "r",
   "file_extension": ".r",
   "mimetype": "text/x-r-source",
   "name": "R",
   "pygments_lexer": "r",
   "version": "4.1.3"
  }
 },
 "nbformat": 4,
 "nbformat_minor": 5
}
