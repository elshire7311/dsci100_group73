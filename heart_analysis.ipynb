{
 "cells": [
  {
   "cell_type": "markdown",
   "id": "802b28c4-8f75-4cce-af21-4e67fca7f7e1",
   "metadata": {},
   "source": [
    "# Predicting Heart Disease In Hungary (Group 73)"
   ]
  },
  {
   "cell_type": "markdown",
   "id": "82fbe41b-9fe6-4954-9200-39551d0e349f",
   "metadata": {
    "tags": []
   },
   "source": [
    "## Part 1: Introduction"
   ]
  },
  {
   "cell_type": "markdown",
   "id": "30ec6f2f-87a2-4984-bc2f-b15b622e1a21",
   "metadata": {},
   "source": [
    "Heart disease is a broad term that refers to different heart conditions. Something in common is their effect on blood flow and dilation of veins to the heart. Other factors such as age, cholesterol, and blood pressure are also closely linked with heart disease.  \n",
    "\n",
    "Our project aims to predict whether a person is at risk of a heart disease given some data that can be collected through medical tests. The factors we use to predict are:\n",
    "1. Age [age]\n",
    "2. Resting blood pressure (in mm Hg on admission to the hospital) [trestbps]\n",
    "3. Cholesterol [chol]\n",
    "4. Maximum heart rate achieved [thalach]\n",
    "\n",
    "The data was taken from the UCI Machine Learning Repository's Heart Disease Dataset and was used to train our model to predict whether someone has heart disease based on the 4 risk factors listed above. Our model will diagnose heart disease based on the percentage of narrowing in major arteries (<50% meaning that the patient does NOT have heart disease and >50% meaning that the patient DOES have heart disease).\n",
    "\n",
    "The directory was retrieved from https://archive.ics.uci.edu/ml/datasets/Heart+Disease. There are four databases: Cleveland, Hungary, Long Beach (California), and Switzerland. The Hungarian data was chosen due to its binary column indicating whether a person is likely to have heart disease. The dataset was collected from the Hungarian Institute of Cardiology in Budapest."
   ]
  },
  {
   "cell_type": "markdown",
   "id": "e249d8ca-7e27-4108-837c-e51d1e9caef6",
   "metadata": {
    "tags": []
   },
   "source": [
    "## Part 2: Methods & Results"
   ]
  },
  {
   "cell_type": "markdown",
   "id": "5089e385-1c9e-4f2e-9904-f31a83639af8",
   "metadata": {},
   "source": [
    "We will build the classification model using k-nearest neighbors and the training data (hungarian_train), and test it for accuracy using the testing data (hungarian_test). With cross-validation the k number will be chosen, using tune to find the highest accuracy. The predictor variables will have a numerical data type (not factorable data type), as distance cannot be calculated for factors in k-nearest neighbors.\n",
    "\n",
    "Then we visualize the tuning using cross-validation, by plotting a graph with number of k vs accuracy. "
   ]
  },
  {
   "cell_type": "markdown",
   "id": "662c6db2-1316-457d-99df-21655cd1ceb9",
   "metadata": {
    "tags": []
   },
   "source": [
    "## 2.1: Data Exploration"
   ]
  },
  {
   "cell_type": "markdown",
   "id": "42a1c16b-c12b-44ba-8155-345d6413b7b5",
   "metadata": {},
   "source": [
    "Attach the libraries:"
   ]
  },
  {
   "cell_type": "code",
   "execution_count": 1,
   "id": "8e08961d-6c29-4017-a55d-55bafb8e2c5a",
   "metadata": {},
   "outputs": [
    {
     "name": "stderr",
     "output_type": "stream",
     "text": [
      "── \u001b[1mAttaching packages\u001b[22m ─────────────────────────────────────── tidyverse 1.3.1 ──\n",
      "\n",
      "\u001b[32m✔\u001b[39m \u001b[34mggplot2\u001b[39m 3.3.6     \u001b[32m✔\u001b[39m \u001b[34mpurrr  \u001b[39m 0.3.4\n",
      "\u001b[32m✔\u001b[39m \u001b[34mtibble \u001b[39m 3.1.7     \u001b[32m✔\u001b[39m \u001b[34mdplyr  \u001b[39m 1.0.9\n",
      "\u001b[32m✔\u001b[39m \u001b[34mtidyr  \u001b[39m 1.2.0     \u001b[32m✔\u001b[39m \u001b[34mstringr\u001b[39m 1.4.0\n",
      "\u001b[32m✔\u001b[39m \u001b[34mreadr  \u001b[39m 2.1.2     \u001b[32m✔\u001b[39m \u001b[34mforcats\u001b[39m 0.5.1\n",
      "\n",
      "── \u001b[1mConflicts\u001b[22m ────────────────────────────────────────── tidyverse_conflicts() ──\n",
      "\u001b[31m✖\u001b[39m \u001b[34mdplyr\u001b[39m::\u001b[32mfilter()\u001b[39m masks \u001b[34mstats\u001b[39m::filter()\n",
      "\u001b[31m✖\u001b[39m \u001b[34mdplyr\u001b[39m::\u001b[32mlag()\u001b[39m    masks \u001b[34mstats\u001b[39m::lag()\n",
      "\n",
      "── \u001b[1mAttaching packages\u001b[22m ────────────────────────────────────── tidymodels 1.0.0 ──\n",
      "\n",
      "\u001b[32m✔\u001b[39m \u001b[34mbroom       \u001b[39m 1.0.0     \u001b[32m✔\u001b[39m \u001b[34mrsample     \u001b[39m 1.0.0\n",
      "\u001b[32m✔\u001b[39m \u001b[34mdials       \u001b[39m 1.0.0     \u001b[32m✔\u001b[39m \u001b[34mtune        \u001b[39m 1.0.0\n",
      "\u001b[32m✔\u001b[39m \u001b[34minfer       \u001b[39m 1.0.2     \u001b[32m✔\u001b[39m \u001b[34mworkflows   \u001b[39m 1.0.0\n",
      "\u001b[32m✔\u001b[39m \u001b[34mmodeldata   \u001b[39m 1.0.0     \u001b[32m✔\u001b[39m \u001b[34mworkflowsets\u001b[39m 1.0.0\n",
      "\u001b[32m✔\u001b[39m \u001b[34mparsnip     \u001b[39m 1.0.0     \u001b[32m✔\u001b[39m \u001b[34myardstick   \u001b[39m 1.0.0\n",
      "\u001b[32m✔\u001b[39m \u001b[34mrecipes     \u001b[39m 1.0.1     \n",
      "\n",
      "── \u001b[1mConflicts\u001b[22m ───────────────────────────────────────── tidymodels_conflicts() ──\n",
      "\u001b[31m✖\u001b[39m \u001b[34mscales\u001b[39m::\u001b[32mdiscard()\u001b[39m masks \u001b[34mpurrr\u001b[39m::discard()\n",
      "\u001b[31m✖\u001b[39m \u001b[34mdplyr\u001b[39m::\u001b[32mfilter()\u001b[39m   masks \u001b[34mstats\u001b[39m::filter()\n",
      "\u001b[31m✖\u001b[39m \u001b[34mrecipes\u001b[39m::\u001b[32mfixed()\u001b[39m  masks \u001b[34mstringr\u001b[39m::fixed()\n",
      "\u001b[31m✖\u001b[39m \u001b[34mdplyr\u001b[39m::\u001b[32mlag()\u001b[39m      masks \u001b[34mstats\u001b[39m::lag()\n",
      "\u001b[31m✖\u001b[39m \u001b[34myardstick\u001b[39m::\u001b[32mspec()\u001b[39m masks \u001b[34mreadr\u001b[39m::spec()\n",
      "\u001b[31m✖\u001b[39m \u001b[34mrecipes\u001b[39m::\u001b[32mstep()\u001b[39m   masks \u001b[34mstats\u001b[39m::step()\n",
      "\u001b[34m•\u001b[39m Learn how to get started at \u001b[32mhttps://www.tidymodels.org/start/\u001b[39m\n",
      "\n",
      "Registered S3 method overwritten by 'GGally':\n",
      "  method from   \n",
      "  +.gg   ggplot2\n",
      "\n"
     ]
    }
   ],
   "source": [
    "# Attach the libraries.\n",
    "library(tidyverse)\n",
    "library(tidymodels)\n",
    "library(cowplot)\n",
    "library(GGally)\n",
    "set.seed(1000)\n",
    "options(repr.plot.width = 12, repr.plot.height = 8)"
   ]
  },
  {
   "cell_type": "markdown",
   "id": "1ea70adc-3ad3-4950-b334-4dc70db5255d",
   "metadata": {},
   "source": [
    "Load the hungarian heart disease dataset and set proper column names:"
   ]
  },
  {
   "cell_type": "code",
   "execution_count": 2,
   "id": "2a0e4bfb-feb3-487a-b2ba-aaba2a5d4ed8",
   "metadata": {},
   "outputs": [
    {
     "name": "stderr",
     "output_type": "stream",
     "text": [
      "\u001b[1mRows: \u001b[22m\u001b[34m294\u001b[39m \u001b[1mColumns: \u001b[22m\u001b[34m14\u001b[39m\n",
      "\u001b[36m──\u001b[39m \u001b[1mColumn specification\u001b[22m \u001b[36m────────────────────────────────────────────────────────\u001b[39m\n",
      "\u001b[1mDelimiter:\u001b[22m \",\"\n",
      "\u001b[31mchr\u001b[39m (9): resting_blood_pressure, cholesterol, fasting_blood_sugar, resting_e...\n",
      "\u001b[32mdbl\u001b[39m (5): age, sex, chest_pain, st_depression, diagnosis\n",
      "\n",
      "\u001b[36mℹ\u001b[39m Use `spec()` to retrieve the full column specification for this data.\n",
      "\u001b[36mℹ\u001b[39m Specify the column types or set `show_col_types = FALSE` to quiet this message.\n"
     ]
    },
    {
     "name": "stdout",
     "output_type": "stream",
     "text": [
      "Rows: 294\n",
      "Columns: 14\n",
      "$ age                     \u001b[3m\u001b[90m<dbl>\u001b[39m\u001b[23m 28, 29, 29, 30, 31, 32, 32, 32, 33, 34, 34, 34…\n",
      "$ sex                     \u001b[3m\u001b[90m<dbl>\u001b[39m\u001b[23m 1, 1, 1, 0, 0, 0, 1, 1, 1, 0, 1, 1, 0, 0, 1, 1…\n",
      "$ chest_pain              \u001b[3m\u001b[90m<dbl>\u001b[39m\u001b[23m 2, 2, 2, 1, 2, 2, 2, 2, 3, 2, 2, 2, 1, 4, 2, 2…\n",
      "$ resting_blood_pressure  \u001b[3m\u001b[90m<chr>\u001b[39m\u001b[23m \"130\", \"120\", \"140\", \"170\", \"100\", \"105\", \"110…\n",
      "$ cholesterol             \u001b[3m\u001b[90m<chr>\u001b[39m\u001b[23m \"132\", \"243\", \"?\", \"237\", \"219\", \"198\", \"225\",…\n",
      "$ fasting_blood_sugar     \u001b[3m\u001b[90m<chr>\u001b[39m\u001b[23m \"0\", \"0\", \"0\", \"0\", \"0\", \"0\", \"0\", \"0\", \"0\", \"…\n",
      "$ resting_ecg             \u001b[3m\u001b[90m<chr>\u001b[39m\u001b[23m \"2\", \"0\", \"0\", \"1\", \"1\", \"0\", \"0\", \"0\", \"0\", \"…\n",
      "$ max_heart_rate          \u001b[3m\u001b[90m<chr>\u001b[39m\u001b[23m \"185\", \"160\", \"170\", \"170\", \"150\", \"165\", \"184…\n",
      "$ exercise_induced_angina \u001b[3m\u001b[90m<chr>\u001b[39m\u001b[23m \"0\", \"0\", \"0\", \"0\", \"0\", \"0\", \"0\", \"0\", \"0\", \"…\n",
      "$ st_depression           \u001b[3m\u001b[90m<dbl>\u001b[39m\u001b[23m 0, 0, 0, 0, 0, 0, 0, 0, 0, 0, 0, 0, 0, 0, 0, 0…\n",
      "$ peak_st_slope           \u001b[3m\u001b[90m<chr>\u001b[39m\u001b[23m \"?\", \"?\", \"?\", \"?\", \"?\", \"?\", \"?\", \"?\", \"?\", \"…\n",
      "$ major_vessel_num        \u001b[3m\u001b[90m<chr>\u001b[39m\u001b[23m \"?\", \"?\", \"?\", \"?\", \"?\", \"?\", \"?\", \"?\", \"?\", \"…\n",
      "$ thal                    \u001b[3m\u001b[90m<chr>\u001b[39m\u001b[23m \"?\", \"?\", \"?\", \"6\", \"?\", \"?\", \"?\", \"?\", \"?\", \"…\n",
      "$ diagnosis               \u001b[3m\u001b[90m<dbl>\u001b[39m\u001b[23m 0, 0, 0, 0, 0, 0, 0, 0, 0, 0, 0, 0, 0, 0, 0, 0…\n"
     ]
    }
   ],
   "source": [
    "# load hungarian heart disease dataset from database\n",
    "\n",
    "url <- \"https://archive.ics.uci.edu/ml/machine-learning-databases/heart-disease/processed.hungarian.data\"\n",
    "\n",
    "hungarian_data <- read_csv(url, col_names = c('age', 'sex', 'chest_pain', 'resting_blood_pressure', 'cholesterol', \n",
    "                                              'fasting_blood_sugar', 'resting_ecg', 'max_heart_rate', 'exercise_induced_angina',\n",
    "                                              'st_depression', 'peak_st_slope', 'major_vessel_num', 'thal', 'diagnosis'))\n",
    "glimpse(hungarian_data)"
   ]
  },
  {
   "cell_type": "markdown",
   "id": "c37f8b60-8177-4c14-86c2-59a8f8a8c087",
   "metadata": {},
   "source": [
    "Figure 2.1.1: The initial dataset with the correct column names."
   ]
  },
  {
   "cell_type": "markdown",
   "id": "333e0746-92e6-4ec0-83c8-0373c3e409d9",
   "metadata": {},
   "source": [
    "Clean the dataset and select the columns we need for our model:"
   ]
  },
  {
   "cell_type": "code",
   "execution_count": 3,
   "id": "0d158d88-6c66-459a-a172-117101ae6b06",
   "metadata": {},
   "outputs": [
    {
     "name": "stderr",
     "output_type": "stream",
     "text": [
      "Warning message in lapply(hungarian_clean[as_double], as.double):\n",
      "“NAs introduced by coercion”\n",
      "Warning message in lapply(hungarian_clean[as_double], as.double):\n",
      "“NAs introduced by coercion”\n",
      "Warning message in lapply(hungarian_clean[as_double], as.double):\n",
      "“NAs introduced by coercion”\n"
     ]
    },
    {
     "name": "stdout",
     "output_type": "stream",
     "text": [
      "Rows: 270\n",
      "Columns: 5\n",
      "$ age                    \u001b[3m\u001b[90m<dbl>\u001b[39m\u001b[23m 28, 29, 30, 31, 32, 32, 32, 33, 34, 34, 34, 35,…\n",
      "$ resting_blood_pressure \u001b[3m\u001b[90m<dbl>\u001b[39m\u001b[23m 130, 120, 170, 100, 105, 110, 125, 120, 130, 15…\n",
      "$ cholesterol            \u001b[3m\u001b[90m<dbl>\u001b[39m\u001b[23m 132, 243, 237, 219, 198, 225, 254, 298, 161, 21…\n",
      "$ max_heart_rate         \u001b[3m\u001b[90m<dbl>\u001b[39m\u001b[23m 185, 160, 170, 150, 165, 184, 155, 185, 190, 16…\n",
      "$ diagnosis              \u001b[3m\u001b[90m<fct>\u001b[39m\u001b[23m 0, 0, 0, 0, 0, 0, 0, 0, 0, 0, 0, 0, 0, 0, 0, 0,…\n"
     ]
    }
   ],
   "source": [
    "hungarian_clean <- hungarian_data |>\n",
    "    select(age, resting_blood_pressure, cholesterol, max_heart_rate, diagnosis) |> # Select applicable columns to use as predictors.\n",
    "    mutate(diagnosis = as.factor(diagnosis)) # Change the diagnosis column to factor so that it can be used as the predicted result.\n",
    "\n",
    "# Mutate the data frame so that all of the numerical predictors are doubles rather than characters.             \n",
    "as_double <- c(\"resting_blood_pressure\", \"cholesterol\", \"max_heart_rate\")\n",
    "hungarian_clean[as_double] <- lapply(hungarian_clean[as_double], as.double)\n",
    "\n",
    "#Get rid of any rows with NA\n",
    "hungarian_clean <- hungarian_clean |>\n",
    "            filter_all(all_vars(!is.na(.)))\n",
    "\n",
    "# View the cleaned dataframe.\n",
    "glimpse(hungarian_clean)"
   ]
  },
  {
   "cell_type": "markdown",
   "id": "fc859437-6e7e-4241-8513-5ff6820f19dc",
   "metadata": {},
   "source": [
    "Figure 2.1.2: The full dataset after cleaning."
   ]
  },
  {
   "cell_type": "markdown",
   "id": "d0f14258-2419-4f77-aad7-28daa9c9d2d5",
   "metadata": {},
   "source": [
    "Split the cleaned data into a training set and testing set (75% for training and 25% for testing). This proportion was chosen so that there is sufficient training data and testing data, both with a common convention (Dr. Campbell). "
   ]
  },
  {
   "cell_type": "code",
   "execution_count": 5,
   "id": "a0b1f66f-a379-4551-bfa7-111cd85223e8",
   "metadata": {},
   "outputs": [
    {
     "data": {
      "text/html": [
       "<table class=\"dataframe\">\n",
       "<caption>A tibble: 6 × 5</caption>\n",
       "<thead>\n",
       "\t<tr><th scope=col>age</th><th scope=col>resting_blood_pressure</th><th scope=col>cholesterol</th><th scope=col>max_heart_rate</th><th scope=col>diagnosis</th></tr>\n",
       "\t<tr><th scope=col>&lt;dbl&gt;</th><th scope=col>&lt;dbl&gt;</th><th scope=col>&lt;dbl&gt;</th><th scope=col>&lt;dbl&gt;</th><th scope=col>&lt;fct&gt;</th></tr>\n",
       "</thead>\n",
       "<tbody>\n",
       "\t<tr><td>29</td><td>120</td><td>243</td><td>160</td><td>0</td></tr>\n",
       "\t<tr><td>30</td><td>170</td><td>237</td><td>170</td><td>0</td></tr>\n",
       "\t<tr><td>31</td><td>100</td><td>219</td><td>150</td><td>0</td></tr>\n",
       "\t<tr><td>32</td><td>105</td><td>198</td><td>165</td><td>0</td></tr>\n",
       "\t<tr><td>32</td><td>110</td><td>225</td><td>184</td><td>0</td></tr>\n",
       "\t<tr><td>32</td><td>125</td><td>254</td><td>155</td><td>0</td></tr>\n",
       "</tbody>\n",
       "</table>\n"
      ],
      "text/latex": [
       "A tibble: 6 × 5\n",
       "\\begin{tabular}{lllll}\n",
       " age & resting\\_blood\\_pressure & cholesterol & max\\_heart\\_rate & diagnosis\\\\\n",
       " <dbl> & <dbl> & <dbl> & <dbl> & <fct>\\\\\n",
       "\\hline\n",
       "\t 29 & 120 & 243 & 160 & 0\\\\\n",
       "\t 30 & 170 & 237 & 170 & 0\\\\\n",
       "\t 31 & 100 & 219 & 150 & 0\\\\\n",
       "\t 32 & 105 & 198 & 165 & 0\\\\\n",
       "\t 32 & 110 & 225 & 184 & 0\\\\\n",
       "\t 32 & 125 & 254 & 155 & 0\\\\\n",
       "\\end{tabular}\n"
      ],
      "text/markdown": [
       "\n",
       "A tibble: 6 × 5\n",
       "\n",
       "| age &lt;dbl&gt; | resting_blood_pressure &lt;dbl&gt; | cholesterol &lt;dbl&gt; | max_heart_rate &lt;dbl&gt; | diagnosis &lt;fct&gt; |\n",
       "|---|---|---|---|---|\n",
       "| 29 | 120 | 243 | 160 | 0 |\n",
       "| 30 | 170 | 237 | 170 | 0 |\n",
       "| 31 | 100 | 219 | 150 | 0 |\n",
       "| 32 | 105 | 198 | 165 | 0 |\n",
       "| 32 | 110 | 225 | 184 | 0 |\n",
       "| 32 | 125 | 254 | 155 | 0 |\n",
       "\n"
      ],
      "text/plain": [
       "  age resting_blood_pressure cholesterol max_heart_rate diagnosis\n",
       "1 29  120                    243         160            0        \n",
       "2 30  170                    237         170            0        \n",
       "3 31  100                    219         150            0        \n",
       "4 32  105                    198         165            0        \n",
       "5 32  110                    225         184            0        \n",
       "6 32  125                    254         155            0        "
      ]
     },
     "metadata": {},
     "output_type": "display_data"
    },
    {
     "data": {
      "text/html": [
       "<table class=\"dataframe\">\n",
       "<caption>A tibble: 6 × 5</caption>\n",
       "<thead>\n",
       "\t<tr><th scope=col>age</th><th scope=col>resting_blood_pressure</th><th scope=col>cholesterol</th><th scope=col>max_heart_rate</th><th scope=col>diagnosis</th></tr>\n",
       "\t<tr><th scope=col>&lt;dbl&gt;</th><th scope=col>&lt;dbl&gt;</th><th scope=col>&lt;dbl&gt;</th><th scope=col>&lt;dbl&gt;</th><th scope=col>&lt;fct&gt;</th></tr>\n",
       "</thead>\n",
       "<tbody>\n",
       "\t<tr><td>28</td><td>130</td><td>132</td><td>185</td><td>0</td></tr>\n",
       "\t<tr><td>33</td><td>120</td><td>298</td><td>185</td><td>0</td></tr>\n",
       "\t<tr><td>36</td><td>120</td><td>166</td><td>180</td><td>0</td></tr>\n",
       "\t<tr><td>36</td><td>112</td><td>340</td><td>184</td><td>0</td></tr>\n",
       "\t<tr><td>37</td><td>130</td><td>211</td><td>142</td><td>0</td></tr>\n",
       "\t<tr><td>37</td><td>130</td><td>173</td><td>184</td><td>0</td></tr>\n",
       "</tbody>\n",
       "</table>\n"
      ],
      "text/latex": [
       "A tibble: 6 × 5\n",
       "\\begin{tabular}{lllll}\n",
       " age & resting\\_blood\\_pressure & cholesterol & max\\_heart\\_rate & diagnosis\\\\\n",
       " <dbl> & <dbl> & <dbl> & <dbl> & <fct>\\\\\n",
       "\\hline\n",
       "\t 28 & 130 & 132 & 185 & 0\\\\\n",
       "\t 33 & 120 & 298 & 185 & 0\\\\\n",
       "\t 36 & 120 & 166 & 180 & 0\\\\\n",
       "\t 36 & 112 & 340 & 184 & 0\\\\\n",
       "\t 37 & 130 & 211 & 142 & 0\\\\\n",
       "\t 37 & 130 & 173 & 184 & 0\\\\\n",
       "\\end{tabular}\n"
      ],
      "text/markdown": [
       "\n",
       "A tibble: 6 × 5\n",
       "\n",
       "| age &lt;dbl&gt; | resting_blood_pressure &lt;dbl&gt; | cholesterol &lt;dbl&gt; | max_heart_rate &lt;dbl&gt; | diagnosis &lt;fct&gt; |\n",
       "|---|---|---|---|---|\n",
       "| 28 | 130 | 132 | 185 | 0 |\n",
       "| 33 | 120 | 298 | 185 | 0 |\n",
       "| 36 | 120 | 166 | 180 | 0 |\n",
       "| 36 | 112 | 340 | 184 | 0 |\n",
       "| 37 | 130 | 211 | 142 | 0 |\n",
       "| 37 | 130 | 173 | 184 | 0 |\n",
       "\n"
      ],
      "text/plain": [
       "  age resting_blood_pressure cholesterol max_heart_rate diagnosis\n",
       "1 28  130                    132         185            0        \n",
       "2 33  120                    298         185            0        \n",
       "3 36  120                    166         180            0        \n",
       "4 36  112                    340         184            0        \n",
       "5 37  130                    211         142            0        \n",
       "6 37  130                    173         184            0        "
      ]
     },
     "metadata": {},
     "output_type": "display_data"
    }
   ],
   "source": [
    "# Split data into training set and testing set.\n",
    "hungarian_split <- initial_split(hungarian_clean, prop = 0.75, strata = diagnosis)\n",
    "hungarian_train <- training(hungarian_split)\n",
    "hungarian_test <- testing(hungarian_split)\n",
    "\n",
    "head(hungarian_train)\n",
    "head(hungarian_test)"
   ]
  },
  {
   "cell_type": "markdown",
   "id": "010b1006-3cd8-48f1-b8ed-d0d2bcc8bca4",
   "metadata": {},
   "source": [
    "Figure 2.1.3: The training dataset and the testing dataset after the initial split."
   ]
  },
  {
   "cell_type": "markdown",
   "id": "627592a0-6458-4d48-8740-3781dbaf1cdf",
   "metadata": {},
   "source": [
    "Create an exploratory data analysis table using the training dataset. For each diagnosis (0 being \"no heart disease\" and 1 being \"having heart disease\"), we show 6 valuable pieces of information: the total number of data points in our dataset (n_row), the percentage out of the total number of data points (percentage_of_total_data), the average age (age_mean), the average resting blood pressure (resting_blood_pressure_mean), the average cholesterol level (cholesterol_mean), and the average maximum heart rate reached (max_heart_rate_mean). "
   ]
  },
  {
   "cell_type": "code",
   "execution_count": 5,
   "id": "f74ef29a-9f4f-4db0-aa5d-15be466def13",
   "metadata": {},
   "outputs": [
    {
     "data": {
      "text/html": [
       "<table class=\"dataframe\">\n",
       "<caption>A tibble: 2 × 7</caption>\n",
       "<thead>\n",
       "\t<tr><th scope=col>diagnosis</th><th scope=col>n_row</th><th scope=col>percentage_of_total_data</th><th scope=col>age_mean</th><th scope=col>resting_blood_pressure_mean</th><th scope=col>cholesterol_mean</th><th scope=col>max_heart_rate_mean</th></tr>\n",
       "\t<tr><th scope=col>&lt;fct&gt;</th><th scope=col>&lt;int&gt;</th><th scope=col>&lt;dbl&gt;</th><th scope=col>&lt;dbl&gt;</th><th scope=col>&lt;dbl&gt;</th><th scope=col>&lt;dbl&gt;</th><th scope=col>&lt;dbl&gt;</th></tr>\n",
       "</thead>\n",
       "<tbody>\n",
       "\t<tr><td>0</td><td>126</td><td>62.68657</td><td>46.77778</td><td>129.7619</td><td>238.4921</td><td>144.6270</td></tr>\n",
       "\t<tr><td>1</td><td> 75</td><td>37.31343</td><td>49.36000</td><td>134.7600</td><td>274.4667</td><td>129.1867</td></tr>\n",
       "</tbody>\n",
       "</table>\n"
      ],
      "text/latex": [
       "A tibble: 2 × 7\n",
       "\\begin{tabular}{lllllll}\n",
       " diagnosis & n\\_row & percentage\\_of\\_total\\_data & age\\_mean & resting\\_blood\\_pressure\\_mean & cholesterol\\_mean & max\\_heart\\_rate\\_mean\\\\\n",
       " <fct> & <int> & <dbl> & <dbl> & <dbl> & <dbl> & <dbl>\\\\\n",
       "\\hline\n",
       "\t 0 & 126 & 62.68657 & 46.77778 & 129.7619 & 238.4921 & 144.6270\\\\\n",
       "\t 1 &  75 & 37.31343 & 49.36000 & 134.7600 & 274.4667 & 129.1867\\\\\n",
       "\\end{tabular}\n"
      ],
      "text/markdown": [
       "\n",
       "A tibble: 2 × 7\n",
       "\n",
       "| diagnosis &lt;fct&gt; | n_row &lt;int&gt; | percentage_of_total_data &lt;dbl&gt; | age_mean &lt;dbl&gt; | resting_blood_pressure_mean &lt;dbl&gt; | cholesterol_mean &lt;dbl&gt; | max_heart_rate_mean &lt;dbl&gt; |\n",
       "|---|---|---|---|---|---|---|\n",
       "| 0 | 126 | 62.68657 | 46.77778 | 129.7619 | 238.4921 | 144.6270 |\n",
       "| 1 |  75 | 37.31343 | 49.36000 | 134.7600 | 274.4667 | 129.1867 |\n",
       "\n"
      ],
      "text/plain": [
       "  diagnosis n_row percentage_of_total_data age_mean resting_blood_pressure_mean\n",
       "1 0         126   62.68657                 46.77778 129.7619                   \n",
       "2 1          75   37.31343                 49.36000 134.7600                   \n",
       "  cholesterol_mean max_heart_rate_mean\n",
       "1 238.4921         144.6270           \n",
       "2 274.4667         129.1867           "
      ]
     },
     "metadata": {},
     "output_type": "display_data"
    }
   ],
   "source": [
    "hungarian_training_explore <- hungarian_train |>\n",
    "            group_by(diagnosis)|>\n",
    "            summarize(n_row = n(),\n",
    "                      percentage_of_total_data = n()*100/nrow(hungarian_train),\n",
    "                      age_mean = mean(age),\n",
    "                      resting_blood_pressure_mean = mean(resting_blood_pressure),\n",
    "                      cholesterol_mean = mean(cholesterol),\n",
    "                      max_heart_rate_mean = mean(max_heart_rate))\n",
    "\n",
    "hungarian_training_explore"
   ]
  },
  {
   "cell_type": "markdown",
   "id": "0cb41317-b4d0-4877-b5b9-a4fd7b0d92a2",
   "metadata": {},
   "source": [
    "Figure 2.1.4: The distribution of positive and negative diagnoses in the training dataset. "
   ]
  },
  {
   "cell_type": "markdown",
   "id": "06dea70f-7d04-4b04-95d6-79a0e766af16",
   "metadata": {},
   "source": [
    "We use ggpairs from the GGally package in order to display the correlations between our four predictors and show their correlations to our diagnosis variable. The red is a 0 (no heart disease) and the blue is a 1 (heart disease). "
   ]
  },
  {
   "cell_type": "code",
   "execution_count": 6,
   "id": "8313bc6f-74a6-43ed-b773-26c7075a427e",
   "metadata": {},
   "outputs": [
    {
     "data": {
      "image/png": "[encoded data removed]",
      "text/plain": [
       "plot without title"
      ]
     },
     "metadata": {
      "image/png": {
       "height": 480,
       "width": 720
      }
     },
     "output_type": "display_data"
    }
   ],
   "source": [
    "# Display our predictors and their correlations with one another.\n",
    "library(GGally)\n",
    "training_correlations <- hungarian_train |>\n",
    "    ggpairs(columns = 1:4, ggplot2::aes(colour=diagnosis), \n",
    "            columnLabels = c(\"Age\", \"Resting Blood Pressure\", \"Cholesterol\", \"Max Heart Rate\"))\n",
    "training_correlations"
   ]
  },
  {
   "cell_type": "markdown",
   "id": "8da640a4-72b0-44f3-ab21-ff915fd97dbc",
   "metadata": {},
   "source": [
    "Figure 2.1.5: How each predictor relates to other predictors and to the diagnosis."
   ]
  },
  {
   "cell_type": "markdown",
   "id": "d56fa1f0-1811-446f-83bc-90e6996edd52",
   "metadata": {},
   "source": [
    "Visualizing distribution of predictor variables:"
   ]
  },
  {
   "cell_type": "code",
   "execution_count": 7,
   "id": "e067a6d7-f121-4eb1-8ec8-a1233d4b2f20",
   "metadata": {},
   "outputs": [
    {
     "data": {
      "image/png": "[encoded data removed]",
      "text/plain": [
       "plot without title"
      ]
     },
     "metadata": {
      "image/png": {
       "height": 1500,
       "width": 600
      }
     },
     "output_type": "display_data"
    }
   ],
   "source": [
    "options(repr.plot.width = 10, repr.plot.height = 25)\n",
    "\n",
    "training_age_plot <- hungarian_train |>\n",
    "                ggplot(aes(x=age))+\n",
    "                geom_histogram(binwidth=5)+\n",
    "                labs(x=\"Age\", y=\"Count\")+\n",
    "                ggtitle(\"Distribution of age for training data\")+\n",
    "                theme(text=element_text(size=20), plot.title=element_text(hjust=0.5))\n",
    "\n",
    "training_resting_blood_pressure_plot <- hungarian_train |>\n",
    "                ggplot(aes(x=resting_blood_pressure))+\n",
    "                geom_histogram(binwidth=5)+\n",
    "                labs(x=\"Resting blood pressure\", y=\"Count\")+\n",
    "                ggtitle(\"Distribution of Resting blood pressure for training data\")+\n",
    "                theme(text=element_text(size=20), plot.title=element_text(hjust=0.5))\n",
    "\n",
    "training_cholesterol_plot <- hungarian_train |>\n",
    "                ggplot(aes(x=cholesterol))+\n",
    "                geom_histogram(binwidth=5)+\n",
    "                labs(x=\"Cholesterol\", y=\"Count\")+\n",
    "                ggtitle(\"Distribution of cholesterol for training data\")+\n",
    "                theme(text=element_text(size=20), plot.title=element_text(hjust=0.5))\n",
    "\n",
    "training_max_heart_rate_plot <- hungarian_train |>\n",
    "                ggplot(aes(x=max_heart_rate))+\n",
    "                geom_histogram(binwidth=5)+\n",
    "                labs(x=\"Max heart rate\", y=\"Count\")+\n",
    "                ggtitle(\"Distribution of max heart rate for training data\")+\n",
    "                theme(text=element_text(size=20), plot.title=element_text(hjust=0.5)) \n",
    "\n",
    "hungarian_training_plot <- plot_grid(training_age_plot,\n",
    "                                     training_resting_blood_pressure_plot, \n",
    "                                     training_cholesterol_plot, \n",
    "                                     training_max_heart_rate_plot,\n",
    "                                     ncol=1)\n",
    "\n",
    "hungarian_training_plot"
   ]
  },
  {
   "cell_type": "markdown",
   "id": "e6712cdb-295a-495b-a62d-eeae49109971",
   "metadata": {},
   "source": [
    "Figure 2.1.6: Distribution of predictor variables"
   ]
  },
  {
   "cell_type": "markdown",
   "id": "bf569648-fafc-4ef1-ab30-ab2fc40e8d86",
   "metadata": {},
   "source": [
    "## 2.2: Data Analysis"
   ]
  },
  {
   "cell_type": "code",
   "execution_count": 8,
   "id": "9f48e8db-bfd5-4e13-8931-3d8b73e0a507",
   "metadata": {},
   "outputs": [
    {
     "data": {
      "text/plain": [
       "Recipe\n",
       "\n",
       "Inputs:\n",
       "\n",
       "      role #variables\n",
       "   outcome          1\n",
       " predictor          4\n",
       "\n",
       "Operations:\n",
       "\n",
       "Scaling for all_predictors()\n",
       "Centering for all_predictors()"
      ]
     },
     "metadata": {},
     "output_type": "display_data"
    }
   ],
   "source": [
    "hungarian_recipe <- recipe(diagnosis ~ age + resting_blood_pressure + cholesterol + max_heart_rate, data = hungarian_train) |>\n",
    "  step_scale(all_predictors()) |>\n",
    "  step_center(all_predictors())\n",
    "\n",
    "hungarian_recipe"
   ]
  },
  {
   "cell_type": "markdown",
   "id": "ed6d4a9c-9ecb-4bba-a99d-43c9517b5512",
   "metadata": {},
   "source": [
    "In the initialized recipe, we set the diagnosis as our target variable while setting age, resting blood pressure, cholesterol, and max heart rate to be our predictors. The predictors were then standardized(scaled and centered) to have a mean of 0 and a standard deviation of 1."
   ]
  },
  {
   "cell_type": "code",
   "execution_count": 9,
   "id": "2d67a4b7-de38-40a7-b9da-d7ed0586c827",
   "metadata": {},
   "outputs": [
    {
     "data": {
      "text/plain": [
       "K-Nearest Neighbor Model Specification (classification)\n",
       "\n",
       "Main Arguments:\n",
       "  neighbors = tune()\n",
       "  weight_func = rectangular\n",
       "\n",
       "Computational engine: kknn \n"
      ]
     },
     "metadata": {},
     "output_type": "display_data"
    }
   ],
   "source": [
    "knn_spec <- nearest_neighbor(weight_func = \"rectangular\", neighbors = tune()) |>\n",
    "  set_engine(\"kknn\") |>\n",
    "  set_mode(\"classification\")\n",
    "\n",
    "knn_spec"
   ]
  },
  {
   "cell_type": "markdown",
   "id": "46d1bb58-c96b-4eb5-a0cd-a9151382cf90",
   "metadata": {},
   "source": [
    "We create the model specification here. We use the k nearest neighbor algorithm and set it to tune the neighbors. We set the engine to be k nearest neighbors and the mode to classification, as this is a k nearest neighbor classification problem. "
   ]
  },
  {
   "cell_type": "code",
   "execution_count": 10,
   "id": "ca11034b-70b7-4a87-8e15-02fc44e07a1f",
   "metadata": {},
   "outputs": [],
   "source": [
    "hungarian_vfold <- vfold_cv(hungarian_train, v = 5, strata = diagnosis)"
   ]
  },
  {
   "cell_type": "markdown",
   "id": "25c9b884-c325-4f5f-b9a2-5df5a383bf7f",
   "metadata": {},
   "source": [
    "Doing cross-validation in k-nearest neighbour classification will allow the best k to be picked accordingly to the accuracy that each k results in, where the k that gives the highest prediction accuracy will be chosen. 5-fold cross-validation tunes the model by splitting the overall training data into 5 even-sized groups, in which while 1 group of data is used as the validation set, the other 4 remaining groups are used as the training set. This process was then repeated 5 times (Dr. Campbell)."
   ]
  },
  {
   "cell_type": "code",
   "execution_count": 11,
   "id": "36c37e6e-42db-40ba-ae9a-842474cf4f49",
   "metadata": {},
   "outputs": [],
   "source": [
    "k_tibble <- tibble(neighbors = seq(from = 1, to = 31, by = 2))"
   ]
  },
  {
   "cell_type": "code",
   "execution_count": 12,
   "id": "3d93a38c-be38-4d1b-a4ea-0886f5855ebf",
   "metadata": {},
   "outputs": [
    {
     "data": {
      "text/html": [
       "<table class=\"dataframe\">\n",
       "<caption>A tibble: 16 × 7</caption>\n",
       "<thead>\n",
       "\t<tr><th scope=col>neighbors</th><th scope=col>.metric</th><th scope=col>.estimator</th><th scope=col>mean</th><th scope=col>n</th><th scope=col>std_err</th><th scope=col>.config</th></tr>\n",
       "\t<tr><th scope=col>&lt;dbl&gt;</th><th scope=col>&lt;chr&gt;</th><th scope=col>&lt;chr&gt;</th><th scope=col>&lt;dbl&gt;</th><th scope=col>&lt;int&gt;</th><th scope=col>&lt;dbl&gt;</th><th scope=col>&lt;chr&gt;</th></tr>\n",
       "</thead>\n",
       "<tbody>\n",
       "\t<tr><td> 1</td><td>accuracy</td><td>binary</td><td>0.5126829</td><td>5</td><td>0.01463592</td><td>Preprocessor1_Model01</td></tr>\n",
       "\t<tr><td> 3</td><td>accuracy</td><td>binary</td><td>0.5175610</td><td>5</td><td>0.03150935</td><td>Preprocessor1_Model02</td></tr>\n",
       "\t<tr><td> 5</td><td>accuracy</td><td>binary</td><td>0.5425610</td><td>5</td><td>0.03654897</td><td>Preprocessor1_Model03</td></tr>\n",
       "\t<tr><td> 7</td><td>accuracy</td><td>binary</td><td>0.5873171</td><td>5</td><td>0.03119866</td><td>Preprocessor1_Model04</td></tr>\n",
       "\t<tr><td> 9</td><td>accuracy</td><td>binary</td><td>0.5773171</td><td>5</td><td>0.01961994</td><td>Preprocessor1_Model05</td></tr>\n",
       "\t<tr><td>11</td><td>accuracy</td><td>binary</td><td>0.6117073</td><td>5</td><td>0.02120286</td><td>Preprocessor1_Model06</td></tr>\n",
       "\t<tr><td>13</td><td>accuracy</td><td>binary</td><td>0.6367073</td><td>5</td><td>0.01551515</td><td>Preprocessor1_Model07</td></tr>\n",
       "\t<tr><td>15</td><td>accuracy</td><td>binary</td><td>0.6319512</td><td>5</td><td>0.02370736</td><td>Preprocessor1_Model08</td></tr>\n",
       "\t<tr><td>17</td><td>accuracy</td><td>binary</td><td>0.6468293</td><td>5</td><td>0.02868019</td><td>Preprocessor1_Model09</td></tr>\n",
       "\t<tr><td>19</td><td>accuracy</td><td>binary</td><td>0.6519512</td><td>5</td><td>0.02534811</td><td>Preprocessor1_Model10</td></tr>\n",
       "\t<tr><td>21</td><td>accuracy</td><td>binary</td><td>0.6568293</td><td>5</td><td>0.02373620</td><td>Preprocessor1_Model11</td></tr>\n",
       "\t<tr><td>23</td><td>accuracy</td><td>binary</td><td>0.6519512</td><td>5</td><td>0.02274921</td><td>Preprocessor1_Model12</td></tr>\n",
       "\t<tr><td>25</td><td>accuracy</td><td>binary</td><td>0.6419512</td><td>5</td><td>0.01942377</td><td>Preprocessor1_Model13</td></tr>\n",
       "\t<tr><td>27</td><td>accuracy</td><td>binary</td><td>0.6417073</td><td>5</td><td>0.01729021</td><td>Preprocessor1_Model14</td></tr>\n",
       "\t<tr><td>29</td><td>accuracy</td><td>binary</td><td>0.6368293</td><td>5</td><td>0.02305862</td><td>Preprocessor1_Model15</td></tr>\n",
       "\t<tr><td>31</td><td>accuracy</td><td>binary</td><td>0.6318293</td><td>5</td><td>0.02421308</td><td>Preprocessor1_Model16</td></tr>\n",
       "</tbody>\n",
       "</table>\n"
      ],
      "text/latex": [
       "A tibble: 16 × 7\n",
       "\\begin{tabular}{lllllll}\n",
       " neighbors & .metric & .estimator & mean & n & std\\_err & .config\\\\\n",
       " <dbl> & <chr> & <chr> & <dbl> & <int> & <dbl> & <chr>\\\\\n",
       "\\hline\n",
       "\t  1 & accuracy & binary & 0.5126829 & 5 & 0.01463592 & Preprocessor1\\_Model01\\\\\n",
       "\t  3 & accuracy & binary & 0.5175610 & 5 & 0.03150935 & Preprocessor1\\_Model02\\\\\n",
       "\t  5 & accuracy & binary & 0.5425610 & 5 & 0.03654897 & Preprocessor1\\_Model03\\\\\n",
       "\t  7 & accuracy & binary & 0.5873171 & 5 & 0.03119866 & Preprocessor1\\_Model04\\\\\n",
       "\t  9 & accuracy & binary & 0.5773171 & 5 & 0.01961994 & Preprocessor1\\_Model05\\\\\n",
       "\t 11 & accuracy & binary & 0.6117073 & 5 & 0.02120286 & Preprocessor1\\_Model06\\\\\n",
       "\t 13 & accuracy & binary & 0.6367073 & 5 & 0.01551515 & Preprocessor1\\_Model07\\\\\n",
       "\t 15 & accuracy & binary & 0.6319512 & 5 & 0.02370736 & Preprocessor1\\_Model08\\\\\n",
       "\t 17 & accuracy & binary & 0.6468293 & 5 & 0.02868019 & Preprocessor1\\_Model09\\\\\n",
       "\t 19 & accuracy & binary & 0.6519512 & 5 & 0.02534811 & Preprocessor1\\_Model10\\\\\n",
       "\t 21 & accuracy & binary & 0.6568293 & 5 & 0.02373620 & Preprocessor1\\_Model11\\\\\n",
       "\t 23 & accuracy & binary & 0.6519512 & 5 & 0.02274921 & Preprocessor1\\_Model12\\\\\n",
       "\t 25 & accuracy & binary & 0.6419512 & 5 & 0.01942377 & Preprocessor1\\_Model13\\\\\n",
       "\t 27 & accuracy & binary & 0.6417073 & 5 & 0.01729021 & Preprocessor1\\_Model14\\\\\n",
       "\t 29 & accuracy & binary & 0.6368293 & 5 & 0.02305862 & Preprocessor1\\_Model15\\\\\n",
       "\t 31 & accuracy & binary & 0.6318293 & 5 & 0.02421308 & Preprocessor1\\_Model16\\\\\n",
       "\\end{tabular}\n"
      ],
      "text/markdown": [
       "\n",
       "A tibble: 16 × 7\n",
       "\n",
       "| neighbors &lt;dbl&gt; | .metric &lt;chr&gt; | .estimator &lt;chr&gt; | mean &lt;dbl&gt; | n &lt;int&gt; | std_err &lt;dbl&gt; | .config &lt;chr&gt; |\n",
       "|---|---|---|---|---|---|---|\n",
       "|  1 | accuracy | binary | 0.5126829 | 5 | 0.01463592 | Preprocessor1_Model01 |\n",
       "|  3 | accuracy | binary | 0.5175610 | 5 | 0.03150935 | Preprocessor1_Model02 |\n",
       "|  5 | accuracy | binary | 0.5425610 | 5 | 0.03654897 | Preprocessor1_Model03 |\n",
       "|  7 | accuracy | binary | 0.5873171 | 5 | 0.03119866 | Preprocessor1_Model04 |\n",
       "|  9 | accuracy | binary | 0.5773171 | 5 | 0.01961994 | Preprocessor1_Model05 |\n",
       "| 11 | accuracy | binary | 0.6117073 | 5 | 0.02120286 | Preprocessor1_Model06 |\n",
       "| 13 | accuracy | binary | 0.6367073 | 5 | 0.01551515 | Preprocessor1_Model07 |\n",
       "| 15 | accuracy | binary | 0.6319512 | 5 | 0.02370736 | Preprocessor1_Model08 |\n",
       "| 17 | accuracy | binary | 0.6468293 | 5 | 0.02868019 | Preprocessor1_Model09 |\n",
       "| 19 | accuracy | binary | 0.6519512 | 5 | 0.02534811 | Preprocessor1_Model10 |\n",
       "| 21 | accuracy | binary | 0.6568293 | 5 | 0.02373620 | Preprocessor1_Model11 |\n",
       "| 23 | accuracy | binary | 0.6519512 | 5 | 0.02274921 | Preprocessor1_Model12 |\n",
       "| 25 | accuracy | binary | 0.6419512 | 5 | 0.01942377 | Preprocessor1_Model13 |\n",
       "| 27 | accuracy | binary | 0.6417073 | 5 | 0.01729021 | Preprocessor1_Model14 |\n",
       "| 29 | accuracy | binary | 0.6368293 | 5 | 0.02305862 | Preprocessor1_Model15 |\n",
       "| 31 | accuracy | binary | 0.6318293 | 5 | 0.02421308 | Preprocessor1_Model16 |\n",
       "\n"
      ],
      "text/plain": [
       "   neighbors .metric  .estimator mean      n std_err    .config              \n",
       "1   1        accuracy binary     0.5126829 5 0.01463592 Preprocessor1_Model01\n",
       "2   3        accuracy binary     0.5175610 5 0.03150935 Preprocessor1_Model02\n",
       "3   5        accuracy binary     0.5425610 5 0.03654897 Preprocessor1_Model03\n",
       "4   7        accuracy binary     0.5873171 5 0.03119866 Preprocessor1_Model04\n",
       "5   9        accuracy binary     0.5773171 5 0.01961994 Preprocessor1_Model05\n",
       "6  11        accuracy binary     0.6117073 5 0.02120286 Preprocessor1_Model06\n",
       "7  13        accuracy binary     0.6367073 5 0.01551515 Preprocessor1_Model07\n",
       "8  15        accuracy binary     0.6319512 5 0.02370736 Preprocessor1_Model08\n",
       "9  17        accuracy binary     0.6468293 5 0.02868019 Preprocessor1_Model09\n",
       "10 19        accuracy binary     0.6519512 5 0.02534811 Preprocessor1_Model10\n",
       "11 21        accuracy binary     0.6568293 5 0.02373620 Preprocessor1_Model11\n",
       "12 23        accuracy binary     0.6519512 5 0.02274921 Preprocessor1_Model12\n",
       "13 25        accuracy binary     0.6419512 5 0.01942377 Preprocessor1_Model13\n",
       "14 27        accuracy binary     0.6417073 5 0.01729021 Preprocessor1_Model14\n",
       "15 29        accuracy binary     0.6368293 5 0.02305862 Preprocessor1_Model15\n",
       "16 31        accuracy binary     0.6318293 5 0.02421308 Preprocessor1_Model16"
      ]
     },
     "metadata": {},
     "output_type": "display_data"
    }
   ],
   "source": [
    "results <- workflow() |>\n",
    "  add_recipe(hungarian_recipe) |>\n",
    "  add_model(knn_spec) |>\n",
    "  tune_grid(resamples = hungarian_vfold, grid = k_tibble) |>\n",
    "  collect_metrics() |>\n",
    "  filter(.metric == \"accuracy\")\n",
    "\n",
    "results"
   ]
  },
  {
   "cell_type": "markdown",
   "id": "1b1d2964-e065-40eb-82fc-39d6aa08f98f",
   "metadata": {},
   "source": [
    "Figure 2.2.1: A table of the accuracies of each K found through cross-validation."
   ]
  },
  {
   "cell_type": "markdown",
   "id": "e81f6bae-6b28-44af-98f8-fd197157a981",
   "metadata": {},
   "source": [
    "After combining the recipe and the model specification into a workflow and filtering the workflow to contain only our desired metric variable (accuracy), the estimated accuracy can be observed for each possible k we have previously chosen to test. "
   ]
  },
  {
   "cell_type": "code",
   "execution_count": 13,
   "id": "6918b2d3-a46f-43fe-ba81-998b68b90cfa",
   "metadata": {},
   "outputs": [
    {
     "data": {
      "image/png": "[encoded data removed]",
      "text/plain": [
       "plot without title"
      ]
     },
     "metadata": {
      "image/png": {
       "height": 420,
       "width": 720
      }
     },
     "output_type": "display_data"
    }
   ],
   "source": [
    "options(repr.plot.width = 12, repr.plot.height = 7)\n",
    "\n",
    "cross_val_plot <- results |> \n",
    "    ggplot(aes(x = neighbors, y = mean)) +\n",
    "    geom_line() +\n",
    "    geom_point() +\n",
    "    labs(x = \"Neighbours\", y = \"Accuracy Estimate\", title = \"Estimated Accuracies of k Neighbours\") +\n",
    "    theme(text = element_text(size=20), plot.title = element_text(hjust=0.5))\n",
    "\n",
    "cross_val_plot"
   ]
  },
  {
   "cell_type": "markdown",
   "id": "f2c08f19-2fc4-4ead-81f6-c935e100c9be",
   "metadata": {},
   "source": [
    "Figure 2.2.2: An elbow plot of the accuracies of each K value found through cross-validation. From this plot, it is clear that the best K for our analysis is 21. "
   ]
  },
  {
   "cell_type": "markdown",
   "id": "47f61652-fa6d-4d82-a38a-7d59d5b87705",
   "metadata": {},
   "source": [
    "Visualizing the variance of estimated accuracies of the different number of k neighbours, and observed that there is an \"elbow\" at 21, 22 where the accuracy stops increasing dramatically and begins to level down or start to decrease (Dr. Campbell)."
   ]
  },
  {
   "cell_type": "code",
   "execution_count": 14,
   "id": "c233f0bb-f55c-436b-b624-a5da59929867",
   "metadata": {},
   "outputs": [
    {
     "data": {
      "text/html": [
       "21"
      ],
      "text/latex": [
       "21"
      ],
      "text/markdown": [
       "21"
      ],
      "text/plain": [
       "[1] 21"
      ]
     },
     "metadata": {},
     "output_type": "display_data"
    }
   ],
   "source": [
    "best_k <- results |>\n",
    "    filter(mean == max(mean)) |>\n",
    "    pull(neighbors)\n",
    "\n",
    "best_k"
   ]
  },
  {
   "cell_type": "markdown",
   "id": "18435116-5cbd-4422-ae7e-902285e6fb07",
   "metadata": {},
   "source": [
    "In order to get a more accuracy number for k, we filtered the previous workflow that stored the estimated accuracy of each of the picked k to get the k that has the maximum accuracy mean."
   ]
  },
  {
   "cell_type": "code",
   "execution_count": 15,
   "id": "1280cdcf-7a66-4dd0-bd97-e908a2216a21",
   "metadata": {},
   "outputs": [
    {
     "data": {
      "text/html": [
       "<table class=\"dataframe\">\n",
       "<caption>A tibble: 1 × 2</caption>\n",
       "<thead>\n",
       "\t<tr><th scope=col>.metric</th><th scope=col>.estimate</th></tr>\n",
       "\t<tr><th scope=col>&lt;chr&gt;</th><th scope=col>&lt;dbl&gt;</th></tr>\n",
       "</thead>\n",
       "<tbody>\n",
       "\t<tr><td>accuracy</td><td>0.6666667</td></tr>\n",
       "</tbody>\n",
       "</table>\n"
      ],
      "text/latex": [
       "A tibble: 1 × 2\n",
       "\\begin{tabular}{ll}\n",
       " .metric & .estimate\\\\\n",
       " <chr> & <dbl>\\\\\n",
       "\\hline\n",
       "\t accuracy & 0.6666667\\\\\n",
       "\\end{tabular}\n"
      ],
      "text/markdown": [
       "\n",
       "A tibble: 1 × 2\n",
       "\n",
       "| .metric &lt;chr&gt; | .estimate &lt;dbl&gt; |\n",
       "|---|---|\n",
       "| accuracy | 0.6666667 |\n",
       "\n"
      ],
      "text/plain": [
       "  .metric  .estimate\n",
       "1 accuracy 0.6666667"
      ]
     },
     "metadata": {},
     "output_type": "display_data"
    },
    {
     "data": {
      "text/plain": [
       "          Truth\n",
       "Prediction  0  1\n",
       "         0 35 15\n",
       "         1  8 11"
      ]
     },
     "metadata": {},
     "output_type": "display_data"
    }
   ],
   "source": [
    "##Create nearest neighbor model with best number of k\n",
    "knn_best_spec <- nearest_neighbor(weight_func = \"rectangular\", neighbors = best_k) |>\n",
    "  set_engine(\"kknn\") |>\n",
    "  set_mode(\"classification\")\n",
    "\n",
    "#Fit the model and recipe into training data\n",
    "hungarian_fit <- workflow() |>\n",
    "  add_recipe(hungarian_recipe) |>\n",
    "  add_model(knn_best_spec) |>\n",
    "  fit(data = hungarian_train)\n",
    "\n",
    "# Get the prediction column\n",
    "hungarian_predictions <- predict(hungarian_fit, hungarian_test) |> \n",
    "    bind_cols(hungarian_test)\n",
    "\n",
    "# Compare the accuracy of predictions to the true values in the test set\n",
    "hungarian_accuracy <- hungarian_predictions |> \n",
    "    metrics(truth = diagnosis, estimate = .pred_class) |> \n",
    "    select(.metric, .estimate) |> \n",
    "    head(1)\n",
    "\n",
    "# Compare the predictions to the true values in a confusion matrix\n",
    "hungarian_comparison <- hungarian_predictions |> \n",
    "    conf_mat(truth = diagnosis, estimate = .pred_class)\n",
    "\n",
    "hungarian_accuracy\n",
    "hungarian_comparison"
   ]
  },
  {
   "cell_type": "markdown",
   "id": "a3c3d264-2c26-44f8-9971-c9abb38b7562",
   "metadata": {},
   "source": [
    "Figure 2.2.3: Accuracy tibble and prediction of testing data matrix"
   ]
  },
  {
   "cell_type": "markdown",
   "id": "028e8a35-b1f9-48c9-8702-19d1b1d23018",
   "metadata": {},
   "source": [
    "## Part 3: Discussion"
   ]
  },
  {
   "cell_type": "markdown",
   "id": "bdb0a281-ebbf-4a64-9a60-f5cdfcbc9e5e",
   "metadata": {},
   "source": [
    "Overall, our model did very poorly and would not be recommended for use in any real-world setting. The overall accuracy was about 66.7%, and, more importantly, our model only accurately identified heart disease in patients 15.9% of the time. That means that our model would have incorrectly diagnosed about 84% of patients as having no heart disease. This is not good! \n",
    "\n",
    "These results are likely due to a few reasons: (1) our limited amount of data, (2) our predictor variables having little to no correlation with what we are trying to predict, and (3) overfitting our model to our training data. First, our dataset was very small, having only 270 total observations after filtering out observations labeled “N.A.” and before splitting the data into training and testing. Then, after doing the initial split, we had a training dataset with only 201 observations and a testing dataset with only 69 observations.\n",
    "\n",
    "Second, our dataset showed little correlation between predictors and the prediction overall. From Figure 2.1.5, it is clear that none of our predictors have a clear correlation with whether or not someone has heart disease (based on this dataset) because the red and blue points (red equaling “no heart disease” and blue equaling “heart disease”) are not located in concise clusters in any of these experimental graphs. Due to this, our model struggles to find patterns in the data and therefore struggles to accurately classify new data. This issue is also clear when changing the initial random seed in our analysis. If the seed changes, our results vary significantly which means that our data is not well-suited for classification. \n",
    "\n",
    "In conclusion, we expected to find a correlation between our four risk factors and the likelihood of having heart disease, however, the accuracy is only about 66.7% and this is too low to be used practically. To develop the model more, we would require more data to be fed into the model in training so that it can have a better accuracy and thereby be a viable source of medical suggestion.\n",
    "\n",
    "This raises some ongoing questions:\n",
    "1) Would we be able to find correlations between these four risk factors and heart disease if our dataset had been larger?\n",
    "2) Could one of the other heart disease datasets (such as the Cleveland set) have produced better results and a more reliable model overall?\n",
    "3) Will it ever be possible to diagnose patients with a high enough degree of accuracy as to eliminate the need for a medical professional?\n",
    "\n",
    "\n"
   ]
  },
  {
   "cell_type": "markdown",
   "id": "c1425feb-cb0e-485b-b021-d18814e1690e",
   "metadata": {},
   "source": [
    "*************SHOULD WE STILL DISCUSS THIS??? \n",
    "\n",
    "From our experiment, we found that we were only able to obtain a 66% accuracy using the optimal K value of 21 that we found through cross-validation. This may be because of lack of data to train the model. Our training data had around 200 data points while our K value is 21 which is over 10% of the whole dataset. This is significantly less than the ideal number of data points required for a high accuracy model. However, we tried other K values as well and found that a K value of 12 actually gave us a higher accuracy of 74%! This likely means that we overfit our model to the training data. "
   ]
  },
  {
   "cell_type": "code",
   "execution_count": 16,
   "id": "5350decc-8d5b-4b73-af3f-107bed4a546d",
   "metadata": {},
   "outputs": [
    {
     "data": {
      "text/plain": [
       "K-Nearest Neighbor Model Specification (classification)\n",
       "\n",
       "Main Arguments:\n",
       "  neighbors = 12\n",
       "  weight_func = rectangular\n",
       "\n",
       "Computational engine: kknn \n"
      ]
     },
     "metadata": {},
     "output_type": "display_data"
    },
    {
     "data": {
      "text/plain": [
       "== Workflow [trained] ==================================================================================================\n",
       "\u001b[3mPreprocessor:\u001b[23m Recipe\n",
       "\u001b[3mModel:\u001b[23m nearest_neighbor()\n",
       "\n",
       "-- Preprocessor --------------------------------------------------------------------------------------------------------\n",
       "2 Recipe Steps\n",
       "\n",
       "* step_scale()\n",
       "* step_center()\n",
       "\n",
       "-- Model ---------------------------------------------------------------------------------------------------------------\n",
       "\n",
       "Call:\n",
       "kknn::train.kknn(formula = ..y ~ ., data = data, ks = min_rows(12,     data, 5), kernel = ~\"rectangular\")\n",
       "\n",
       "Type of response variable: nominal\n",
       "Minimal misclassification: 0.3830846\n",
       "Best kernel: rectangular\n",
       "Best k: 12"
      ]
     },
     "metadata": {},
     "output_type": "display_data"
    },
    {
     "data": {
      "text/html": [
       "<table class=\"dataframe\">\n",
       "<caption>A tibble: 1 × 2</caption>\n",
       "<thead>\n",
       "\t<tr><th scope=col>.metric</th><th scope=col>.estimate</th></tr>\n",
       "\t<tr><th scope=col>&lt;chr&gt;</th><th scope=col>&lt;dbl&gt;</th></tr>\n",
       "</thead>\n",
       "<tbody>\n",
       "\t<tr><td>accuracy</td><td>0.7391304</td></tr>\n",
       "</tbody>\n",
       "</table>\n"
      ],
      "text/latex": [
       "A tibble: 1 × 2\n",
       "\\begin{tabular}{ll}\n",
       " .metric & .estimate\\\\\n",
       " <chr> & <dbl>\\\\\n",
       "\\hline\n",
       "\t accuracy & 0.7391304\\\\\n",
       "\\end{tabular}\n"
      ],
      "text/markdown": [
       "\n",
       "A tibble: 1 × 2\n",
       "\n",
       "| .metric &lt;chr&gt; | .estimate &lt;dbl&gt; |\n",
       "|---|---|\n",
       "| accuracy | 0.7391304 |\n",
       "\n"
      ],
      "text/plain": [
       "  .metric  .estimate\n",
       "1 accuracy 0.7391304"
      ]
     },
     "metadata": {},
     "output_type": "display_data"
    },
    {
     "data": {
      "text/plain": [
       "          Truth\n",
       "Prediction  0  1\n",
       "         0 39 14\n",
       "         1  4 12"
      ]
     },
     "metadata": {},
     "output_type": "display_data"
    }
   ],
   "source": [
    "# Testing neighbors = 12\n",
    "knn_best_spec <- nearest_neighbor(weight_func = \"rectangular\", neighbors = 12) |>\n",
    "  set_engine(\"kknn\") |>\n",
    "  set_mode(\"classification\")\n",
    "\n",
    "knn_best_spec\n",
    "\n",
    "hungarian_fit <- workflow() |>\n",
    "  add_recipe(hungarian_recipe) |>\n",
    "  add_model(knn_best_spec) |>\n",
    "  fit(data = hungarian_train)\n",
    "\n",
    "hungarian_fit\n",
    "\n",
    "# Get the prediction column\n",
    "hungarian_predictions <- predict(hungarian_fit, hungarian_test) |> \n",
    "    bind_cols(hungarian_test)\n",
    "\n",
    "# Compare the accuracy of predictions to the true values in the test set\n",
    "hungarian_accuracy <- hungarian_predictions |> \n",
    "    metrics(truth = diagnosis, estimate = .pred_class) |> \n",
    "    select(.metric, .estimate) |> \n",
    "    head(1)\n",
    "\n",
    "hungarian_accuracy\n",
    "\n",
    "# Compare the predictions to the true values in a confusion matrix\n",
    "hungarian_comparison <- hungarian_predictions |> \n",
    "    conf_mat(truth = diagnosis, estimate = .pred_class)\n",
    "\n",
    "hungarian_comparison"
   ]
  },
  {
   "cell_type": "markdown",
   "id": "0e7c838d-4116-4caf-a7b1-b9c3f5d66e85",
   "metadata": {},
   "source": [
    "## Expected Outcomes and Significance"
   ]
  },
  {
   "cell_type": "markdown",
   "id": "5ae6440b-8d69-4c1f-8735-72ba38189b0e",
   "metadata": {},
   "source": [
    "*********** WE SHOULD DELETE THIS SECTION\n",
    "\n",
    "We expected to find a correlation between our four risk factors and likelihood of having heart disease. However, the accuracy is too low to be used practically. To develop the model more, we would require more data to be fed into the model to train so that it can have a better accuracy and be a viable source of medical suggestion.\n",
    "\n",
    "Our goal of creating a model with high accuracy of heart disease prediction, if successful, can aid the medical community by creating a fast and easier diagnosis of heart disease, such as in a rural setting where equipment like ECG may not exist. They could input our measurements for each of our 4 risk factors that need minimal equipment and determine whether the patient is developing heart disease. \n",
    "\n",
    "Future questions:\n",
    "- Is our model applicable to other regions such as longbeach?\n",
    "- Is it ethical to rely only on a model and remove a doctor's role?\n",
    "- Can a model be 100% accurate?\n",
    "- Could these data points be used against individuals by insurance companies as a form of stigmatization? How do we protect data but publicize it for others?\n",
    "- Does this model break the HIPAA law that protects a patient's medical information?"
   ]
  },
  {
   "cell_type": "markdown",
   "id": "895859d6-558b-4315-85f7-1ef830c629e5",
   "metadata": {},
   "source": [
    "## References"
   ]
  },
  {
   "cell_type": "markdown",
   "id": "e1c68505-c0fa-4657-baed-803fb716f449",
   "metadata": {},
   "source": [
    "Dua, D. and Graff, C. (2019). UCI Machine Learning Repository [http://archive.ics.uci.edu/ml]. Irvine, CA: University of California, School of Information and Computer Science."
   ]
  },
  {
   "cell_type": "code",
   "execution_count": null,
   "id": "acb76098-a302-4d6b-a58f-e06c9d853c3d",
   "metadata": {},
   "outputs": [],
   "source": []
  }
 ],
 "metadata": {
  "kernelspec": {
   "display_name": "R",
   "language": "R",
   "name": "ir"
  },
  "language_info": {
   "codemirror_mode": "r",
   "file_extension": ".r",
   "mimetype": "text/x-r-source",
   "name": "R",
   "pygments_lexer": "r",
   "version": "4.1.3"
  }
 },
 "nbformat": 4,
 "nbformat_minor": 5
}
