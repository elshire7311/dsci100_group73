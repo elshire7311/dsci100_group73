{
 "cells": [
  {
   "cell_type": "markdown",
   "id": "802b28c4-8f75-4cce-af21-4e67fca7f7e1",
   "metadata": {},
   "source": [
    "# Project on Heart Disease (Group 73)"
   ]
  },
  {
   "cell_type": "markdown",
   "id": "82fbe41b-9fe6-4954-9200-39551d0e349f",
   "metadata": {},
   "source": [
    "## Introduction"
   ]
  },
  {
   "cell_type": "markdown",
   "id": "30ec6f2f-87a2-4984-bc2f-b15b622e1a21",
   "metadata": {},
   "source": [
    "Heart disease is a broad term that refers to different heart conditions. Something in common is their effect on blood flow and dilation of veins to the heart. Other factors such as age, cholestrol, and blood pressure are also closely linked with heart disease.  \n",
    "Our project aims to research whether these factors have a correlation with heart disease and will provide a classification model which will predict whether a person has heart disease based on four factors:\n",
    "1. Age [age]\n",
    "2. Resting blood pressure (in mm Hg on admission to the hospital) [trestbps]\n",
    "3. Cholesterol [chol]\n",
    "4. Maximum heart rate achieved [thalach]"
   ]
  },
  {
   "cell_type": "markdown",
   "id": "ab47ae57-1a24-4376-ba1c-04b11d919c79",
   "metadata": {},
   "source": [
    "We will use data taken from the UCI Machine Learning Repository's Heart Disease Dataset to train our model to predict whether someone has heart disease based on the 4 risk factors listed above. Our model will use diagnoses of heart disease based on the percentage of narrowing in major arteries (with <50% narrowing meaning they don't have heart disease and >50% narrowing meaning that they do have heart disease). \n",
    "\n",
    "In our directory (retrieved from https://archive.ics.uci.edu/ml/datasets/Heart+Disease), there are four databases containing data from: Cleveland, Hungary, Long Beach (California), and Switzerland. We decided to choose the Hungarian data due to it having a binary column indicating whether or not a person is likely to have heart disease. This dataset was collected from the Hungarian Institute of Cardiology in Budapest."
   ]
  },
  {
   "cell_type": "markdown",
   "id": "76034094-1478-4053-b3fb-018d94bc4102",
   "metadata": {},
   "source": [
    "######## CAN THIS CELL BE DELETED?? #############\n",
    "\n",
    "Cleveland Clinic Foundation (cleveland.data)\n",
    "Hungarian Institute of Cardiology, Budapest (hungarian.data)\n",
    "V.A. Medical Center, Long Beach, CA (long-beach-va.data)\n",
    "University Hospital, Zurich, Switzerland (switzerland.data)\n",
    "\n",
    "\n",
    "This project aims to build a classification model to predict whether a patient presenting to the hospital would have a risk of heart disease by taking into account results from multiple medical tests. \n",
    "The dataset (https://archive.ics.uci.edu/ml/datasets/Heart+Disease) provides us with multiple attributes such as age and sex as well as a categorical attribute of whether a patient is in a risk of having a heart attack\n",
    "\n",
    "The term “heart disease” refers to several types of heart conditions. The most common type of heart disease in the United States is coronary artery disease (CAD), which affects the blood flow to the heart. Decreased blood flow can cause a heart attack."
   ]
  },
  {
   "cell_type": "markdown",
   "id": "662c6db2-1316-457d-99df-21655cd1ceb9",
   "metadata": {},
   "source": [
    "## Data Preparation"
   ]
  },
  {
   "cell_type": "markdown",
   "id": "42a1c16b-c12b-44ba-8155-345d6413b7b5",
   "metadata": {},
   "source": [
    "First, attach the libraries and load in the Hungarian dataset."
   ]
  },
  {
   "cell_type": "code",
   "execution_count": 56,
   "id": "8e08961d-6c29-4017-a55d-55bafb8e2c5a",
   "metadata": {},
   "outputs": [],
   "source": [
    "# Attatch the librarys\n",
    "library(tidyverse)\n",
    "library(tidymodels)\n",
    "library(cowplot)"
   ]
  },
  {
   "cell_type": "markdown",
   "id": "1ea70adc-3ad3-4950-b334-4dc70db5255d",
   "metadata": {},
   "source": [
    "Load the hungarian heart disease dataset and set proper column names."
   ]
  },
  {
   "cell_type": "code",
   "execution_count": 2,
   "id": "2a0e4bfb-feb3-487a-b2ba-aaba2a5d4ed8",
   "metadata": {},
   "outputs": [
    {
     "name": "stderr",
     "output_type": "stream",
     "text": [
      "\u001b[1mRows: \u001b[22m\u001b[34m294\u001b[39m \u001b[1mColumns: \u001b[22m\u001b[34m14\u001b[39m\n",
      "\u001b[36m--\u001b[39m \u001b[1mColumn specification\u001b[22m \u001b[36m------------------------------------------------------------------------------------------------\u001b[39m\n",
      "\u001b[1mDelimiter:\u001b[22m \",\"\n",
      "\u001b[31mchr\u001b[39m (9): resting_blood_pressure, cholesterol, fasting_blood_sugar, resting_e...\n",
      "\u001b[32mdbl\u001b[39m (5): age, sex, chest_pain, st_depression, diagnosis\n",
      "\n",
      "\u001b[36mi\u001b[39m Use `spec()` to retrieve the full column specification for this data.\n",
      "\u001b[36mi\u001b[39m Specify the column types or set `show_col_types = FALSE` to quiet this message.\n"
     ]
    },
    {
     "data": {
      "text/html": [
       "<table class=\"dataframe\">\n",
       "<caption>A tibble: 6 × 14</caption>\n",
       "<thead>\n",
       "\t<tr><th scope=col>age</th><th scope=col>sex</th><th scope=col>chest_pain</th><th scope=col>resting_blood_pressure</th><th scope=col>cholesterol</th><th scope=col>fasting_blood_sugar</th><th scope=col>resting_ecg</th><th scope=col>max_heart_rate</th><th scope=col>exercise_induced_angina</th><th scope=col>st_depression</th><th scope=col>peak_st_slope</th><th scope=col>major_vessel_num</th><th scope=col>thal</th><th scope=col>diagnosis</th></tr>\n",
       "\t<tr><th scope=col>&lt;dbl&gt;</th><th scope=col>&lt;dbl&gt;</th><th scope=col>&lt;dbl&gt;</th><th scope=col>&lt;chr&gt;</th><th scope=col>&lt;chr&gt;</th><th scope=col>&lt;chr&gt;</th><th scope=col>&lt;chr&gt;</th><th scope=col>&lt;chr&gt;</th><th scope=col>&lt;chr&gt;</th><th scope=col>&lt;dbl&gt;</th><th scope=col>&lt;chr&gt;</th><th scope=col>&lt;chr&gt;</th><th scope=col>&lt;chr&gt;</th><th scope=col>&lt;dbl&gt;</th></tr>\n",
       "</thead>\n",
       "<tbody>\n",
       "\t<tr><td>28</td><td>1</td><td>2</td><td>130</td><td>132</td><td>0</td><td>2</td><td>185</td><td>0</td><td>0</td><td>?</td><td>?</td><td>?</td><td>0</td></tr>\n",
       "\t<tr><td>29</td><td>1</td><td>2</td><td>120</td><td>243</td><td>0</td><td>0</td><td>160</td><td>0</td><td>0</td><td>?</td><td>?</td><td>?</td><td>0</td></tr>\n",
       "\t<tr><td>29</td><td>1</td><td>2</td><td>140</td><td>?  </td><td>0</td><td>0</td><td>170</td><td>0</td><td>0</td><td>?</td><td>?</td><td>?</td><td>0</td></tr>\n",
       "\t<tr><td>30</td><td>0</td><td>1</td><td>170</td><td>237</td><td>0</td><td>1</td><td>170</td><td>0</td><td>0</td><td>?</td><td>?</td><td>6</td><td>0</td></tr>\n",
       "\t<tr><td>31</td><td>0</td><td>2</td><td>100</td><td>219</td><td>0</td><td>1</td><td>150</td><td>0</td><td>0</td><td>?</td><td>?</td><td>?</td><td>0</td></tr>\n",
       "\t<tr><td>32</td><td>0</td><td>2</td><td>105</td><td>198</td><td>0</td><td>0</td><td>165</td><td>0</td><td>0</td><td>?</td><td>?</td><td>?</td><td>0</td></tr>\n",
       "</tbody>\n",
       "</table>\n"
      ],
      "text/latex": [
       "A tibble: 6 × 14\n",
       "\\begin{tabular}{llllllllllllll}\n",
       " age & sex & chest\\_pain & resting\\_blood\\_pressure & cholesterol & fasting\\_blood\\_sugar & resting\\_ecg & max\\_heart\\_rate & exercise\\_induced\\_angina & st\\_depression & peak\\_st\\_slope & major\\_vessel\\_num & thal & diagnosis\\\\\n",
       " <dbl> & <dbl> & <dbl> & <chr> & <chr> & <chr> & <chr> & <chr> & <chr> & <dbl> & <chr> & <chr> & <chr> & <dbl>\\\\\n",
       "\\hline\n",
       "\t 28 & 1 & 2 & 130 & 132 & 0 & 2 & 185 & 0 & 0 & ? & ? & ? & 0\\\\\n",
       "\t 29 & 1 & 2 & 120 & 243 & 0 & 0 & 160 & 0 & 0 & ? & ? & ? & 0\\\\\n",
       "\t 29 & 1 & 2 & 140 & ?   & 0 & 0 & 170 & 0 & 0 & ? & ? & ? & 0\\\\\n",
       "\t 30 & 0 & 1 & 170 & 237 & 0 & 1 & 170 & 0 & 0 & ? & ? & 6 & 0\\\\\n",
       "\t 31 & 0 & 2 & 100 & 219 & 0 & 1 & 150 & 0 & 0 & ? & ? & ? & 0\\\\\n",
       "\t 32 & 0 & 2 & 105 & 198 & 0 & 0 & 165 & 0 & 0 & ? & ? & ? & 0\\\\\n",
       "\\end{tabular}\n"
      ],
      "text/markdown": [
       "\n",
       "A tibble: 6 × 14\n",
       "\n",
       "| age &lt;dbl&gt; | sex &lt;dbl&gt; | chest_pain &lt;dbl&gt; | resting_blood_pressure &lt;chr&gt; | cholesterol &lt;chr&gt; | fasting_blood_sugar &lt;chr&gt; | resting_ecg &lt;chr&gt; | max_heart_rate &lt;chr&gt; | exercise_induced_angina &lt;chr&gt; | st_depression &lt;dbl&gt; | peak_st_slope &lt;chr&gt; | major_vessel_num &lt;chr&gt; | thal &lt;chr&gt; | diagnosis &lt;dbl&gt; |\n",
       "|---|---|---|---|---|---|---|---|---|---|---|---|---|---|\n",
       "| 28 | 1 | 2 | 130 | 132 | 0 | 2 | 185 | 0 | 0 | ? | ? | ? | 0 |\n",
       "| 29 | 1 | 2 | 120 | 243 | 0 | 0 | 160 | 0 | 0 | ? | ? | ? | 0 |\n",
       "| 29 | 1 | 2 | 140 | ?   | 0 | 0 | 170 | 0 | 0 | ? | ? | ? | 0 |\n",
       "| 30 | 0 | 1 | 170 | 237 | 0 | 1 | 170 | 0 | 0 | ? | ? | 6 | 0 |\n",
       "| 31 | 0 | 2 | 100 | 219 | 0 | 1 | 150 | 0 | 0 | ? | ? | ? | 0 |\n",
       "| 32 | 0 | 2 | 105 | 198 | 0 | 0 | 165 | 0 | 0 | ? | ? | ? | 0 |\n",
       "\n"
      ],
      "text/plain": [
       "  age sex chest_pain resting_blood_pressure cholesterol fasting_blood_sugar\n",
       "1 28  1   2          130                    132         0                  \n",
       "2 29  1   2          120                    243         0                  \n",
       "3 29  1   2          140                    ?           0                  \n",
       "4 30  0   1          170                    237         0                  \n",
       "5 31  0   2          100                    219         0                  \n",
       "6 32  0   2          105                    198         0                  \n",
       "  resting_ecg max_heart_rate exercise_induced_angina st_depression\n",
       "1 2           185            0                       0            \n",
       "2 0           160            0                       0            \n",
       "3 0           170            0                       0            \n",
       "4 1           170            0                       0            \n",
       "5 1           150            0                       0            \n",
       "6 0           165            0                       0            \n",
       "  peak_st_slope major_vessel_num thal diagnosis\n",
       "1 ?             ?                ?    0        \n",
       "2 ?             ?                ?    0        \n",
       "3 ?             ?                ?    0        \n",
       "4 ?             ?                6    0        \n",
       "5 ?             ?                ?    0        \n",
       "6 ?             ?                ?    0        "
      ]
     },
     "metadata": {},
     "output_type": "display_data"
    }
   ],
   "source": [
    "# load hungarian heart disease dataset from database\n",
    "\n",
    "url <- \"https://archive.ics.uci.edu/ml/machine-learning-databases/heart-disease/processed.hungarian.data\"\n",
    "\n",
    "hungarian_data <- read_csv(url, col_names = c('age', 'sex', 'chest_pain', 'resting_blood_pressure', 'cholesterol', \n",
    "                                              'fasting_blood_sugar', 'resting_ecg', 'max_heart_rate', 'exercise_induced_angina',\n",
    "                                              'st_depression', 'peak_st_slope', 'major_vessel_num', 'thal', 'diagnosis'))\n",
    "head(hungarian_data)"
   ]
  },
  {
   "cell_type": "markdown",
   "id": "333e0746-92e6-4ec0-83c8-0373c3e409d9",
   "metadata": {},
   "source": [
    "Clean the dataset and keep only the columns we need for our model."
   ]
  },
  {
   "cell_type": "code",
   "execution_count": 23,
   "id": "0d158d88-6c66-459a-a172-117101ae6b06",
   "metadata": {},
   "outputs": [
    {
     "name": "stderr",
     "output_type": "stream",
     "text": [
      "Warning message in lapply(hungarian_clean[as_double], as.double):\n",
      "\"NAs introduced by coercion\"\n",
      "Warning message in lapply(hungarian_clean[as_double], as.double):\n",
      "\"NAs introduced by coercion\"\n",
      "Warning message in lapply(hungarian_clean[as_double], as.double):\n",
      "\"NAs introduced by coercion\"\n"
     ]
    },
    {
     "name": "stdout",
     "output_type": "stream",
     "text": [
      "Rows: 270\n",
      "Columns: 5\n",
      "$ age                    \u001b[3m\u001b[90m<dbl>\u001b[39m\u001b[23m 28, 29, 30, 31, 32, 32, 32, 33, 34, 34, 34, 35,~\n",
      "$ resting_blood_pressure \u001b[3m\u001b[90m<dbl>\u001b[39m\u001b[23m 130, 120, 170, 100, 105, 110, 125, 120, 130, 15~\n",
      "$ cholesterol            \u001b[3m\u001b[90m<dbl>\u001b[39m\u001b[23m 132, 243, 237, 219, 198, 225, 254, 298, 161, 21~\n",
      "$ max_heart_rate         \u001b[3m\u001b[90m<dbl>\u001b[39m\u001b[23m 185, 160, 170, 150, 165, 184, 155, 185, 190, 16~\n",
      "$ diagnosis              \u001b[3m\u001b[90m<fct>\u001b[39m\u001b[23m 0, 0, 0, 0, 0, 0, 0, 0, 0, 0, 0, 0, 0, 0, 0, 0,~\n"
     ]
    }
   ],
   "source": [
    "hungarian_clean <- hungarian_data |>\n",
    "    # Select applicable columns to use as predictors.\n",
    "    select(age, resting_blood_pressure, cholesterol, max_heart_rate, diagnosis) |>\n",
    "    # Change the diagnosis column to factor so that it can be used as the predicted result.\n",
    "    mutate(diagnosis = as.factor(diagnosis))\n",
    "\n",
    "# Mutate the data frame so that all of the numerical predictors are doubles rather than characters.             \n",
    "as_double <- c(\"resting_blood_pressure\", \"cholesterol\", \"max_heart_rate\")\n",
    "hungarian_clean[as_double] <- lapply(hungarian_clean[as_double], as.double)\n",
    "\n",
    "#Get rid of any rows with NA\n",
    "hungarian_clean <- hungarian_clean |>\n",
    "            filter_all(all_vars(!is.na(.)))\n",
    "\n",
    "# View the cleaned dataframe.\n",
    "glimpse(hungarian_clean)"
   ]
  },
  {
   "cell_type": "markdown",
   "id": "b7253d0a-4934-420b-a091-1167cafec8e2",
   "metadata": {},
   "source": [
    "Split the cleaned data into training set and testing set, where 75% of the data are used to training while the remaining 25% will be used for testing. The proportion are chosen so that there is sufficient data to train the model with sufficient data to test the model and obtain the accuracy of the model. "
   ]
  },
  {
   "cell_type": "code",
   "execution_count": 36,
   "id": "a0b1f66f-a379-4551-bfa7-111cd85223e8",
   "metadata": {},
   "outputs": [],
   "source": [
    "# Split data into training set and testing set.\n",
    "set.seed(1000)\n",
    "\n",
    "hungarian_split <- initial_split(hungarian_clean, prop = 0.75, strata = diagnosis)\n",
    "hungarian_train <- training(hungarian_split)\n",
    "hungarian_test <- testing(hungarian_split)"
   ]
  },
  {
   "cell_type": "markdown",
   "id": "627592a0-6458-4d48-8740-3781dbaf1cdf",
   "metadata": {},
   "source": [
    "Create an exploratory data analysis table using the training dataset"
   ]
  },
  {
   "cell_type": "code",
   "execution_count": 35,
   "id": "f74ef29a-9f4f-4db0-aa5d-15be466def13",
   "metadata": {},
   "outputs": [
    {
     "data": {
      "text/html": [
       "<table class=\"dataframe\">\n",
       "<caption>A tibble: 2 × 7</caption>\n",
       "<thead>\n",
       "\t<tr><th scope=col>diagnosis</th><th scope=col>n_row</th><th scope=col>percentage_of_total_data</th><th scope=col>age_mean</th><th scope=col>resting_blood_pressure_mean</th><th scope=col>cholesterol_mean</th><th scope=col>max_heart_rate_mean</th></tr>\n",
       "\t<tr><th scope=col>&lt;fct&gt;</th><th scope=col>&lt;int&gt;</th><th scope=col>&lt;dbl&gt;</th><th scope=col>&lt;dbl&gt;</th><th scope=col>&lt;dbl&gt;</th><th scope=col>&lt;dbl&gt;</th><th scope=col>&lt;dbl&gt;</th></tr>\n",
       "</thead>\n",
       "<tbody>\n",
       "\t<tr><td>0</td><td>126</td><td>62.68657</td><td>46.77778</td><td>129.7619</td><td>238.4921</td><td>144.6270</td></tr>\n",
       "\t<tr><td>1</td><td> 75</td><td>37.31343</td><td>49.36000</td><td>134.7600</td><td>274.4667</td><td>129.1867</td></tr>\n",
       "</tbody>\n",
       "</table>\n"
      ],
      "text/latex": [
       "A tibble: 2 × 7\n",
       "\\begin{tabular}{lllllll}\n",
       " diagnosis & n\\_row & percentage\\_of\\_total\\_data & age\\_mean & resting\\_blood\\_pressure\\_mean & cholesterol\\_mean & max\\_heart\\_rate\\_mean\\\\\n",
       " <fct> & <int> & <dbl> & <dbl> & <dbl> & <dbl> & <dbl>\\\\\n",
       "\\hline\n",
       "\t 0 & 126 & 62.68657 & 46.77778 & 129.7619 & 238.4921 & 144.6270\\\\\n",
       "\t 1 &  75 & 37.31343 & 49.36000 & 134.7600 & 274.4667 & 129.1867\\\\\n",
       "\\end{tabular}\n"
      ],
      "text/markdown": [
       "\n",
       "A tibble: 2 × 7\n",
       "\n",
       "| diagnosis &lt;fct&gt; | n_row &lt;int&gt; | percentage_of_total_data &lt;dbl&gt; | age_mean &lt;dbl&gt; | resting_blood_pressure_mean &lt;dbl&gt; | cholesterol_mean &lt;dbl&gt; | max_heart_rate_mean &lt;dbl&gt; |\n",
       "|---|---|---|---|---|---|---|\n",
       "| 0 | 126 | 62.68657 | 46.77778 | 129.7619 | 238.4921 | 144.6270 |\n",
       "| 1 |  75 | 37.31343 | 49.36000 | 134.7600 | 274.4667 | 129.1867 |\n",
       "\n"
      ],
      "text/plain": [
       "  diagnosis n_row percentage_of_total_data age_mean resting_blood_pressure_mean\n",
       "1 0         126   62.68657                 46.77778 129.7619                   \n",
       "2 1          75   37.31343                 49.36000 134.7600                   \n",
       "  cholesterol_mean max_heart_rate_mean\n",
       "1 238.4921         144.6270           \n",
       "2 274.4667         129.1867           "
      ]
     },
     "metadata": {},
     "output_type": "display_data"
    }
   ],
   "source": [
    "hungarian_training_explore <- hungarian_train |>\n",
    "            group_by(diagnosis)|>\n",
    "            summarize(n_row = n(),\n",
    "                      percentage_of_total_data = n()*100/nrow(hungarian_train),\n",
    "                      age_mean = mean(age),\n",
    "                      resting_blood_pressure_mean = mean(resting_blood_pressure),\n",
    "                      cholesterol_mean = mean(cholesterol),\n",
    "                      max_heart_rate_mean = mean(max_heart_rate))\n",
    "\n",
    "hungarian_training_explore"
   ]
  },
  {
   "cell_type": "markdown",
   "id": "d56fa1f0-1811-446f-83bc-90e6996edd52",
   "metadata": {},
   "source": [
    "Create a visualization of the distribution of predictor variables"
   ]
  },
  {
   "cell_type": "code",
   "execution_count": 60,
   "id": "e067a6d7-f121-4eb1-8ec8-a1233d4b2f20",
   "metadata": {},
   "outputs": [
    {
     "name": "stderr",
     "output_type": "stream",
     "text": [
      "`stat_bin()` using `bins = 30`. Pick better value with `binwidth`.\n",
      "\n",
      "`stat_bin()` using `bins = 30`. Pick better value with `binwidth`.\n",
      "\n",
      "`stat_bin()` using `bins = 30`. Pick better value with `binwidth`.\n",
      "\n",
      "`stat_bin()` using `bins = 30`. Pick better value with `binwidth`.\n",
      "\n"
     ]
    },
    {
     "data": {
      "image/png": "[encoded data removed]",
      "text/plain": [
       "plot without title"
      ]
     },
     "metadata": {
      "image/png": {
       "height": 1500,
       "width": 600
      }
     },
     "output_type": "display_data"
    }
   ],
   "source": [
    "options(repr.plot.width = 10, repr.plot.height = 25)\n",
    "plot_column <- c('age','resting_blood_pressure', 'cholesterol', 'max_heart_rate')\n",
    "\n",
    "training_age_plot <- hungarian_train |>\n",
    "                ggplot(aes(x=age))+\n",
    "                geom_histogram()+\n",
    "                labs(x=\"Age\", y=\"Count\")+\n",
    "                ggtitle(\"Distribution of age for training data\")+\n",
    "                theme(text=element_text(size=20), plot.title=element_text(hjust=0.5))\n",
    "\n",
    "training_resting_blood_pressure_plot <- hungarian_train |>\n",
    "                ggplot(aes(x=resting_blood_pressure))+\n",
    "                geom_histogram()+\n",
    "                labs(x=\"Resting blood pressure\", y=\"Count\")+\n",
    "                ggtitle(\"Distribution of Resting blood pressure for training data\")+\n",
    "                theme(text=element_text(size=20), plot.title=element_text(hjust=0.5))\n",
    "\n",
    "training_cholesterol_plot <- hungarian_train |>\n",
    "                ggplot(aes(x=cholesterol))+\n",
    "                geom_histogram()+\n",
    "                labs(x=\"Cholesterol\", y=\"Count\")+\n",
    "                ggtitle(\"Distribution of cholesterol for training data\")+\n",
    "                theme(text=element_text(size=20), plot.title=element_text(hjust=0.5))\n",
    "\n",
    "training_max_heart_rate_plot <- hungarian_train |>\n",
    "                ggplot(aes(x=max_heart_rate))+\n",
    "                geom_histogram()+\n",
    "                labs(x=\"Max heart rate\", y=\"Count\")+\n",
    "                ggtitle(\"Distribution of max heart rate for training data\")+\n",
    "                theme(text=element_text(size=20), plot.title=element_text(hjust=0.5))\n",
    "\n",
    "hungarian_training_plot <- plot_grid(training_age_plot,\n",
    "                                     training_resting_blood_pressure_plot, \n",
    "                                     training_cholesterol_plot, \n",
    "                                     training_max_heart_rate_plot,\n",
    "                                     ncol=1)\n",
    "\n",
    "hungarian_training_plot"
   ]
  },
  {
   "cell_type": "markdown",
   "id": "24c115f4-7785-4fbc-8501-3748007bdb32",
   "metadata": {},
   "source": [
    "## Method"
   ]
  },
  {
   "cell_type": "markdown",
   "id": "98407124-15aa-43c8-b206-1f085462bed7",
   "metadata": {},
   "source": [
    "We will build the classification model using k-nearest neighbors. We will build it using the training data (hungarian_train) and test it for accuracy using the testing data (hungarian_test). The number of k we use will be tuned to have the highest accuracy through cross-validation. The predictor variables we use will only be variables that have a numerical data type and not a factorable data type. This is because factorable data types can not be used for k-nearest neighbors as distance can not be calculated for factors. \n",
    "\n",
    "We can visualize the tuning using cross-validation by plotting a graph with number of k vs accuracy "
   ]
  },
  {
   "cell_type": "markdown",
   "id": "072548c3-2dc0-486d-908e-8c35bc020296",
   "metadata": {},
   "source": [
    "## Expected Outcomes and Significance"
   ]
  },
  {
   "cell_type": "markdown",
   "id": "ea2f6e64-0f41-4f40-b013-167b1ed310aa",
   "metadata": {},
   "source": [
    "From this research project, we expect to find a correlation between risk factors (specifically, a person's age, cholesterol, maximum heart rate achieved, and resting blood pressure) and the overall likelyhood that they have heart disease. With this research, we hope to create a model that can predict (to a high level of accuracy) whether a person has heart disease. If our model is successful, it will be a great aid to the medical community by creating fast and easy diagnosis of heart disease in patients, and will allow doctors to quickly assist those in need. A doctor could simply input the measurements taken for each of the 4 risk factors and the model will determine whether the patient is developing heart disease or not. \n",
    "\n",
    "After our model is complete, future questions may be raised on this topic such as:\n",
    "- Are there other diseases that can be accurately predicted based on a chosen set of measurable risk factors?\n",
    "- Will it ever be ethical to nearly remove a doctor from the situation and trust a model instead?\n",
    "- Is it possible to create a model that is 100% accurate?\n",
    "- How might a model, such as ours, affect the speed at which heart disease is detected and treated, and could this lead to more lives saved in the future?"
   ]
  },
  {
   "cell_type": "code",
   "execution_count": null,
   "id": "0176a381-e480-4716-b036-bfe68248c160",
   "metadata": {},
   "outputs": [],
   "source": [
    "####### ARE WE KEEPING ANY OF THE FOLLOWING CELLS?? ##########"
   ]
  },
  {
   "cell_type": "code",
   "execution_count": 6,
   "id": "f0ebe52c-b356-4b4c-ba4c-d4dd3daec40b",
   "metadata": {},
   "outputs": [
    {
     "data": {
      "text/plain": [
       "Recipe\n",
       "\n",
       "Inputs:\n",
       "\n",
       "      role #variables\n",
       "   outcome          1\n",
       " predictor          4\n",
       "\n",
       "Operations:\n",
       "\n",
       "Scaling for all_predictors()\n",
       "Centering for all_predictors()"
      ]
     },
     "metadata": {},
     "output_type": "display_data"
    }
   ],
   "source": [
    "#YAY we got our final data\n",
    "#now we need to split into training and testing\n",
    "\n",
    "#longbeach_train\n",
    "#longbeach_test\n",
    "\n",
    "long_beach_recipe <- recipe(num ~ age + trestbps + chol + thalach, data = longbeach_select) |>\n",
    "   step_scale(all_predictors()) |>\n",
    "   step_center(all_predictors())\n",
    "\n",
    "long_beach_recipe"
   ]
  },
  {
   "cell_type": "code",
   "execution_count": null,
   "id": "ff86c241-6edd-4955-b6e8-ccd4024707b7",
   "metadata": {},
   "outputs": [],
   "source": []
  },
  {
   "cell_type": "code",
   "execution_count": 34,
   "id": "accd4216-3e75-4db6-bd95-557665849b8b",
   "metadata": {},
   "outputs": [],
   "source": [
    "# Now we need to make KNN spec and workflow\n",
    "\n",
    "knn_spec <- nearest_neighbor(weight_func = \"rectangular\", neighbors = 27) |>\n",
    "      set_engine(\"kknn\") |>\n",
    "      set_mode(\"classification\")\n",
    "#knn_spec\n",
    "long_beach_fit <- workflow() |>\n",
    "      add_recipe(long_beach_recipe) |>\n",
    "      add_model(knn_spec) |>\n",
    "      fit(data = longbeach_train)\n",
    "#long_beach_fit"
   ]
  },
  {
   "cell_type": "code",
   "execution_count": 35,
   "id": "bf487ca8-f8ba-4749-a5b5-f0a15e9f65ba",
   "metadata": {},
   "outputs": [
    {
     "name": "stdout",
     "output_type": "stream",
     "text": [
      "\u001b[90m# A tibble: 69 × 6\u001b[39m\n",
      "   .pred_class   age trestbps  chol thalach num  \n",
      "   \u001b[3m\u001b[90m<fct>\u001b[39m\u001b[23m       \u001b[3m\u001b[90m<dbl>\u001b[39m\u001b[23m    \u001b[3m\u001b[90m<dbl>\u001b[39m\u001b[23m \u001b[3m\u001b[90m<dbl>\u001b[39m\u001b[23m   \u001b[3m\u001b[90m<dbl>\u001b[39m\u001b[23m \u001b[3m\u001b[90m<fct>\u001b[39m\u001b[23m\n",
      "\u001b[90m 1\u001b[39m 0              29      120   243     160 0    \n",
      "\u001b[90m 2\u001b[39m 0              31      100   219     150 0    \n",
      "\u001b[90m 3\u001b[39m 0              32      110   225     184 0    \n",
      "\u001b[90m 4\u001b[39m 0              34      130   161     190 0    \n",
      "\u001b[90m 5\u001b[39m 0              35      140   167     150 0    \n",
      "\u001b[90m 6\u001b[39m 0              35      120   308     180 0    \n",
      "\u001b[90m 7\u001b[39m 0              37      120   260     130 0    \n",
      "\u001b[90m 8\u001b[39m 0              37      130   315     158 0    \n",
      "\u001b[90m 9\u001b[39m 0              39      190   241     106 0    \n",
      "\u001b[90m10\u001b[39m 0              40      140   289     172 0    \n",
      "\u001b[90m# … with 59 more rows\u001b[39m\n"
     ]
    }
   ],
   "source": [
    "long_beach_predictions <- predict(long_beach_fit , longbeach_test) |>\n",
    "      bind_cols(longbeach_test)\n",
    "long_beach_predictions |>\n",
    "print(n=10)"
   ]
  },
  {
   "cell_type": "code",
   "execution_count": 36,
   "id": "2601b2b0-fc4b-4df2-91d7-f9fdeeaba0e8",
   "metadata": {},
   "outputs": [
    {
     "data": {
      "text/html": [
       "<table class=\"dataframe\">\n",
       "<caption>A tibble: 2 × 3</caption>\n",
       "<thead>\n",
       "\t<tr><th scope=col>.metric</th><th scope=col>.estimator</th><th scope=col>.estimate</th></tr>\n",
       "\t<tr><th scope=col>&lt;chr&gt;</th><th scope=col>&lt;chr&gt;</th><th scope=col>&lt;dbl&gt;</th></tr>\n",
       "</thead>\n",
       "<tbody>\n",
       "\t<tr><td>accuracy</td><td>binary</td><td>0.7101449</td></tr>\n",
       "\t<tr><td>kap     </td><td>binary</td><td>0.3320426</td></tr>\n",
       "</tbody>\n",
       "</table>\n"
      ],
      "text/latex": [
       "A tibble: 2 × 3\n",
       "\\begin{tabular}{lll}\n",
       " .metric & .estimator & .estimate\\\\\n",
       " <chr> & <chr> & <dbl>\\\\\n",
       "\\hline\n",
       "\t accuracy & binary & 0.7101449\\\\\n",
       "\t kap      & binary & 0.3320426\\\\\n",
       "\\end{tabular}\n"
      ],
      "text/markdown": [
       "\n",
       "A tibble: 2 × 3\n",
       "\n",
       "| .metric &lt;chr&gt; | .estimator &lt;chr&gt; | .estimate &lt;dbl&gt; |\n",
       "|---|---|---|\n",
       "| accuracy | binary | 0.7101449 |\n",
       "| kap      | binary | 0.3320426 |\n",
       "\n"
      ],
      "text/plain": [
       "  .metric  .estimator .estimate\n",
       "1 accuracy binary     0.7101449\n",
       "2 kap      binary     0.3320426"
      ]
     },
     "metadata": {},
     "output_type": "display_data"
    }
   ],
   "source": [
    "#Now we need to find accuracy\n",
    "\n",
    "long_beach__prediction_accuracy <- long_beach_predictions |> #df\n",
    "        metrics(truth = num, estimate = .pred_class)   #real vs estimations\n",
    "\n",
    "long_beach__prediction_accuracy\n",
    "\n"
   ]
  },
  {
   "cell_type": "code",
   "execution_count": null,
   "id": "7c9d8c17-241b-4843-b286-287af5c0fc59",
   "metadata": {},
   "outputs": [],
   "source": []
  },
  {
   "cell_type": "code",
   "execution_count": null,
   "id": "de28e886-f7f0-4938-b065-6c8ba91caf73",
   "metadata": {},
   "outputs": [],
   "source": []
  }
 ],
 "metadata": {
  "kernelspec": {
   "display_name": "R",
   "language": "R",
   "name": "ir"
  },
  "language_info": {
   "codemirror_mode": "r",
   "file_extension": ".r",
   "mimetype": "text/x-r-source",
   "name": "R",
   "pygments_lexer": "r",
   "version": "4.1.1"
  }
 },
 "nbformat": 4,
 "nbformat_minor": 5
}
