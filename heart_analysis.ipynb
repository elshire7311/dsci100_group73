{
 "cells": [
  {
   "cell_type": "code",
   "execution_count": null,
   "id": "abf5c078-3fe1-4f5b-8f65-5ffe0de8a41b",
   "metadata": {},
   "outputs": [],
   "source": [
    "#Project on Heart Disease"
   ]
  },
  {
   "cell_type": "code",
   "execution_count": null,
   "id": "8e08961d-6c29-4017-a55d-55bafb8e2c5a",
   "metadata": {},
   "outputs": [],
   "source": [
    "test"
   ]
  }
 ],
 "metadata": {
  "kernelspec": {
   "display_name": "R",
   "language": "R",
   "name": "ir"
  },
  "language_info": {
   "codemirror_mode": "r",
   "file_extension": ".r",
   "mimetype": "text/x-r-source",
   "name": "R",
   "pygments_lexer": "r",
   "version": "4.1.3"
  }
 },
 "nbformat": 4,
 "nbformat_minor": 5
}
