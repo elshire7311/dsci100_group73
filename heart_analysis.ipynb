{
 "cells": [
  {
   "cell_type": "code",
   "execution_count": null,
   "id": "abf5c078-3fe1-4f5b-8f65-5ffe0de8a41b",
   "metadata": {},
   "outputs": [],
   "source": [
    "#Project on Heart Disease"
   ]
  },
  {
   "cell_type": "code",
   "execution_count": null,
   "id": "8e08961d-6c29-4017-a55d-55bafb8e2c5a",
   "metadata": {},
   "outputs": [],
   "source": [
    "#Prav Cell"
   ]
  },
  {
   "cell_type": "code",
   "execution_count": null,
   "id": "21c3f359-8656-49cb-9a42-81de0f815a5e",
   "metadata": {},
   "outputs": [],
   "source": [
    "#Kevin Cell"
   ]
  },
  {
   "cell_type": "code",
   "execution_count": null,
   "id": "024bdae0-a8f4-4d97-93ca-f5503ce7c791",
   "metadata": {},
   "outputs": [],
   "source": [
    "#Avery Cell"
   ]
  },
  {
   "cell_type": "code",
   "execution_count": null,
   "id": "3f5998b6-a42c-447c-8bda-ebc205007810",
   "metadata": {},
   "outputs": [],
   "source": [
    "#Crystal"
   ]
  }
 ],
 "metadata": {
  "kernelspec": {
   "display_name": "R",
   "language": "R",
   "name": "ir"
  },
  "language_info": {
   "codemirror_mode": "r",
   "file_extension": ".r",
   "mimetype": "text/x-r-source",
   "name": "R",
   "pygments_lexer": "r",
   "version": "4.1.3"
  }
 },
 "nbformat": 4,
 "nbformat_minor": 5
}
