{
 "cells": [
  {
   "cell_type": "markdown",
   "id": "c383fd69-c019-4ef2-8f8c-cbac367b438e",
   "metadata": {},
   "source": [
    "## Our Data Analysis"
   ]
  },
  {
   "cell_type": "code",
   "execution_count": 16,
   "id": "5a818a88-1381-40bc-bea2-53fec5ec181e",
   "metadata": {},
   "outputs": [],
   "source": [
    "# Attatch the libraries\n",
    "library(tidyverse)\n",
    "library(tidymodels)\n",
    "library(cowplot)\n",
    "set.seed(2022)\n",
    "options(repr.plot.width = 12, repr.plot.height = 8)"
   ]
  },
  {
   "cell_type": "code",
   "execution_count": 17,
   "id": "3a0d77b4-b6bf-4054-a0a1-185948e0a661",
   "metadata": {},
   "outputs": [
    {
     "name": "stderr",
     "output_type": "stream",
     "text": [
      "\u001b[1mRows: \u001b[22m\u001b[34m294\u001b[39m \u001b[1mColumns: \u001b[22m\u001b[34m14\u001b[39m\n",
      "\u001b[36m--\u001b[39m \u001b[1mColumn specification\u001b[22m \u001b[36m------------------------------------------------------------------------------------------------\u001b[39m\n",
      "\u001b[1mDelimiter:\u001b[22m \",\"\n",
      "\u001b[31mchr\u001b[39m (9): resting_blood_pressure, cholesterol, fasting_blood_sugar, resting_e...\n",
      "\u001b[32mdbl\u001b[39m (5): age, sex, chest_pain, st_depression, diagnosis\n",
      "\n",
      "\u001b[36mi\u001b[39m Use `spec()` to retrieve the full column specification for this data.\n",
      "\u001b[36mi\u001b[39m Specify the column types or set `show_col_types = FALSE` to quiet this message.\n"
     ]
    },
    {
     "data": {
      "text/html": [
       "<table class=\"dataframe\">\n",
       "<caption>A tibble: 6 × 14</caption>\n",
       "<thead>\n",
       "\t<tr><th scope=col>age</th><th scope=col>sex</th><th scope=col>chest_pain</th><th scope=col>resting_blood_pressure</th><th scope=col>cholesterol</th><th scope=col>fasting_blood_sugar</th><th scope=col>resting_ecg</th><th scope=col>max_heart_rate</th><th scope=col>exercise_induced_angina</th><th scope=col>st_depression</th><th scope=col>peak_st_slope</th><th scope=col>major_vessel_num</th><th scope=col>thal</th><th scope=col>diagnosis</th></tr>\n",
       "\t<tr><th scope=col>&lt;dbl&gt;</th><th scope=col>&lt;dbl&gt;</th><th scope=col>&lt;dbl&gt;</th><th scope=col>&lt;chr&gt;</th><th scope=col>&lt;chr&gt;</th><th scope=col>&lt;chr&gt;</th><th scope=col>&lt;chr&gt;</th><th scope=col>&lt;chr&gt;</th><th scope=col>&lt;chr&gt;</th><th scope=col>&lt;dbl&gt;</th><th scope=col>&lt;chr&gt;</th><th scope=col>&lt;chr&gt;</th><th scope=col>&lt;chr&gt;</th><th scope=col>&lt;dbl&gt;</th></tr>\n",
       "</thead>\n",
       "<tbody>\n",
       "\t<tr><td>28</td><td>1</td><td>2</td><td>130</td><td>132</td><td>0</td><td>2</td><td>185</td><td>0</td><td>0</td><td>?</td><td>?</td><td>?</td><td>0</td></tr>\n",
       "\t<tr><td>29</td><td>1</td><td>2</td><td>120</td><td>243</td><td>0</td><td>0</td><td>160</td><td>0</td><td>0</td><td>?</td><td>?</td><td>?</td><td>0</td></tr>\n",
       "\t<tr><td>29</td><td>1</td><td>2</td><td>140</td><td>?  </td><td>0</td><td>0</td><td>170</td><td>0</td><td>0</td><td>?</td><td>?</td><td>?</td><td>0</td></tr>\n",
       "\t<tr><td>30</td><td>0</td><td>1</td><td>170</td><td>237</td><td>0</td><td>1</td><td>170</td><td>0</td><td>0</td><td>?</td><td>?</td><td>6</td><td>0</td></tr>\n",
       "\t<tr><td>31</td><td>0</td><td>2</td><td>100</td><td>219</td><td>0</td><td>1</td><td>150</td><td>0</td><td>0</td><td>?</td><td>?</td><td>?</td><td>0</td></tr>\n",
       "\t<tr><td>32</td><td>0</td><td>2</td><td>105</td><td>198</td><td>0</td><td>0</td><td>165</td><td>0</td><td>0</td><td>?</td><td>?</td><td>?</td><td>0</td></tr>\n",
       "</tbody>\n",
       "</table>\n"
      ],
      "text/latex": [
       "A tibble: 6 × 14\n",
       "\\begin{tabular}{llllllllllllll}\n",
       " age & sex & chest\\_pain & resting\\_blood\\_pressure & cholesterol & fasting\\_blood\\_sugar & resting\\_ecg & max\\_heart\\_rate & exercise\\_induced\\_angina & st\\_depression & peak\\_st\\_slope & major\\_vessel\\_num & thal & diagnosis\\\\\n",
       " <dbl> & <dbl> & <dbl> & <chr> & <chr> & <chr> & <chr> & <chr> & <chr> & <dbl> & <chr> & <chr> & <chr> & <dbl>\\\\\n",
       "\\hline\n",
       "\t 28 & 1 & 2 & 130 & 132 & 0 & 2 & 185 & 0 & 0 & ? & ? & ? & 0\\\\\n",
       "\t 29 & 1 & 2 & 120 & 243 & 0 & 0 & 160 & 0 & 0 & ? & ? & ? & 0\\\\\n",
       "\t 29 & 1 & 2 & 140 & ?   & 0 & 0 & 170 & 0 & 0 & ? & ? & ? & 0\\\\\n",
       "\t 30 & 0 & 1 & 170 & 237 & 0 & 1 & 170 & 0 & 0 & ? & ? & 6 & 0\\\\\n",
       "\t 31 & 0 & 2 & 100 & 219 & 0 & 1 & 150 & 0 & 0 & ? & ? & ? & 0\\\\\n",
       "\t 32 & 0 & 2 & 105 & 198 & 0 & 0 & 165 & 0 & 0 & ? & ? & ? & 0\\\\\n",
       "\\end{tabular}\n"
      ],
      "text/markdown": [
       "\n",
       "A tibble: 6 × 14\n",
       "\n",
       "| age &lt;dbl&gt; | sex &lt;dbl&gt; | chest_pain &lt;dbl&gt; | resting_blood_pressure &lt;chr&gt; | cholesterol &lt;chr&gt; | fasting_blood_sugar &lt;chr&gt; | resting_ecg &lt;chr&gt; | max_heart_rate &lt;chr&gt; | exercise_induced_angina &lt;chr&gt; | st_depression &lt;dbl&gt; | peak_st_slope &lt;chr&gt; | major_vessel_num &lt;chr&gt; | thal &lt;chr&gt; | diagnosis &lt;dbl&gt; |\n",
       "|---|---|---|---|---|---|---|---|---|---|---|---|---|---|\n",
       "| 28 | 1 | 2 | 130 | 132 | 0 | 2 | 185 | 0 | 0 | ? | ? | ? | 0 |\n",
       "| 29 | 1 | 2 | 120 | 243 | 0 | 0 | 160 | 0 | 0 | ? | ? | ? | 0 |\n",
       "| 29 | 1 | 2 | 140 | ?   | 0 | 0 | 170 | 0 | 0 | ? | ? | ? | 0 |\n",
       "| 30 | 0 | 1 | 170 | 237 | 0 | 1 | 170 | 0 | 0 | ? | ? | 6 | 0 |\n",
       "| 31 | 0 | 2 | 100 | 219 | 0 | 1 | 150 | 0 | 0 | ? | ? | ? | 0 |\n",
       "| 32 | 0 | 2 | 105 | 198 | 0 | 0 | 165 | 0 | 0 | ? | ? | ? | 0 |\n",
       "\n"
      ],
      "text/plain": [
       "  age sex chest_pain resting_blood_pressure cholesterol fasting_blood_sugar\n",
       "1 28  1   2          130                    132         0                  \n",
       "2 29  1   2          120                    243         0                  \n",
       "3 29  1   2          140                    ?           0                  \n",
       "4 30  0   1          170                    237         0                  \n",
       "5 31  0   2          100                    219         0                  \n",
       "6 32  0   2          105                    198         0                  \n",
       "  resting_ecg max_heart_rate exercise_induced_angina st_depression\n",
       "1 2           185            0                       0            \n",
       "2 0           160            0                       0            \n",
       "3 0           170            0                       0            \n",
       "4 1           170            0                       0            \n",
       "5 1           150            0                       0            \n",
       "6 0           165            0                       0            \n",
       "  peak_st_slope major_vessel_num thal diagnosis\n",
       "1 ?             ?                ?    0        \n",
       "2 ?             ?                ?    0        \n",
       "3 ?             ?                ?    0        \n",
       "4 ?             ?                6    0        \n",
       "5 ?             ?                ?    0        \n",
       "6 ?             ?                ?    0        "
      ]
     },
     "metadata": {},
     "output_type": "display_data"
    }
   ],
   "source": [
    "url <- \"https://archive.ics.uci.edu/ml/machine-learning-databases/heart-disease/processed.hungarian.data\"\n",
    "\n",
    "hungarian_data <- read_csv(url, col_names = c('age', 'sex', 'chest_pain', 'resting_blood_pressure', 'cholesterol', \n",
    "                                              'fasting_blood_sugar', 'resting_ecg', 'max_heart_rate', 'exercise_induced_angina',\n",
    "                                              'st_depression', 'peak_st_slope', 'major_vessel_num', 'thal', 'diagnosis'))\n",
    "head(hungarian_data)"
   ]
  },
  {
   "cell_type": "code",
   "execution_count": 18,
   "id": "04509148-e350-4189-90b5-af1b9fbdc456",
   "metadata": {},
   "outputs": [
    {
     "name": "stderr",
     "output_type": "stream",
     "text": [
      "Warning message in lapply(hungarian_clean[as_double], as.double):\n",
      "\"NAs introduced by coercion\"\n",
      "Warning message in lapply(hungarian_clean[as_double], as.double):\n",
      "\"NAs introduced by coercion\"\n",
      "Warning message in lapply(hungarian_clean[as_double], as.double):\n",
      "\"NAs introduced by coercion\"\n"
     ]
    },
    {
     "name": "stdout",
     "output_type": "stream",
     "text": [
      "Rows: 270\n",
      "Columns: 5\n",
      "$ age                    \u001b[3m\u001b[90m<dbl>\u001b[39m\u001b[23m 28, 29, 30, 31, 32, 32, 32, 33, 34, 34, 34, 35,~\n",
      "$ resting_blood_pressure \u001b[3m\u001b[90m<dbl>\u001b[39m\u001b[23m 130, 120, 170, 100, 105, 110, 125, 120, 130, 15~\n",
      "$ cholesterol            \u001b[3m\u001b[90m<dbl>\u001b[39m\u001b[23m 132, 243, 237, 219, 198, 225, 254, 298, 161, 21~\n",
      "$ max_heart_rate         \u001b[3m\u001b[90m<dbl>\u001b[39m\u001b[23m 185, 160, 170, 150, 165, 184, 155, 185, 190, 16~\n",
      "$ diagnosis              \u001b[3m\u001b[90m<fct>\u001b[39m\u001b[23m 0, 0, 0, 0, 0, 0, 0, 0, 0, 0, 0, 0, 0, 0, 0, 0,~\n"
     ]
    }
   ],
   "source": [
    "hungarian_clean <- hungarian_data |>\n",
    "    # Select applicable columns to use as predictors.\n",
    "    select(age, resting_blood_pressure, cholesterol, max_heart_rate, diagnosis) |>\n",
    "    # Change the diagnosis column to factor so that it can be used as the predicted result.\n",
    "    mutate(diagnosis = as.factor(diagnosis))\n",
    "\n",
    "# Mutate the data frame so that all of the numerical predictors are doubles rather than characters.             \n",
    "as_double <- c(\"resting_blood_pressure\", \"cholesterol\", \"max_heart_rate\")\n",
    "hungarian_clean[as_double] <- lapply(hungarian_clean[as_double], as.double)\n",
    "\n",
    "#Get rid of any rows with NA\n",
    "hungarian_clean <- hungarian_clean |>\n",
    "            filter_all(all_vars(!is.na(.)))\n",
    "\n",
    "# View the cleaned dataframe.\n",
    "glimpse(hungarian_clean)"
   ]
  },
  {
   "cell_type": "code",
   "execution_count": 19,
   "id": "cff2dd18-f5dd-4541-b13d-e801ded8eb51",
   "metadata": {},
   "outputs": [
    {
     "name": "stdout",
     "output_type": "stream",
     "text": [
      "Rows: 201\n",
      "Columns: 5\n",
      "$ age                    \u001b[3m\u001b[90m<dbl>\u001b[39m\u001b[23m 28, 29, 30, 31, 32, 32, 32, 34, 35, 35, 35, 35,~\n",
      "$ resting_blood_pressure \u001b[3m\u001b[90m<dbl>\u001b[39m\u001b[23m 130, 120, 170, 100, 105, 110, 125, 98, 120, 140~\n",
      "$ cholesterol            \u001b[3m\u001b[90m<dbl>\u001b[39m\u001b[23m 132, 243, 237, 219, 198, 225, 254, 220, 160, 16~\n",
      "$ max_heart_rate         \u001b[3m\u001b[90m<dbl>\u001b[39m\u001b[23m 185, 160, 170, 150, 165, 184, 155, 150, 185, 15~\n",
      "$ diagnosis              \u001b[3m\u001b[90m<fct>\u001b[39m\u001b[23m 0, 0, 0, 0, 0, 0, 0, 0, 0, 0, 0, 0, 0, 0, 0, 0,~\n",
      "Rows: 69\n",
      "Columns: 5\n",
      "$ age                    \u001b[3m\u001b[90m<dbl>\u001b[39m\u001b[23m 33, 34, 34, 36, 37, 37, 38, 38, 39, 39, 40, 41,~\n",
      "$ resting_blood_pressure \u001b[3m\u001b[90m<dbl>\u001b[39m\u001b[23m 120, 130, 150, 112, 130, 120, 120, 140, 110, 13~\n",
      "$ cholesterol            \u001b[3m\u001b[90m<dbl>\u001b[39m\u001b[23m 298, 161, 214, 340, 211, 223, 275, 297, 182, 30~\n",
      "$ max_heart_rate         \u001b[3m\u001b[90m<dbl>\u001b[39m\u001b[23m 185, 190, 168, 184, 142, 168, 129, 150, 180, 14~\n",
      "$ diagnosis              \u001b[3m\u001b[90m<fct>\u001b[39m\u001b[23m 0, 0, 0, 0, 0, 0, 0, 0, 0, 0, 0, 0, 0, 0, 0, 0,~\n"
     ]
    }
   ],
   "source": [
    "hungarian_split <- initial_split(hungarian_clean, prop = 0.75, strata = diagnosis)\n",
    "hungarian_train <- training(hungarian_split)\n",
    "hungarian_test <- testing(hungarian_split)\n",
    "\n",
    "glimpse(hungarian_train)\n",
    "glimpse(hungarian_test)"
   ]
  },
  {
   "cell_type": "code",
   "execution_count": 20,
   "id": "aa10de29-0ee6-4e66-8266-2b1f4e3adcad",
   "metadata": {},
   "outputs": [
    {
     "data": {
      "text/plain": [
       "Recipe\n",
       "\n",
       "Inputs:\n",
       "\n",
       "      role #variables\n",
       "   outcome          1\n",
       " predictor          4\n",
       "\n",
       "Operations:\n",
       "\n",
       "Scaling for all_predictors()\n",
       "Centering for all_predictors()"
      ]
     },
     "metadata": {},
     "output_type": "display_data"
    }
   ],
   "source": [
    "hungarian_recipe <- recipe(diagnosis ~ age + resting_blood_pressure + cholesterol + max_heart_rate, data = hungarian_train) |>\n",
    "  step_scale(all_predictors()) |>\n",
    "  step_center(all_predictors())\n",
    "\n",
    "hungarian_recipe"
   ]
  },
  {
   "cell_type": "markdown",
   "id": "1186a494-bf87-4709-bff8-5fd84c3f63a3",
   "metadata": {},
   "source": [
    "In the initialized recipe, we set the diagnosis as our target variable while setting age, resting blood pressure, cholesterol, and max heart rate to be our predictors. The predictors were then standardized(scaled and centered) to have a mean of 0 and a standard deviation of 1."
   ]
  },
  {
   "cell_type": "code",
   "execution_count": 21,
   "id": "6b88ab3b-2c37-4f50-8c06-c1645ded4c1a",
   "metadata": {},
   "outputs": [],
   "source": [
    "hungarian_vfold <- vfold_cv(hungarian_train, v = 5, strata = diagnosis)"
   ]
  },
  {
   "cell_type": "markdown",
   "id": "2e026f0c-4128-46eb-9c8b-0a717e4c3a3e",
   "metadata": {},
   "source": [
    "Doing cross-validation in k-nearest neighbour classification will allow the best k to be picked accordingly to the accuracy that each k results in, where the k that gives the highest prediction accuracy will be chosen. 5-fold cross-validation tunes the model by splitting the overall training data into 5 even-sized groups, in which while 1 group of data is used as the validation set, the other 4 remaining groups are used as the training set. This process was then repeated 5 times (Dr. Campbell).\n"
   ]
  },
  {
   "cell_type": "code",
   "execution_count": 22,
   "id": "fa526a8c-bf8d-4784-9ed8-8c4b7ac9b32b",
   "metadata": {},
   "outputs": [
    {
     "data": {
      "text/plain": [
       "K-Nearest Neighbor Model Specification (classification)\n",
       "\n",
       "Main Arguments:\n",
       "  neighbors = tune()\n",
       "  weight_func = rectangular\n",
       "\n",
       "Computational engine: kknn \n"
      ]
     },
     "metadata": {},
     "output_type": "display_data"
    }
   ],
   "source": [
    "knn_spec <- nearest_neighbor(weight_func = \"rectangular\", neighbors = tune()) |>\n",
    "  set_engine(\"kknn\") |>\n",
    "  set_mode(\"classification\")\n",
    "\n",
    "knn_spec"
   ]
  },
  {
   "cell_type": "markdown",
   "id": "5e5ca94f-4fae-44e9-9b81-88d37c11779a",
   "metadata": {},
   "source": [
    "??? (SOME DESCRIPTION TO BE PUT DOWN)"
   ]
  },
  {
   "cell_type": "code",
   "execution_count": 23,
   "id": "aa1d83d1-6e18-473e-b5bf-76f70410196d",
   "metadata": {},
   "outputs": [
    {
     "data": {
      "text/html": [
       "<table class=\"dataframe\">\n",
       "<caption>A tibble: 30 × 1</caption>\n",
       "<thead>\n",
       "\t<tr><th scope=col>neighbors</th></tr>\n",
       "\t<tr><th scope=col>&lt;int&gt;</th></tr>\n",
       "</thead>\n",
       "<tbody>\n",
       "\t<tr><td> 1</td></tr>\n",
       "\t<tr><td> 2</td></tr>\n",
       "\t<tr><td> 3</td></tr>\n",
       "\t<tr><td> 4</td></tr>\n",
       "\t<tr><td> 5</td></tr>\n",
       "\t<tr><td> 6</td></tr>\n",
       "\t<tr><td> 7</td></tr>\n",
       "\t<tr><td> 8</td></tr>\n",
       "\t<tr><td> 9</td></tr>\n",
       "\t<tr><td>10</td></tr>\n",
       "\t<tr><td>11</td></tr>\n",
       "\t<tr><td>12</td></tr>\n",
       "\t<tr><td>13</td></tr>\n",
       "\t<tr><td>14</td></tr>\n",
       "\t<tr><td>15</td></tr>\n",
       "\t<tr><td>16</td></tr>\n",
       "\t<tr><td>17</td></tr>\n",
       "\t<tr><td>18</td></tr>\n",
       "\t<tr><td>19</td></tr>\n",
       "\t<tr><td>20</td></tr>\n",
       "\t<tr><td>21</td></tr>\n",
       "\t<tr><td>22</td></tr>\n",
       "\t<tr><td>23</td></tr>\n",
       "\t<tr><td>24</td></tr>\n",
       "\t<tr><td>25</td></tr>\n",
       "\t<tr><td>26</td></tr>\n",
       "\t<tr><td>27</td></tr>\n",
       "\t<tr><td>28</td></tr>\n",
       "\t<tr><td>29</td></tr>\n",
       "\t<tr><td>30</td></tr>\n",
       "</tbody>\n",
       "</table>\n"
      ],
      "text/latex": [
       "A tibble: 30 × 1\n",
       "\\begin{tabular}{l}\n",
       " neighbors\\\\\n",
       " <int>\\\\\n",
       "\\hline\n",
       "\t  1\\\\\n",
       "\t  2\\\\\n",
       "\t  3\\\\\n",
       "\t  4\\\\\n",
       "\t  5\\\\\n",
       "\t  6\\\\\n",
       "\t  7\\\\\n",
       "\t  8\\\\\n",
       "\t  9\\\\\n",
       "\t 10\\\\\n",
       "\t 11\\\\\n",
       "\t 12\\\\\n",
       "\t 13\\\\\n",
       "\t 14\\\\\n",
       "\t 15\\\\\n",
       "\t 16\\\\\n",
       "\t 17\\\\\n",
       "\t 18\\\\\n",
       "\t 19\\\\\n",
       "\t 20\\\\\n",
       "\t 21\\\\\n",
       "\t 22\\\\\n",
       "\t 23\\\\\n",
       "\t 24\\\\\n",
       "\t 25\\\\\n",
       "\t 26\\\\\n",
       "\t 27\\\\\n",
       "\t 28\\\\\n",
       "\t 29\\\\\n",
       "\t 30\\\\\n",
       "\\end{tabular}\n"
      ],
      "text/markdown": [
       "\n",
       "A tibble: 30 × 1\n",
       "\n",
       "| neighbors &lt;int&gt; |\n",
       "|---|\n",
       "|  1 |\n",
       "|  2 |\n",
       "|  3 |\n",
       "|  4 |\n",
       "|  5 |\n",
       "|  6 |\n",
       "|  7 |\n",
       "|  8 |\n",
       "|  9 |\n",
       "| 10 |\n",
       "| 11 |\n",
       "| 12 |\n",
       "| 13 |\n",
       "| 14 |\n",
       "| 15 |\n",
       "| 16 |\n",
       "| 17 |\n",
       "| 18 |\n",
       "| 19 |\n",
       "| 20 |\n",
       "| 21 |\n",
       "| 22 |\n",
       "| 23 |\n",
       "| 24 |\n",
       "| 25 |\n",
       "| 26 |\n",
       "| 27 |\n",
       "| 28 |\n",
       "| 29 |\n",
       "| 30 |\n",
       "\n"
      ],
      "text/plain": [
       "   neighbors\n",
       "1   1       \n",
       "2   2       \n",
       "3   3       \n",
       "4   4       \n",
       "5   5       \n",
       "6   6       \n",
       "7   7       \n",
       "8   8       \n",
       "9   9       \n",
       "10 10       \n",
       "11 11       \n",
       "12 12       \n",
       "13 13       \n",
       "14 14       \n",
       "15 15       \n",
       "16 16       \n",
       "17 17       \n",
       "18 18       \n",
       "19 19       \n",
       "20 20       \n",
       "21 21       \n",
       "22 22       \n",
       "23 23       \n",
       "24 24       \n",
       "25 25       \n",
       "26 26       \n",
       "27 27       \n",
       "28 28       \n",
       "29 29       \n",
       "30 30       "
      ]
     },
     "metadata": {},
     "output_type": "display_data"
    }
   ],
   "source": [
    "tibble_made <- tibble(neighbors = seq(1, 30))\n",
    "\n",
    "tibble_made"
   ]
  },
  {
   "cell_type": "code",
   "execution_count": 24,
   "id": "15c4df00-a452-4fc9-8914-2a91544241a4",
   "metadata": {},
   "outputs": [
    {
     "data": {
      "text/html": [
       "<table class=\"dataframe\">\n",
       "<caption>A tibble: 30 × 7</caption>\n",
       "<thead>\n",
       "\t<tr><th scope=col>neighbors</th><th scope=col>.metric</th><th scope=col>.estimator</th><th scope=col>mean</th><th scope=col>n</th><th scope=col>std_err</th><th scope=col>.config</th></tr>\n",
       "\t<tr><th scope=col>&lt;int&gt;</th><th scope=col>&lt;chr&gt;</th><th scope=col>&lt;chr&gt;</th><th scope=col>&lt;dbl&gt;</th><th scope=col>&lt;int&gt;</th><th scope=col>&lt;dbl&gt;</th><th scope=col>&lt;chr&gt;</th></tr>\n",
       "</thead>\n",
       "<tbody>\n",
       "\t<tr><td> 1</td><td>accuracy</td><td>binary</td><td>0.5818293</td><td>5</td><td>0.02108328</td><td>Preprocessor1_Model01</td></tr>\n",
       "\t<tr><td> 2</td><td>accuracy</td><td>binary</td><td>0.5818293</td><td>5</td><td>0.02108328</td><td>Preprocessor1_Model02</td></tr>\n",
       "\t<tr><td> 3</td><td>accuracy</td><td>binary</td><td>0.5970732</td><td>5</td><td>0.02517074</td><td>Preprocessor1_Model03</td></tr>\n",
       "\t<tr><td> 4</td><td>accuracy</td><td>binary</td><td>0.5970732</td><td>5</td><td>0.02517074</td><td>Preprocessor1_Model04</td></tr>\n",
       "\t<tr><td> 5</td><td>accuracy</td><td>binary</td><td>0.6018293</td><td>5</td><td>0.03392952</td><td>Preprocessor1_Model05</td></tr>\n",
       "\t<tr><td> 6</td><td>accuracy</td><td>binary</td><td>0.6018293</td><td>5</td><td>0.03392952</td><td>Preprocessor1_Model06</td></tr>\n",
       "\t<tr><td> 7</td><td>accuracy</td><td>binary</td><td>0.6317073</td><td>5</td><td>0.02928290</td><td>Preprocessor1_Model07</td></tr>\n",
       "\t<tr><td> 8</td><td>accuracy</td><td>binary</td><td>0.6317073</td><td>5</td><td>0.02928290</td><td>Preprocessor1_Model08</td></tr>\n",
       "\t<tr><td> 9</td><td>accuracy</td><td>binary</td><td>0.6320732</td><td>5</td><td>0.03754711</td><td>Preprocessor1_Model09</td></tr>\n",
       "\t<tr><td>10</td><td>accuracy</td><td>binary</td><td>0.6320732</td><td>5</td><td>0.03754711</td><td>Preprocessor1_Model10</td></tr>\n",
       "\t<tr><td>11</td><td>accuracy</td><td>binary</td><td>0.6318293</td><td>5</td><td>0.03568996</td><td>Preprocessor1_Model11</td></tr>\n",
       "\t<tr><td>12</td><td>accuracy</td><td>binary</td><td>0.6318293</td><td>5</td><td>0.03568996</td><td>Preprocessor1_Model12</td></tr>\n",
       "\t<tr><td>13</td><td>accuracy</td><td>binary</td><td>0.6417073</td><td>5</td><td>0.02596058</td><td>Preprocessor1_Model13</td></tr>\n",
       "\t<tr><td>14</td><td>accuracy</td><td>binary</td><td>0.6417073</td><td>5</td><td>0.02596058</td><td>Preprocessor1_Model14</td></tr>\n",
       "\t<tr><td>15</td><td>accuracy</td><td>binary</td><td>0.6269512</td><td>5</td><td>0.03323277</td><td>Preprocessor1_Model15</td></tr>\n",
       "\t<tr><td>16</td><td>accuracy</td><td>binary</td><td>0.6269512</td><td>5</td><td>0.03323277</td><td>Preprocessor1_Model16</td></tr>\n",
       "\t<tr><td>17</td><td>accuracy</td><td>binary</td><td>0.6370732</td><td>5</td><td>0.03323557</td><td>Preprocessor1_Model17</td></tr>\n",
       "\t<tr><td>18</td><td>accuracy</td><td>binary</td><td>0.6370732</td><td>5</td><td>0.03323557</td><td>Preprocessor1_Model18</td></tr>\n",
       "\t<tr><td>19</td><td>accuracy</td><td>binary</td><td>0.6470732</td><td>5</td><td>0.02990380</td><td>Preprocessor1_Model19</td></tr>\n",
       "\t<tr><td>20</td><td>accuracy</td><td>binary</td><td>0.6470732</td><td>5</td><td>0.02990380</td><td>Preprocessor1_Model20</td></tr>\n",
       "\t<tr><td>21</td><td>accuracy</td><td>binary</td><td>0.6573171</td><td>5</td><td>0.03958862</td><td>Preprocessor1_Model21</td></tr>\n",
       "\t<tr><td>22</td><td>accuracy</td><td>binary</td><td>0.6573171</td><td>5</td><td>0.03958862</td><td>Preprocessor1_Model22</td></tr>\n",
       "\t<tr><td>23</td><td>accuracy</td><td>binary</td><td>0.6623171</td><td>5</td><td>0.03806529</td><td>Preprocessor1_Model23</td></tr>\n",
       "\t<tr><td>24</td><td>accuracy</td><td>binary</td><td>0.6623171</td><td>5</td><td>0.03806529</td><td>Preprocessor1_Model24</td></tr>\n",
       "\t<tr><td>25</td><td>accuracy</td><td>binary</td><td>0.6720732</td><td>5</td><td>0.03249342</td><td>Preprocessor1_Model25</td></tr>\n",
       "\t<tr><td>26</td><td>accuracy</td><td>binary</td><td>0.6720732</td><td>5</td><td>0.03249342</td><td>Preprocessor1_Model26</td></tr>\n",
       "\t<tr><td>27</td><td>accuracy</td><td>binary</td><td>0.6520732</td><td>5</td><td>0.02718555</td><td>Preprocessor1_Model27</td></tr>\n",
       "\t<tr><td>28</td><td>accuracy</td><td>binary</td><td>0.6520732</td><td>5</td><td>0.02718555</td><td>Preprocessor1_Model28</td></tr>\n",
       "\t<tr><td>29</td><td>accuracy</td><td>binary</td><td>0.6619512</td><td>5</td><td>0.01891483</td><td>Preprocessor1_Model29</td></tr>\n",
       "\t<tr><td>30</td><td>accuracy</td><td>binary</td><td>0.6619512</td><td>5</td><td>0.01891483</td><td>Preprocessor1_Model30</td></tr>\n",
       "</tbody>\n",
       "</table>\n"
      ],
      "text/latex": [
       "A tibble: 30 × 7\n",
       "\\begin{tabular}{lllllll}\n",
       " neighbors & .metric & .estimator & mean & n & std\\_err & .config\\\\\n",
       " <int> & <chr> & <chr> & <dbl> & <int> & <dbl> & <chr>\\\\\n",
       "\\hline\n",
       "\t  1 & accuracy & binary & 0.5818293 & 5 & 0.02108328 & Preprocessor1\\_Model01\\\\\n",
       "\t  2 & accuracy & binary & 0.5818293 & 5 & 0.02108328 & Preprocessor1\\_Model02\\\\\n",
       "\t  3 & accuracy & binary & 0.5970732 & 5 & 0.02517074 & Preprocessor1\\_Model03\\\\\n",
       "\t  4 & accuracy & binary & 0.5970732 & 5 & 0.02517074 & Preprocessor1\\_Model04\\\\\n",
       "\t  5 & accuracy & binary & 0.6018293 & 5 & 0.03392952 & Preprocessor1\\_Model05\\\\\n",
       "\t  6 & accuracy & binary & 0.6018293 & 5 & 0.03392952 & Preprocessor1\\_Model06\\\\\n",
       "\t  7 & accuracy & binary & 0.6317073 & 5 & 0.02928290 & Preprocessor1\\_Model07\\\\\n",
       "\t  8 & accuracy & binary & 0.6317073 & 5 & 0.02928290 & Preprocessor1\\_Model08\\\\\n",
       "\t  9 & accuracy & binary & 0.6320732 & 5 & 0.03754711 & Preprocessor1\\_Model09\\\\\n",
       "\t 10 & accuracy & binary & 0.6320732 & 5 & 0.03754711 & Preprocessor1\\_Model10\\\\\n",
       "\t 11 & accuracy & binary & 0.6318293 & 5 & 0.03568996 & Preprocessor1\\_Model11\\\\\n",
       "\t 12 & accuracy & binary & 0.6318293 & 5 & 0.03568996 & Preprocessor1\\_Model12\\\\\n",
       "\t 13 & accuracy & binary & 0.6417073 & 5 & 0.02596058 & Preprocessor1\\_Model13\\\\\n",
       "\t 14 & accuracy & binary & 0.6417073 & 5 & 0.02596058 & Preprocessor1\\_Model14\\\\\n",
       "\t 15 & accuracy & binary & 0.6269512 & 5 & 0.03323277 & Preprocessor1\\_Model15\\\\\n",
       "\t 16 & accuracy & binary & 0.6269512 & 5 & 0.03323277 & Preprocessor1\\_Model16\\\\\n",
       "\t 17 & accuracy & binary & 0.6370732 & 5 & 0.03323557 & Preprocessor1\\_Model17\\\\\n",
       "\t 18 & accuracy & binary & 0.6370732 & 5 & 0.03323557 & Preprocessor1\\_Model18\\\\\n",
       "\t 19 & accuracy & binary & 0.6470732 & 5 & 0.02990380 & Preprocessor1\\_Model19\\\\\n",
       "\t 20 & accuracy & binary & 0.6470732 & 5 & 0.02990380 & Preprocessor1\\_Model20\\\\\n",
       "\t 21 & accuracy & binary & 0.6573171 & 5 & 0.03958862 & Preprocessor1\\_Model21\\\\\n",
       "\t 22 & accuracy & binary & 0.6573171 & 5 & 0.03958862 & Preprocessor1\\_Model22\\\\\n",
       "\t 23 & accuracy & binary & 0.6623171 & 5 & 0.03806529 & Preprocessor1\\_Model23\\\\\n",
       "\t 24 & accuracy & binary & 0.6623171 & 5 & 0.03806529 & Preprocessor1\\_Model24\\\\\n",
       "\t 25 & accuracy & binary & 0.6720732 & 5 & 0.03249342 & Preprocessor1\\_Model25\\\\\n",
       "\t 26 & accuracy & binary & 0.6720732 & 5 & 0.03249342 & Preprocessor1\\_Model26\\\\\n",
       "\t 27 & accuracy & binary & 0.6520732 & 5 & 0.02718555 & Preprocessor1\\_Model27\\\\\n",
       "\t 28 & accuracy & binary & 0.6520732 & 5 & 0.02718555 & Preprocessor1\\_Model28\\\\\n",
       "\t 29 & accuracy & binary & 0.6619512 & 5 & 0.01891483 & Preprocessor1\\_Model29\\\\\n",
       "\t 30 & accuracy & binary & 0.6619512 & 5 & 0.01891483 & Preprocessor1\\_Model30\\\\\n",
       "\\end{tabular}\n"
      ],
      "text/markdown": [
       "\n",
       "A tibble: 30 × 7\n",
       "\n",
       "| neighbors &lt;int&gt; | .metric &lt;chr&gt; | .estimator &lt;chr&gt; | mean &lt;dbl&gt; | n &lt;int&gt; | std_err &lt;dbl&gt; | .config &lt;chr&gt; |\n",
       "|---|---|---|---|---|---|---|\n",
       "|  1 | accuracy | binary | 0.5818293 | 5 | 0.02108328 | Preprocessor1_Model01 |\n",
       "|  2 | accuracy | binary | 0.5818293 | 5 | 0.02108328 | Preprocessor1_Model02 |\n",
       "|  3 | accuracy | binary | 0.5970732 | 5 | 0.02517074 | Preprocessor1_Model03 |\n",
       "|  4 | accuracy | binary | 0.5970732 | 5 | 0.02517074 | Preprocessor1_Model04 |\n",
       "|  5 | accuracy | binary | 0.6018293 | 5 | 0.03392952 | Preprocessor1_Model05 |\n",
       "|  6 | accuracy | binary | 0.6018293 | 5 | 0.03392952 | Preprocessor1_Model06 |\n",
       "|  7 | accuracy | binary | 0.6317073 | 5 | 0.02928290 | Preprocessor1_Model07 |\n",
       "|  8 | accuracy | binary | 0.6317073 | 5 | 0.02928290 | Preprocessor1_Model08 |\n",
       "|  9 | accuracy | binary | 0.6320732 | 5 | 0.03754711 | Preprocessor1_Model09 |\n",
       "| 10 | accuracy | binary | 0.6320732 | 5 | 0.03754711 | Preprocessor1_Model10 |\n",
       "| 11 | accuracy | binary | 0.6318293 | 5 | 0.03568996 | Preprocessor1_Model11 |\n",
       "| 12 | accuracy | binary | 0.6318293 | 5 | 0.03568996 | Preprocessor1_Model12 |\n",
       "| 13 | accuracy | binary | 0.6417073 | 5 | 0.02596058 | Preprocessor1_Model13 |\n",
       "| 14 | accuracy | binary | 0.6417073 | 5 | 0.02596058 | Preprocessor1_Model14 |\n",
       "| 15 | accuracy | binary | 0.6269512 | 5 | 0.03323277 | Preprocessor1_Model15 |\n",
       "| 16 | accuracy | binary | 0.6269512 | 5 | 0.03323277 | Preprocessor1_Model16 |\n",
       "| 17 | accuracy | binary | 0.6370732 | 5 | 0.03323557 | Preprocessor1_Model17 |\n",
       "| 18 | accuracy | binary | 0.6370732 | 5 | 0.03323557 | Preprocessor1_Model18 |\n",
       "| 19 | accuracy | binary | 0.6470732 | 5 | 0.02990380 | Preprocessor1_Model19 |\n",
       "| 20 | accuracy | binary | 0.6470732 | 5 | 0.02990380 | Preprocessor1_Model20 |\n",
       "| 21 | accuracy | binary | 0.6573171 | 5 | 0.03958862 | Preprocessor1_Model21 |\n",
       "| 22 | accuracy | binary | 0.6573171 | 5 | 0.03958862 | Preprocessor1_Model22 |\n",
       "| 23 | accuracy | binary | 0.6623171 | 5 | 0.03806529 | Preprocessor1_Model23 |\n",
       "| 24 | accuracy | binary | 0.6623171 | 5 | 0.03806529 | Preprocessor1_Model24 |\n",
       "| 25 | accuracy | binary | 0.6720732 | 5 | 0.03249342 | Preprocessor1_Model25 |\n",
       "| 26 | accuracy | binary | 0.6720732 | 5 | 0.03249342 | Preprocessor1_Model26 |\n",
       "| 27 | accuracy | binary | 0.6520732 | 5 | 0.02718555 | Preprocessor1_Model27 |\n",
       "| 28 | accuracy | binary | 0.6520732 | 5 | 0.02718555 | Preprocessor1_Model28 |\n",
       "| 29 | accuracy | binary | 0.6619512 | 5 | 0.01891483 | Preprocessor1_Model29 |\n",
       "| 30 | accuracy | binary | 0.6619512 | 5 | 0.01891483 | Preprocessor1_Model30 |\n",
       "\n"
      ],
      "text/plain": [
       "   neighbors .metric  .estimator mean      n std_err    .config              \n",
       "1   1        accuracy binary     0.5818293 5 0.02108328 Preprocessor1_Model01\n",
       "2   2        accuracy binary     0.5818293 5 0.02108328 Preprocessor1_Model02\n",
       "3   3        accuracy binary     0.5970732 5 0.02517074 Preprocessor1_Model03\n",
       "4   4        accuracy binary     0.5970732 5 0.02517074 Preprocessor1_Model04\n",
       "5   5        accuracy binary     0.6018293 5 0.03392952 Preprocessor1_Model05\n",
       "6   6        accuracy binary     0.6018293 5 0.03392952 Preprocessor1_Model06\n",
       "7   7        accuracy binary     0.6317073 5 0.02928290 Preprocessor1_Model07\n",
       "8   8        accuracy binary     0.6317073 5 0.02928290 Preprocessor1_Model08\n",
       "9   9        accuracy binary     0.6320732 5 0.03754711 Preprocessor1_Model09\n",
       "10 10        accuracy binary     0.6320732 5 0.03754711 Preprocessor1_Model10\n",
       "11 11        accuracy binary     0.6318293 5 0.03568996 Preprocessor1_Model11\n",
       "12 12        accuracy binary     0.6318293 5 0.03568996 Preprocessor1_Model12\n",
       "13 13        accuracy binary     0.6417073 5 0.02596058 Preprocessor1_Model13\n",
       "14 14        accuracy binary     0.6417073 5 0.02596058 Preprocessor1_Model14\n",
       "15 15        accuracy binary     0.6269512 5 0.03323277 Preprocessor1_Model15\n",
       "16 16        accuracy binary     0.6269512 5 0.03323277 Preprocessor1_Model16\n",
       "17 17        accuracy binary     0.6370732 5 0.03323557 Preprocessor1_Model17\n",
       "18 18        accuracy binary     0.6370732 5 0.03323557 Preprocessor1_Model18\n",
       "19 19        accuracy binary     0.6470732 5 0.02990380 Preprocessor1_Model19\n",
       "20 20        accuracy binary     0.6470732 5 0.02990380 Preprocessor1_Model20\n",
       "21 21        accuracy binary     0.6573171 5 0.03958862 Preprocessor1_Model21\n",
       "22 22        accuracy binary     0.6573171 5 0.03958862 Preprocessor1_Model22\n",
       "23 23        accuracy binary     0.6623171 5 0.03806529 Preprocessor1_Model23\n",
       "24 24        accuracy binary     0.6623171 5 0.03806529 Preprocessor1_Model24\n",
       "25 25        accuracy binary     0.6720732 5 0.03249342 Preprocessor1_Model25\n",
       "26 26        accuracy binary     0.6720732 5 0.03249342 Preprocessor1_Model26\n",
       "27 27        accuracy binary     0.6520732 5 0.02718555 Preprocessor1_Model27\n",
       "28 28        accuracy binary     0.6520732 5 0.02718555 Preprocessor1_Model28\n",
       "29 29        accuracy binary     0.6619512 5 0.01891483 Preprocessor1_Model29\n",
       "30 30        accuracy binary     0.6619512 5 0.01891483 Preprocessor1_Model30"
      ]
     },
     "metadata": {},
     "output_type": "display_data"
    }
   ],
   "source": [
    "results <- workflow() |>\n",
    "  add_recipe(hungarian_recipe) |>\n",
    "  add_model(knn_spec) |>\n",
    "  tune_grid(resamples = hungarian_vfold, grid = tibble_made) |>\n",
    "  collect_metrics() |>\n",
    "  filter(.metric == \"accuracy\")\n",
    "\n",
    "results"
   ]
  },
  {
   "cell_type": "code",
   "execution_count": 26,
   "id": "dcd636d0-5f0c-448f-a0bb-eee1c9fcd734",
   "metadata": {},
   "outputs": [
    {
     "data": {
      "image/png": "[encoded data removed]",
      "text/plain": [
       "plot without title"
      ]
     },
     "metadata": {
      "image/png": {
       "height": 480,
       "width": 720
      }
     },
     "output_type": "display_data"
    }
   ],
   "source": [
    "cross_val_plot <- results |> \n",
    "    ggplot(aes(x = neighbors, y = mean)) +\n",
    "    geom_line() +\n",
    "    geom_point() +\n",
    "    labs(x = \"Neighbours\", y = \"Accuracy Estimate\", title = \"Estimated Accuracies of k Neighbours\") +\n",
    "    theme(text = element_text(size=20), plot.title = element_text(hjust=0.5))\n",
    "\n",
    "cross_val_plot"
   ]
  },
  {
   "cell_type": "markdown",
   "id": "e507d82c-7f5e-4c99-beba-c156f3161b66",
   "metadata": {},
   "source": [
    "Visualizing the variance of estimated accuracies of the different number of k neighbours, and observed that there is an \"elbow\" at 21, 22 where the accuracy stops increasing dramatically and begins to level down or start to decrease (Dr. Campbell)."
   ]
  },
  {
   "cell_type": "code",
   "execution_count": 27,
   "id": "d26e0bab-c046-4f3e-97b1-21fdfb424766",
   "metadata": {},
   "outputs": [
    {
     "data": {
      "text/html": [
       "<style>\n",
       ".list-inline {list-style: none; margin:0; padding: 0}\n",
       ".list-inline>li {display: inline-block}\n",
       ".list-inline>li:not(:last-child)::after {content: \"\\00b7\"; padding: 0 .5ex}\n",
       "</style>\n",
       "<ol class=list-inline><li>25</li><li>26</li></ol>\n"
      ],
      "text/latex": [
       "\\begin{enumerate*}\n",
       "\\item 25\n",
       "\\item 26\n",
       "\\end{enumerate*}\n"
      ],
      "text/markdown": [
       "1. 25\n",
       "2. 26\n",
       "\n",
       "\n"
      ],
      "text/plain": [
       "[1] 25 26"
      ]
     },
     "metadata": {},
     "output_type": "display_data"
    }
   ],
   "source": [
    "best_k <- results |>\n",
    "    filter(mean == max(mean)) |>\n",
    "    pull(neighbors)\n",
    "\n",
    "best_k"
   ]
  },
  {
   "cell_type": "markdown",
   "id": "796daf6e-1370-4f1e-9820-a3ae6c77dc9a",
   "metadata": {},
   "source": [
    "In order to get a more accuracy number for k, we filtered the previous workflow that stored the estimated accuracy of each of the picked k to get the k that has the maximum accuracy mean. It is shown to be 21 and 22, where we have picked our k to be 21 as it is already a fairly large k and a higher k might result in overfitting or increase the chance of overfitting. "
   ]
  },
  {
   "cell_type": "code",
   "execution_count": 28,
   "id": "eb4f9dff-be1c-4cd9-a130-8f105e1a85c0",
   "metadata": {},
   "outputs": [
    {
     "data": {
      "text/plain": [
       "K-Nearest Neighbor Model Specification (classification)\n",
       "\n",
       "Main Arguments:\n",
       "  neighbors = 21\n",
       "  weight_func = rectangular\n",
       "\n",
       "Computational engine: kknn \n"
      ]
     },
     "metadata": {},
     "output_type": "display_data"
    },
    {
     "data": {
      "text/plain": [
       "== Workflow [trained] ==================================================================================================\n",
       "\u001b[3mPreprocessor:\u001b[23m Recipe\n",
       "\u001b[3mModel:\u001b[23m nearest_neighbor()\n",
       "\n",
       "-- Preprocessor --------------------------------------------------------------------------------------------------------\n",
       "2 Recipe Steps\n",
       "\n",
       "* step_scale()\n",
       "* step_center()\n",
       "\n",
       "-- Model ---------------------------------------------------------------------------------------------------------------\n",
       "\n",
       "Call:\n",
       "kknn::train.kknn(formula = ..y ~ ., data = data, ks = min_rows(21,     data, 5), kernel = ~\"rectangular\")\n",
       "\n",
       "Type of response variable: nominal\n",
       "Minimal misclassification: 0.3532338\n",
       "Best kernel: rectangular\n",
       "Best k: 21"
      ]
     },
     "metadata": {},
     "output_type": "display_data"
    },
    {
     "data": {
      "text/html": [
       "<table class=\"dataframe\">\n",
       "<caption>A tibble: 1 × 2</caption>\n",
       "<thead>\n",
       "\t<tr><th scope=col>.metric</th><th scope=col>.estimate</th></tr>\n",
       "\t<tr><th scope=col>&lt;chr&gt;</th><th scope=col>&lt;dbl&gt;</th></tr>\n",
       "</thead>\n",
       "<tbody>\n",
       "\t<tr><td>accuracy</td><td>0.6666667</td></tr>\n",
       "</tbody>\n",
       "</table>\n"
      ],
      "text/latex": [
       "A tibble: 1 × 2\n",
       "\\begin{tabular}{ll}\n",
       " .metric & .estimate\\\\\n",
       " <chr> & <dbl>\\\\\n",
       "\\hline\n",
       "\t accuracy & 0.6666667\\\\\n",
       "\\end{tabular}\n"
      ],
      "text/markdown": [
       "\n",
       "A tibble: 1 × 2\n",
       "\n",
       "| .metric &lt;chr&gt; | .estimate &lt;dbl&gt; |\n",
       "|---|---|\n",
       "| accuracy | 0.6666667 |\n",
       "\n"
      ],
      "text/plain": [
       "  .metric  .estimate\n",
       "1 accuracy 0.6666667"
      ]
     },
     "metadata": {},
     "output_type": "display_data"
    },
    {
     "data": {
      "text/plain": [
       "          Truth\n",
       "Prediction  0  1\n",
       "         0 36 16\n",
       "         1  7 10"
      ]
     },
     "metadata": {},
     "output_type": "display_data"
    }
   ],
   "source": [
    "knn_best_spec <- nearest_neighbor(weight_func = \"rectangular\", neighbors = 21) |>\n",
    "  set_engine(\"kknn\") |>\n",
    "  set_mode(\"classification\")\n",
    "\n",
    "knn_best_spec\n",
    "\n",
    "hungarian_fit <- workflow() |>\n",
    "  add_recipe(hungarian_recipe) |>\n",
    "  add_model(knn_best_spec) |>\n",
    "  fit(data = hungarian_train)\n",
    "\n",
    "hungarian_fit\n",
    "\n",
    "# Get the prediction column\n",
    "hungarian_predictions <- predict(hungarian_fit, hungarian_test) |> \n",
    "    bind_cols(hungarian_test)\n",
    "\n",
    "# Compare the accuracy of predictions to the true values in the test set\n",
    "hungarian_accuracy <- hungarian_predictions |> \n",
    "    metrics(truth = diagnosis, estimate = .pred_class) |> \n",
    "    select(.metric, .estimate) |> \n",
    "    head(1)\n",
    "\n",
    "hungarian_accuracy\n",
    "\n",
    "# Compare the predictions to the true values in a confusion matrix\n",
    "hungarian_comparison <- hungarian_predictions |> \n",
    "    conf_mat(truth = diagnosis, estimate = .pred_class)\n",
    "\n",
    "hungarian_comparison"
   ]
  },
  {
   "cell_type": "code",
   "execution_count": null,
   "id": "94195d44-2cb3-4bea-99ff-959ff6f9e094",
   "metadata": {},
   "outputs": [],
   "source": []
  }
 ],
 "metadata": {
  "kernelspec": {
   "display_name": "R",
   "language": "R",
   "name": "ir"
  },
  "language_info": {
   "codemirror_mode": "r",
   "file_extension": ".r",
   "mimetype": "text/x-r-source",
   "name": "R",
   "pygments_lexer": "r",
   "version": "4.1.1"
  }
 },
 "nbformat": 4,
 "nbformat_minor": 5
}
